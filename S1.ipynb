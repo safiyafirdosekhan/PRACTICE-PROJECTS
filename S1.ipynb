{
 "cells": [
  {
   "cell_type": "markdown",
   "id": "af84fe2d",
   "metadata": {},
   "source": [
    "# SQLite "
   ]
  },
  {
   "cell_type": "markdown",
   "id": "b3e64c0f",
   "metadata": {},
   "source": [
    "Now, let's understand about SQLite, how it is going to work. Let's also understand about database, tables and SQL statements. Let's also understand how we can connect all of them, and how we will be able to load and fetch the data."
   ]
  },
  {
   "cell_type": "markdown",
   "id": "a9d7c77b",
   "metadata": {},
   "source": [
    "# Database"
   ]
  },
  {
   "cell_type": "markdown",
   "id": "418028ed",
   "metadata": {},
   "source": [
    "Firstly, let's understand why we need database, when we have Microsoft Excel, where we can store all the data. Try scrolling down, and see till where you can reach. Definitely, you cannot do that. Now, suppose the Excel file is of 2 GB size. If we want to open this file,it would take 3-4 minutes. Now, suppose we have data of 10000 students, which consists of their basic information like Student ID, Name, Middle Name, Last Name, Location, Year, Phone Number, Marks, Email, Gender and DOB. Now, multiple students can have same Name, or multiple strudents can score the same number of Marks, and Gender of the students will be either M or F only, and many students might belong to the same location, and middle name and last name can be the same for multiple students. So, we have so much of confusion here.\n",
    "\n",
    "Now, consider the following Excel sheet:-\n",
    "\n",
    "Now, suppose we want to see Anand's marks, and his Email id, and Phone Number; we apply the filter using the name \"Anand\". But the problem is that, there can be multiple students, whose name will be \"Anand\", and all their details will be displayed as well. Even if we keep on applying differnt filters, based on Middle Name, Last Name, etc., it becomes very difficult. Also, we might not get the right result back. This is where, the concept of \"Database\" comes into picture."
   ]
  },
  {
   "cell_type": "markdown",
   "id": "2a5fbb53",
   "metadata": {},
   "source": [
    "A database is an ordered collection of data. It consists of many columns, and for each column, we have \"n\" number of rows. As an example for a data base, we can consider a typical organization-level table. In any organization, they will keep the data in a database, which is used to store information like employee name, employee number, employee salary, phone number, gender, addesss, and so on."
   ]
  },
  {
   "cell_type": "markdown",
   "id": "1c186cb4",
   "metadata": {},
   "source": [
    "<b>Database:</b> A database is a collection of tables.\n",
    "\n",
    "<b>Table:</b> A table is a collection of rows and columns.\n",
    "    \n",
    "<b>Records:</b> Entries made in the table are called records."
   ]
  },
  {
   "cell_type": "markdown",
   "id": "1e8fe29c",
   "metadata": {},
   "source": [
    "Let's create a student database. Under this student database, we can create different tables like Student_name, Student_marks and Student_pers_details, so that we can store only the information, that is required in each table. By creating tables (by using database), personal information will not be compromised.\n",
    "\n",
    "(Note that, in the Excel sheet discussed earlier), when we tried to display Anand's marks, his email id and phone number, along with these things, other personal information about Anand also got displayed. This meansby using Excel, personal information will be compromised. Ofrcourse, there are ways to display only the required results, i.e., by applying filters, but it requires a lot of efforts. This is the major drawback of using Excel sheet, which can be overcome by using database).\n",
    "\n",
    "Now, consider a scenario in which the Principal wants to see Students name, Students marks, and Students email id of students, who have scored less than 35 marks, so that extra classes can be arranged for such students. Now, we need to get the email id from the table Student_pers_details, and marks from tje table Student_marks. As the email id and marks are not in the same table, we need to connect both the tables containing them. TO connect both the tables, we need to find some keys (columns), which are present in both the tables. For example, in this case, the key Student_ID is present in both the tables (The reason, we are not considering Name as the common key is that, multiple students can have the same name. So, we cannot trust this).\n",
    "\n",
    "Thus, by connecting both the tables by using the common key, i.e., Student_ID, we can fetch other details that we want, like, marks and email id.\n",
    "\n",
    "Now, we are going to fetch the required details using SQL (Structured Query Language). In SQL, we can fetch data from the tables, join the tables, etc."
   ]
  },
  {
   "cell_type": "markdown",
   "id": "e26789dc",
   "metadata": {},
   "source": [
    "<b>To work on SQL, we just need to import SQlite3 on our Jupyter Notebook.</b>"
   ]
  },
  {
   "cell_type": "markdown",
   "id": "5c840c2c",
   "metadata": {},
   "source": [
    "# Database connectivity and operations using Python"
   ]
  },
  {
   "cell_type": "markdown",
   "id": "bf7949d1",
   "metadata": {},
   "source": [
    "In a typical database, there will be many tables. Each table is a collection of collecton of rows and columns. Rows and columns are basically records. Now, if we want to extract the records, then this is where SQL comes into picture. With the help of SQL (Structured Query Language), we will be able to write SQL statements, using which, we can fetch the records, depending upon the requirement. We can fetch the records by applying conditions, or by using some range, etc. This is where SQL comes into picture.\n",
    "\n",
    "Now, let's start using SQLite by importing it from Python Notebook. Then, we will create a database. Then, we will create the table and insert the records. Finally, we will fetch the records.\n",
    "\n",
    "* We can use SQLite3 databases in Windows, Linux, Mac, OS, Android, and iOS projects due to their awesome portability."
   ]
  },
  {
   "cell_type": "markdown",
   "id": "f9603543",
   "metadata": {},
   "source": [
    "For Example, the following is the example of connecting with MySQL database \"my_database1\" and creating table grades 1 and inserting values inside it."
   ]
  },
  {
   "cell_type": "code",
   "execution_count": 3,
   "id": "c7fae464",
   "metadata": {},
   "outputs": [
    {
     "data": {
      "text/plain": [
       "<sqlite3.Cursor at 0x4b76e5ec70>"
      ]
     },
     "execution_count": 3,
     "metadata": {},
     "output_type": "execute_result"
    }
   ],
   "source": [
    "#!/usr/bin/python\n",
    "\n",
    "import sqlite3\n",
    "\n",
    "# connecting with the database.\n",
    "db = sqlite3.connect(\"my_database1.db\")\n",
    "\n",
    "# Drop table if it already exists, using execute() method.\n",
    "db.execute(\"drop table if exists grades1\")\n",
    "\n",
    "# Create table as per requiremet\n",
    "db.execute(\"create table grades1(id int, name text, score int)\")\n",
    "\n",
    "# inserting values inside the created table\n",
    "db.execute(\"insert into grades1(id, name, score) values(101, 'John', 99)\")\n",
    "db.execute(\"insert into grades1(id, name, score) values(102, 'Gary', 90)\")\n",
    "db.execute(\"insert into grades1(id, name, score) values(103, 'James', 80)\")\n",
    "db.execute(\"insert into grades1(id, name, score) values(104, 'Cathy', 85)\")\n",
    "db.execute(\"insert into grades1(id, name, score) values(105, 'Kris', 95)\")"
   ]
  },
  {
   "cell_type": "markdown",
   "id": "3f16512f",
   "metadata": {},
   "source": [
    "Now, let's understand the code above. First, we have to import sqlite3, otherwise it is not going to work. Next, we have to connect to the database, because tables will be present in the database. As there will be multiple databases, we need to specify which database we want to access. Here, we have written        \n",
    "\n",
    "db = sqlite3.connect(\"my_database1.db\")"
   ]
  },
  {
   "cell_type": "markdown",
   "id": "78f508bc",
   "metadata": {},
   "source": [
    "This is used to connect to my_database1. Now, we need to create a table, inside the database. Here, we have created or connected tot he database \"db\" (We can give any name). In SQL, if we want to execute, then we need to write db.execute and write the SQL statements, inside the parentheses, i.e., db.execute (SQL statements)."
   ]
  },
  {
   "cell_type": "markdown",
   "id": "c43ca30f",
   "metadata": {},
   "source": [
    "Now, we want to create a table grades1. But, before creating a table grades1, we have to make sure that no such table exists (because database cannot have duplicate table names). To do so, we write\n",
    "\n",
    "dbexecute(\"drop table if exists grades1\")"
   ]
  },
  {
   "cell_type": "markdown",
   "id": "7c9480f3",
   "metadata": {},
   "source": [
    "Here, it checkes if table grades1 is present in the database. If it is present, then it just drops the table, i.e., it just deletes the table."
   ]
  },
  {
   "cell_type": "markdown",
   "id": "573a4ffe",
   "metadata": {},
   "source": [
    "Now, we can create a table with the same name, as per our requirement, because the previous table was dropped (deleted), if present. If we are sure that the table, which we want to create is entirely new, then we don't need to write the line\n",
    "\n",
    "db.execute(\"drop table if exists grades1\")                                                                       "
   ]
  },
  {
   "cell_type": "markdown",
   "id": "f79c34b2",
   "metadata": {},
   "source": [
    "To create a table as per requirement, we write\n",
    "\n",
    "db.execute(\"create table grades1(id int, name text, score int)\")"
   ]
  },
  {
   "cell_type": "markdown",
   "id": "3698e737",
   "metadata": {},
   "source": [
    "Note that, we have to write the SQL statements within double quotes. Here, we have created a table grades1. Next, we have created column names, i.e., id (which should be an integer), name (which should be text), and score (which should be an integer). Based on the datatype, we can mention the column names."
   ]
  },
  {
   "cell_type": "markdown",
   "id": "14f95a9e",
   "metadata": {},
   "source": [
    "Next, we have to inset values inside the created table. To do this, we write\n",
    "\n",
    "db.execute(\"insert into grades1 (id, name, score) values(101, 'John', 99)\")"
   ]
  },
  {
   "cell_type": "markdown",
   "id": "4c906aaa",
   "metadata": {},
   "source": [
    "Here, we have specifiedthat the values have to be inserted in the column id, column name, amd cokumn score. In the same way, we can insert as many rows, as we want. The output for the code will be as follows:\n",
    "\n",
    "<sqlite3.Cursor at 0xa73c14ab0>    "
   ]
  },
  {
   "cell_type": "code",
   "execution_count": 13,
   "id": "fb39de92",
   "metadata": {},
   "outputs": [],
   "source": [
    "db.commit()"
   ]
  },
  {
   "cell_type": "code",
   "execution_count": 14,
   "id": "5c5a93fc",
   "metadata": {},
   "outputs": [
    {
     "name": "stdout",
     "output_type": "stream",
     "text": [
      "(101, 'John', 99)\n",
      "(102, 'Gary', 90)\n",
      "(103, 'James', 80)\n",
      "(104, 'Cathy', 85)\n",
      "(105, 'Kris', 95)\n",
      "------------------------------------------------------------\n"
     ]
    }
   ],
   "source": [
    "results = db.execute(\"select * from grades1 order by id\")\n",
    "\n",
    "for row in results:\n",
    "    print(row)\n",
    "print(\"-\" *60)"
   ]
  },
  {
   "cell_type": "markdown",
   "id": "82c3e12e",
   "metadata": {},
   "source": [
    "In this code, we have written db.commit(), to make sure that the data is stored in the table permanently. (.commit() is used to store data in the table permanently).\n",
    "\n",
    "Now, let's see whether data is available or not, and how to access the data. We have written,\n",
    "\n",
    "results = db.execute(\"select * from grades1 order by id\")"
   ]
  },
  {
   "cell_type": "markdown",
   "id": "b96f36ce",
   "metadata": {},
   "source": [
    "In this code \"*\" means everything. So, the line can be interpreted as select evrything from the table grades1, ordered by id. Then, we have fetched all the rsults and stored in \"results\", Next, we have used the \"for\" loop. /in the \"for\" loop, we have written for every row in results, print row. So, one-by-one all the rowa will be printed. Next, we have, print(\"-\" *60), which means that, we have to print \"-\" 60 times. This is done, just to draw a line.\n",
    "\n",
    "Next, we have executed, and the output, will be as shown above."
   ]
  },
  {
   "cell_type": "code",
   "execution_count": 18,
   "id": "c339a551",
   "metadata": {},
   "outputs": [
    {
     "name": "stdout",
     "output_type": "stream",
     "text": [
      "(102, 'Gary', 90)\n",
      "------------------------------------------------------------\n"
     ]
    }
   ],
   "source": [
    "# in this code, we are selcting everything from the table grades1, where name = 'Gary', and storing that records in \"results\". Next, we are using the \"for\" loop. In the \"for\" loop, we have written, for every row in results, print row. Then, we are printing \"-\" *60 times. The output will be as follows:\n",
    "\n",
    "results = db.execute(\"select * from grades1 where name = 'Gary'\")\n",
    "\n",
    "for row in results: \n",
    "    print(row)\n",
    "print(\"-\" *60)"
   ]
  },
  {
   "cell_type": "code",
   "execution_count": 20,
   "id": "05c8e59d",
   "metadata": {},
   "outputs": [
    {
     "name": "stdout",
     "output_type": "stream",
     "text": [
      "(101, 'John', 99)\n",
      "(102, 'Gary', 90)\n",
      "(105, 'Kris', 95)\n",
      "------------------------------------------------------------\n"
     ]
    }
   ],
   "source": [
    "# Similarly, we can apply any type of a condition\n",
    "\n",
    "# In this code, we are selcting everything from the table grades1, where score >=90\n",
    "\n",
    "results = db.execute(\"select * from grades1 where score>=90\")\n",
    "for row in results:\n",
    "    print(row)\n",
    "print(\"-\" *60) "
   ]
  },
  {
   "cell_type": "code",
   "execution_count": 21,
   "id": "fe4bf076",
   "metadata": {},
   "outputs": [
    {
     "name": "stdout",
     "output_type": "stream",
     "text": [
      "('John', 99)\n",
      "('Kris', 95)\n",
      "('Gary', 90)\n",
      "('Cathy', 85)\n",
      "('James', 80)\n",
      "------------------------------------------------------------\n"
     ]
    }
   ],
   "source": [
    "# Note that, we don't have to select all the columns, if not required. \n",
    "# In the code below, we have selected two columns, i.e., name and score from the table grades1.\n",
    "# Next, we have written order by score desc. Here, desc means order score by descending order.\n",
    "# If we don't mention \"desc\", then it will be printed in ascending order, by default.\n",
    "# If we want to see that, who scored highest, then we use descending order.\n",
    "\n",
    "results = db.execute(\"select name, score from grades1 order by score desc\")\n",
    "\n",
    "for row in results:\n",
    "    print(row)\n",
    "print(\"-\"*60)"
   ]
  },
  {
   "cell_type": "code",
   "execution_count": 22,
   "id": "262cfd90",
   "metadata": {},
   "outputs": [
    {
     "name": "stdout",
     "output_type": "stream",
     "text": [
      "************************************************************\n",
      "('James', 80)\n",
      "('Cathy', 85)\n",
      "('Gary', 90)\n",
      "('Kris', 95)\n",
      "('John', 99)\n",
      "************************************************************\n"
     ]
    }
   ],
   "source": [
    "# Now, if we don't want to print the score in descending order, then by default, it gets printed in ascending order.\n",
    "\n",
    "results = db.execute(\"select name, score from grades1 order by score\")\n",
    "\n",
    "print('*' *60)\n",
    "\n",
    "for row in results:\n",
    "    print(row)\n",
    "print(\"*\" *60)"
   ]
  },
  {
   "cell_type": "markdown",
   "id": "49e54878",
   "metadata": {},
   "source": [
    "# ---------------------------------------------------------------------------------------------------------------"
   ]
  },
  {
   "cell_type": "code",
   "execution_count": 3,
   "id": "3d6509af",
   "metadata": {},
   "outputs": [],
   "source": [
    "# Here, to create a database, we need to first connect to sqlite3. This is achieved by writing sqlite3.connect\n",
    "# Next, we have written mydatabase.db, which will check if this database exists or not.\n",
    "# If this database exists, then it will connect to it.\n",
    "# If this database does not exist, it will just create it (Here, mydatabase is the name of the database).\n",
    "# Next, we are going to instantiate the whole thing into an object \"db\"\n",
    "\n",
    "\n",
    "#!/usr/bin/python\n",
    "import sqlite3\n",
    "\n",
    "# connecting with the database 9If no database exists, it will create one)\n",
    "\n",
    "db = sqlite3.connect(\"mydatabase.db\")"
   ]
  },
  {
   "cell_type": "code",
   "execution_count": null,
   "id": "7376d161",
   "metadata": {},
   "outputs": [],
   "source": [
    "# Now, this database will be created inside the dictionary, from where we are running the Jupyter Notebook. \n",
    "# Suppose, if we want to create the database in any other folder, then we have to just specify its path.\n",
    "\n",
    "# We can create database in any folder. Just pass the path (change the slashes backward to forward)\n",
    "\n",
    "db1 = sqlite3.connect(\"C:/Users/Shankar/Desktop/Data Trained/newdb/testdb.db\")"
   ]
  },
  {
   "cell_type": "code",
   "execution_count": 4,
   "id": "e763d363",
   "metadata": {},
   "outputs": [],
   "source": [
    "# Next, to fetch the records, we have to declare the cursor.\n",
    "\n",
    "# Declare Cursor\n",
    "\n",
    "cursor = db.cursor()"
   ]
  },
  {
   "cell_type": "code",
   "execution_count": 6,
   "id": "7f6c5f88",
   "metadata": {},
   "outputs": [
    {
     "data": {
      "text/plain": [
       "<sqlite3.Cursor at 0xc4af28d880>"
      ]
     },
     "execution_count": 6,
     "metadata": {},
     "output_type": "execute_result"
    }
   ],
   "source": [
    "# Create Table\n",
    "\n",
    "# Next, to create a table, we use the syntax \"cursor.execute\".\n",
    "# Now, let's write the SQL statement (which is like English language).\n",
    "# Here, we are writing CREATE TABLE and specifying the name of the table, that we want to create \n",
    "# (scores1 is the name of the table, in this case).\n",
    "# Remember that, CREATE TABLE is the syntax.\n",
    "# Next, we want to create the columns.\n",
    "# Here, we have specified \"gender\" as a column, and we have also specified TEXT, \n",
    "# which means the gender should be in the TEXT format, i.e., either Male or Female.\n",
    "# If someone tries to enter anything, that is not in the TEXT format, \n",
    "# for example, let's say integers, then it should not accept it.\n",
    "\n",
    "# The next column is student_id\n",
    "# Here, we have specified INT, which means the student_id should always be an integer number,\n",
    "# it should not be in text fromat, or it should not contain alpha-numeric characters.\n",
    "# Next, we have written PRIMARY KEY, which means that student_id is unique.\n",
    "\n",
    "# The next column is marks, and we have to det it to INT, which means marks shouls be in integer format.\n",
    "\n",
    "# So, basically, we are adding some constraints to all these columns, \n",
    "# so that we will not have any confusion while inserting the records.\n",
    "\n",
    "\n",
    "\n",
    "cursor.execute(\"CREATE TABLE scores3(gender TEXT, student_id INT PRIMARY KEY, marks INT)\")"
   ]
  },
  {
   "cell_type": "code",
   "execution_count": 7,
   "id": "f5e430d1",
   "metadata": {},
   "outputs": [
    {
     "name": "stdout",
     "output_type": "stream",
     "text": [
      "1 Record(s) inserted\n"
     ]
    }
   ],
   "source": [
    "# So, we just created a table scores1, and we have crearted three columns for gender, student_id and marks. \n",
    "# However, the table is empty, as it does not contain any records. \n",
    "# So, we have to enter records into the table.\n",
    "\n",
    "# Here, again we hae written \"cusor.execute\", \n",
    "# because whenever we want to execute some SQL statements, then we have to use \"cursor.execute\".\n",
    "\n",
    "# Then, we have written INSERT INTO, and specified the name of the table, i.e., scores2.\n",
    "# Now, cursor will point to the table scores2. # Next, we have to specify the columns in which we want to insert the records.\n",
    "# Here, we have specified that that we want to insert into gender, sudemt_id and marks.\n",
    "# Therefore, the cursor points to the columns, i.e.m gender, student_id and marks.\n",
    "# Now, we have to give the values, that we want to insert into gender, student_id and marks.\n",
    "# We have to make sure that the values are mapped correctly. \n",
    "\n",
    "# Now, when we insert the records into the table, the table saves the data temporarily.\n",
    "# In order to save the records in that particular table permanently, we have to commit it.\n",
    "# To commit, we write \"db.commit\"\n",
    "# This saves the data permanently, until and unless we delete the data.\n",
    "\n",
    "# Now, to make sure how many records are inserted, we use \"cursor.rowcount\", \n",
    "# which counts internally how many records we have inserted.\n",
    "\n",
    "\n",
    "\n",
    "# Insert records into the table (single record inserting)\n",
    "\n",
    "cursor.execute(\"INSERT INTO scores3(gender, student_id, marks) values('Male', 100, 55)\")\n",
    "\n",
    "# Save the records permanently (If you don't commit, next time you will not see the rdcords in the table)\n",
    "\n",
    "db.commit()\n",
    "\n",
    "# Count of records inserted\n",
    "\n",
    "print(cursor.rowcount,\"Record(s) inserted\")"
   ]
  },
  {
   "cell_type": "code",
   "execution_count": 8,
   "id": "1446172e",
   "metadata": {},
   "outputs": [
    {
     "ename": "IntegrityError",
     "evalue": "UNIQUE constraint failed: scores3.student_id",
     "output_type": "error",
     "traceback": [
      "\u001b[1;31m---------------------------------------------------------------------------\u001b[0m",
      "\u001b[1;31mIntegrityError\u001b[0m                            Traceback (most recent call last)",
      "\u001b[1;32m~\\AppData\\Local\\Temp/ipykernel_4120/3317370432.py\u001b[0m in \u001b[0;36m<module>\u001b[1;34m\u001b[0m\n\u001b[0;32m      3\u001b[0m \u001b[1;31m# Due to Primary key constraint, we cannot have duplicate student_id\u001b[0m\u001b[1;33m\u001b[0m\u001b[1;33m\u001b[0m\u001b[0m\n\u001b[0;32m      4\u001b[0m \u001b[1;33m\u001b[0m\u001b[0m\n\u001b[1;32m----> 5\u001b[1;33m \u001b[0mcursor\u001b[0m\u001b[1;33m.\u001b[0m\u001b[0mexecute\u001b[0m\u001b[1;33m(\u001b[0m\u001b[1;34m\"INSERT INTO scores3(gender, student_id, marks) values('Female', 100, 60)\"\u001b[0m\u001b[1;33m)\u001b[0m\u001b[1;33m\u001b[0m\u001b[1;33m\u001b[0m\u001b[0m\n\u001b[0m",
      "\u001b[1;31mIntegrityError\u001b[0m: UNIQUE constraint failed: scores3.student_id"
     ]
    }
   ],
   "source": [
    "# Let's see if it allows to create some student_id\n",
    "\n",
    "# Due to Primary key constraint, we cannot have duplicate student_id\n",
    "\n",
    "cursor.execute(\"INSERT INTO scores3(gender, student_id, marks) values('Female', 100, 60)\")"
   ]
  },
  {
   "cell_type": "code",
   "execution_count": 9,
   "id": "3e6ae4a0",
   "metadata": {},
   "outputs": [],
   "source": [
    "cursor.execute(\"INSERT INTO scores3(gender, student_id, marks) values('Female', 101, 60)\")\n",
    "\n",
    "db.commit()"
   ]
  },
  {
   "cell_type": "markdown",
   "id": "8044e9d4",
   "metadata": {},
   "source": [
    "<b>SELECT query - How to fetch records from the table</b>"
   ]
  },
  {
   "cell_type": "markdown",
   "id": "37c8ccb1",
   "metadata": {},
   "source": [
    "To make sure that the records are inserted correctly into the table, we have to fetch the records from the table, and see it. To fetch the records from the table, we use the SELECT query."
   ]
  },
  {
   "cell_type": "code",
   "execution_count": 12,
   "id": "fbea06f4",
   "metadata": {},
   "outputs": [
    {
     "name": "stdout",
     "output_type": "stream",
     "text": [
      "('Male', 100, 55)\n",
      "('Female', 101, 60)\n"
     ]
    }
   ],
   "source": [
    "# Here, we have written SELECT * from scores1, which means it will select all the columns, i.e., gender, student_id and marks.\n",
    "# Now, suppose if we want to  select only a particular column, then we can do it, by specifying the name of the column, i.e.,\n",
    "# \"SELECT gender from scores1\" or \"SELECT student_id from scores1\" or \"SELECT marks from scores1\"\n",
    "\n",
    "\n",
    "\n",
    "results = cursor.execute(\"SELECT * from scores3\")\n",
    "\n",
    "for row in results:\n",
    "    print(row)"
   ]
  },
  {
   "cell_type": "markdown",
   "id": "b170054a",
   "metadata": {},
   "source": [
    "<b>Multiple records insertion</b>"
   ]
  },
  {
   "cell_type": "code",
   "execution_count": 13,
   "id": "1c92fc64",
   "metadata": {},
   "outputs": [
    {
     "name": "stdout",
     "output_type": "stream",
     "text": [
      "2 Record(s) inserted\n"
     ]
    }
   ],
   "source": [
    "# Till now, we inserted only a single record into the table scores1\n",
    "# Now, let's try to insert two records into the table scores1\n",
    "\n",
    "# Here, we have to specify the column anmes, where we want to insert the records only once.\n",
    "# We don't need to specify the column anmes, again and again.\n",
    "# Then, we have to specify the values the values of the records.\n",
    "# If we are going to insert two records, then we have to specify two records.\n",
    "\n",
    "\n",
    "    \n",
    "cursor.execute(\"INSERT INTO scores3(gender, student_id, marks) VALUES('Female', 102, 68), ('Female', 103, 60)\")\n",
    "\n",
    "db.commit()\n",
    "\n",
    "# Count of records inserted\n",
    "\n",
    "print(cursor.rowcount,\"Record(s) inserted\")"
   ]
  },
  {
   "cell_type": "code",
   "execution_count": 15,
   "id": "2b3cc16f",
   "metadata": {},
   "outputs": [
    {
     "name": "stdout",
     "output_type": "stream",
     "text": [
      "('Male', 100, 55)\n",
      "('Female', 101, 60)\n",
      "('Female', 102, 68)\n",
      "('Female', 103, 60)\n"
     ]
    }
   ],
   "source": [
    "# Check if we have all the records\n",
    "\n",
    "records = cursor.execute(\"SELECT * FROM scores3\")\n",
    "\n",
    "for row in results:\n",
    "    print(row)"
   ]
  },
  {
   "cell_type": "markdown",
   "id": "563d67d7",
   "metadata": {},
   "source": [
    "<b>Note that, SQL is not case-sensitive. Therefore, we don't need to worry about the cases, while writing the SQL statements.</b>"
   ]
  },
  {
   "cell_type": "code",
   "execution_count": 18,
   "id": "817d8f48",
   "metadata": {},
   "outputs": [
    {
     "name": "stdout",
     "output_type": "stream",
     "text": [
      "(100, 55)\n",
      "(101, 60)\n",
      "(102, 68)\n",
      "(103, 60)\n"
     ]
    }
   ],
   "source": [
    "# Next, we want to see the marks of students along with their id (irrespective of their gender).\n",
    "\n",
    "# Selecting only particular columns\n",
    "\n",
    "results = cursor.execute(\"SELECT student_id, marks from scores3\")\n",
    "\n",
    "for row in results:\n",
    "    print(row)"
   ]
  },
  {
   "cell_type": "markdown",
   "id": "6b17e1ab",
   "metadata": {},
   "source": [
    "Note that, it is possible to insert a small number of records into the table. But, if we have thousands of records to be inserted into the table (the client has sent us some files. In these files, there are thousands of records, and the client has asked us to load the records into the table, so that others can access the data. In any organization, they maintain a repository, i.e., databases, where they keep dumping all the records, because the data stored in the repository can be accesses by the employees, residing in different cities, or the employees may be working in different deoartments).\n",
    "\n",
    "Now the question arises, how do we load the data, which is stored in a file. The file could be an Excel file or CSV file. Here, CSV file stands for \"Comma separarted values file\".\n",
    "\n",
    "Now, consider the following CSV file:-"
   ]
  },
  {
   "cell_type": "raw",
   "id": "2706175e",
   "metadata": {},
   "source": [
    "\n",
    "\n",
    "\n",
    "\n",
    "\n",
    "\n",
    "\n",
    "\n",
    "\n",
    "\n",
    "\n",
    "\n",
    "\n",
    "\n",
    "\n",
    "\n",
    "\n",
    "\n",
    "\n",
    "\n",
    "\n",
    "\n",
    "\n",
    "\n",
    "\n",
    "\n",
    "\n",
    "\n"
   ]
  },
  {
   "cell_type": "raw",
   "id": "0278185f",
   "metadata": {},
   "source": [
    "Here, the first column is gender, second column is student_id and third column is marks.\n",
    "\n",
    "Now, open the Notepad. Next, drag the file scores_file. Now, all the records are printed in the notepad, but each value is separated by a \"comma\". This is why, it is known as a CSV file (Comma separated values file).\n",
    "\n",
    "Male,104,56\n",
    "Male,105,78\n",
    "Female,106,36\n",
    "Male,107,20\n",
    "Female,108,98\n",
    "Male,109,85\n",
    "Female,110,69\n",
    "Male,111,46\n",
    "Female,112,66\n",
    "Male,113,91\n",
    "Male,114,48\n",
    "Male,115,56\n",
    "Female,116,67\n",
    "Male,117,78\n",
    "Male,118,89\n",
    "Male,119,32\n",
    "Female,120,44"
   ]
  },
  {
   "cell_type": "markdown",
   "id": "7e80bb38",
   "metadata": {},
   "source": [
    "<b>Inserting records from file (CSV):-</b>"
   ]
  },
  {
   "cell_type": "code",
   "execution_count": 21,
   "id": "08caa2b9",
   "metadata": {},
   "outputs": [
    {
     "ename": "IntegrityError",
     "evalue": "UNIQUE constraint failed: scores3.student_id",
     "output_type": "error",
     "traceback": [
      "\u001b[1;31m---------------------------------------------------------------------------\u001b[0m",
      "\u001b[1;31mIntegrityError\u001b[0m                            Traceback (most recent call last)",
      "\u001b[1;32m~\\AppData\\Local\\Temp/ipykernel_7068/3135597013.py\u001b[0m in \u001b[0;36m<module>\u001b[1;34m\u001b[0m\n\u001b[0;32m     35\u001b[0m     \u001b[0mno_records\u001b[0m \u001b[1;33m=\u001b[0m \u001b[1;36m0\u001b[0m\u001b[1;33m\u001b[0m\u001b[1;33m\u001b[0m\u001b[0m\n\u001b[0;32m     36\u001b[0m     \u001b[1;32mfor\u001b[0m \u001b[0mrow\u001b[0m \u001b[1;32min\u001b[0m \u001b[0mfile\u001b[0m\u001b[1;33m:\u001b[0m\u001b[1;33m\u001b[0m\u001b[1;33m\u001b[0m\u001b[0m\n\u001b[1;32m---> 37\u001b[1;33m         \u001b[0mcursor\u001b[0m\u001b[1;33m.\u001b[0m\u001b[0mexecute\u001b[0m\u001b[1;33m(\u001b[0m\u001b[1;34m\"INSERT INTO scores3 VALUES(?,?,?)\"\u001b[0m\u001b[1;33m,\u001b[0m \u001b[0mrow\u001b[0m\u001b[1;33m.\u001b[0m\u001b[0msplit\u001b[0m\u001b[1;33m(\u001b[0m\u001b[1;34m\",\"\u001b[0m\u001b[1;33m)\u001b[0m\u001b[1;33m)\u001b[0m\u001b[1;33m\u001b[0m\u001b[1;33m\u001b[0m\u001b[0m\n\u001b[0m\u001b[0;32m     38\u001b[0m \u001b[1;33m\u001b[0m\u001b[0m\n\u001b[0;32m     39\u001b[0m         \u001b[0mdb\u001b[0m\u001b[1;33m.\u001b[0m\u001b[0mcommit\u001b[0m\u001b[1;33m(\u001b[0m\u001b[1;33m)\u001b[0m\u001b[1;33m\u001b[0m\u001b[1;33m\u001b[0m\u001b[0m\n",
      "\u001b[1;31mIntegrityError\u001b[0m: UNIQUE constraint failed: scores3.student_id"
     ]
    }
   ],
   "source": [
    "# Now, we have a CSV file. How do we load the CSV file data intomour console, i.e., environment.\n",
    "# For this, we are using the \"with\" option\n",
    "\n",
    "# Here, we have written with open('scores_file.csv','r') as file.\n",
    "# Note that, here score_file is the name of the file.\n",
    "# We have to make sure that a CSV file ends with .csv\n",
    "# Next, we want to read the file. \n",
    "# This is achieved by specifying 'r'\n",
    "# Also, we have written \"as file\" which means we can directly refer our file, as it will directly refer the scores_file.\n",
    "# In the \"as file\", the file can be replaced with any other name.\n",
    "\n",
    "# Nexr, we are setting the number of records to zero.\n",
    "\n",
    "# Next, while inserting the rcords, we have not specified the names of the columns, where we want to insert the records.\n",
    "# As we have not specified the names of the columns, \n",
    "# it will interpret that the user wants to insert the records in all the columns.\n",
    "# If we don't specify the names of the columns, \n",
    "# then by default, it will understand that the user wants to insert the records in all the columns.\n",
    "\n",
    "# Next, we have written row.split(\",\"), which means we have to split the rows, and insert comma, in between the values.\n",
    "\n",
    "# Next, to save the record, we have written db.commit()\n",
    "# Now, we have added \"1\" to the no_records.\n",
    "\n",
    "# When we execute the program, no_records will become 1.\n",
    "# Then, the control will go back, as it is a \"for\" loop.\n",
    "\n",
    "# The no_records will then become 2 and the \"for\" loop is executed again.\n",
    "# Then, the same process will be continued, till we reach the last record.\n",
    "# After that, it will come out of the \"for\" loop, and the print statement gets executed.\n",
    "\n",
    "\n",
    "\n",
    "with open('C:\\ProgramData\\Scores_file.csv','r') as file:\n",
    "    no_records = 0\n",
    "    for row in file:\n",
    "        cursor.execute(\"INSERT INTO scores3 VALUES(?,?,?)\", row.split(\",\"))\n",
    "        \n",
    "        db.commit()\n",
    "        no_records += 1\n",
    "        \n",
    "# db.close()\n",
    "print(no_records, 'Records Inserted')"
   ]
  },
  {
   "cell_type": "code",
   "execution_count": 22,
   "id": "e783cd89",
   "metadata": {},
   "outputs": [
    {
     "name": "stdout",
     "output_type": "stream",
     "text": [
      "('Male', 100, 55)\n",
      "('Female', 101, 60)\n",
      "('Female', 102, 68)\n",
      "('Female', 103, 60)\n",
      "('Male', 104, 56)\n",
      "('Male', 105, 78)\n",
      "('Female', 106, 36)\n",
      "('Male', 107, 20)\n",
      "('Female', 108, 98)\n",
      "('Male', 109, 85)\n",
      "('Female', 110, 69)\n",
      "('Male', 111, 46)\n",
      "('Female', 112, 66)\n",
      "('Male', 113, 91)\n",
      "('Male', 114, 48)\n",
      "('Male', 115, 56)\n",
      "('Female', 116, 67)\n",
      "('Male', 117, 78)\n",
      "('Male', 118, 89)\n",
      "('Male', 119, 32)\n",
      "('Female', 120, 44)\n"
     ]
    }
   ],
   "source": [
    "# Now, we have all the records.\n",
    "# We just need to fetch the records.\n",
    "\n",
    "result = cursor.execute(\"SELECT * from scores3\")\n",
    "for row in result:\n",
    "    print(row)"
   ]
  },
  {
   "cell_type": "markdown",
   "id": "4afae5b7",
   "metadata": {},
   "source": [
    "<b>WHERE Clause - Select records based on conditions:-</b>"
   ]
  },
  {
   "cell_type": "code",
   "execution_count": 9,
   "id": "68b49342",
   "metadata": {},
   "outputs": [
    {
     "name": "stdout",
     "output_type": "stream",
     "text": [
      "('Male', 104, 56)\n"
     ]
    }
   ],
   "source": [
    "sql = \"SELECT * FROM scores3 WHERE student_id = 104\"\n",
    "\n",
    "result = cursor.execute(sql)\n",
    "for row in result:\n",
    "    print(row)"
   ]
  },
  {
   "cell_type": "markdown",
   "id": "cbc7c4de",
   "metadata": {},
   "source": [
    "<b>DELETE records - How to delete unwanted records:-</b>"
   ]
  },
  {
   "cell_type": "markdown",
   "id": "1acd47bf",
   "metadata": {},
   "source": [
    "Usually Developers / Data Scientists are not authorized to delete any records from the table. Database Admin does these kind of tasks."
   ]
  },
  {
   "cell_type": "code",
   "execution_count": 10,
   "id": "7ada15ac",
   "metadata": {},
   "outputs": [
    {
     "data": {
      "text/plain": [
       "<sqlite3.Cursor at 0xe5c0d2fc70>"
      ]
     },
     "execution_count": 10,
     "metadata": {},
     "output_type": "execute_result"
    }
   ],
   "source": [
    "# Note that, here we have used db.commit(), because whenever we delete something (just like we insert something),\n",
    "# the changes are temporary.\n",
    "# To make the change permanently, we have to commit it.\n",
    "# Remember that, there is no need to commit, when we are just fetching the records.\n",
    "\n",
    "\n",
    "\n",
    "sql = \"DELETE FROM scores3 where student_id = 104\"\n",
    "\n",
    "db.commit()\n",
    "cursor.execute(sql)"
   ]
  },
  {
   "cell_type": "code",
   "execution_count": 11,
   "id": "beda895e",
   "metadata": {},
   "outputs": [
    {
     "name": "stdout",
     "output_type": "stream",
     "text": [
      "('Male', 100, 55)\n",
      "('Female', 101, 60)\n",
      "('Female', 102, 68)\n",
      "('Female', 103, 60)\n",
      "('Male', 105, 78)\n",
      "('Female', 106, 36)\n",
      "('Male', 107, 20)\n",
      "('Female', 108, 98)\n",
      "('Male', 109, 85)\n",
      "('Female', 110, 69)\n",
      "('Male', 111, 46)\n",
      "('Female', 112, 66)\n",
      "('Male', 113, 91)\n",
      "('Male', 114, 48)\n",
      "('Male', 115, 56)\n",
      "('Female', 116, 67)\n",
      "('Male', 117, 78)\n",
      "('Male', 118, 89)\n",
      "('Male', 119, 32)\n",
      "('Female', 120, 44)\n"
     ]
    }
   ],
   "source": [
    "# Now, to make sure that the record whose student_id is 104 is deleted or not, \n",
    "# we have to fetch the records, and check whether the record with student_id 104 is deleted or not.\n",
    "\n",
    "\n",
    "\n",
    "result = cursor.execute(\"SELECT * FROM scores3\")\n",
    "\n",
    "for row in result:\n",
    "    print(row)"
   ]
  },
  {
   "cell_type": "markdown",
   "id": "341a0194",
   "metadata": {},
   "source": [
    "<B>ORDER BY:-</b>"
   ]
  },
  {
   "cell_type": "code",
   "execution_count": 12,
   "id": "e7d55b1a",
   "metadata": {},
   "outputs": [
    {
     "name": "stdout",
     "output_type": "stream",
     "text": [
      "('Female', 108, 98)\n",
      "('Male', 113, 91)\n",
      "('Male', 118, 89)\n",
      "('Male', 109, 85)\n",
      "('Male', 105, 78)\n",
      "('Male', 117, 78)\n",
      "('Female', 110, 69)\n",
      "('Female', 102, 68)\n",
      "('Female', 116, 67)\n",
      "('Female', 112, 66)\n",
      "('Female', 101, 60)\n",
      "('Female', 103, 60)\n",
      "('Male', 115, 56)\n",
      "('Male', 100, 55)\n",
      "('Male', 114, 48)\n",
      "('Male', 111, 46)\n",
      "('Female', 120, 44)\n",
      "('Female', 106, 36)\n",
      "('Male', 119, 32)\n",
      "('Male', 107, 20)\n"
     ]
    }
   ],
   "source": [
    "# Now, we want to know the student who has scored the highest number of marks (Arrange the marks in descending order).\n",
    "\n",
    "# How to change the order of records (increasing or decreasing)\n",
    "\n",
    "# Here, ORDER BY is the syntax, which is followed by the name of the column (marks, in this case).\n",
    "# Next, we have specified \"desc\", which means the marks will be arranged in descending order.\n",
    "\n",
    "\n",
    "\n",
    "result = cursor.execute(\"SELECT * FROM scores3 ORDER BY marks desc\")\n",
    "\n",
    "for row in result:\n",
    "    print(row)"
   ]
  },
  {
   "cell_type": "code",
   "execution_count": 14,
   "id": "b4e88a46",
   "metadata": {},
   "outputs": [
    {
     "name": "stdout",
     "output_type": "stream",
     "text": [
      "('Male', 107, 20)\n",
      "('Male', 119, 32)\n",
      "('Female', 106, 36)\n",
      "('Female', 120, 44)\n",
      "('Male', 111, 46)\n",
      "('Male', 114, 48)\n",
      "('Male', 100, 55)\n",
      "('Male', 115, 56)\n",
      "('Female', 101, 60)\n",
      "('Female', 103, 60)\n",
      "('Female', 112, 66)\n",
      "('Female', 116, 67)\n",
      "('Female', 102, 68)\n",
      "('Female', 110, 69)\n",
      "('Male', 105, 78)\n",
      "('Male', 117, 78)\n",
      "('Male', 109, 85)\n",
      "('Male', 118, 89)\n",
      "('Male', 113, 91)\n",
      "('Female', 108, 98)\n"
     ]
    }
   ],
   "source": [
    "# Now, let's arrange the marks in ascending order.\n",
    "\n",
    "# Note that, we can skip \"asc\", and simply write, \n",
    "# result = cursor.execute(\"SELECT * FROM scores3 ORDER BY marks\")\n",
    "\n",
    "\n",
    "\n",
    "result = cursor.execute(\"SELECT * FROM scores3 ORDER BY marks asc\")\n",
    "\n",
    "for row in result:\n",
    "    print(row)"
   ]
  },
  {
   "cell_type": "markdown",
   "id": "3b4d38d2",
   "metadata": {},
   "source": [
    "<b>UPDATE table - Update the column value:-</b>"
   ]
  },
  {
   "cell_type": "markdown",
   "id": "aad46344",
   "metadata": {},
   "source": [
    "* <b>Note -</b> Always specify the name of the table after using UPDATE (Don't specify the name of the column).                                    "
   ]
  },
  {
   "cell_type": "code",
   "execution_count": 17,
   "id": "3cdd570e",
   "metadata": {},
   "outputs": [
    {
     "data": {
      "text/plain": [
       "<sqlite3.Cursor at 0xe5c0d2fc70>"
      ]
     },
     "execution_count": 17,
     "metadata": {},
     "output_type": "execute_result"
    }
   ],
   "source": [
    "# Single Record update\n",
    "\n",
    "\n",
    "sql = \"UPDATE scores3 SET marks = 50 WHERE student_id = 107\"\n",
    "\n",
    "cursor.execute(sql)"
   ]
  },
  {
   "cell_type": "code",
   "execution_count": 18,
   "id": "22bcf250",
   "metadata": {},
   "outputs": [
    {
     "name": "stdout",
     "output_type": "stream",
     "text": [
      "('Male', 107, 50)\n"
     ]
    }
   ],
   "source": [
    "# Check is marks are updated for the paticular student_ID.\n",
    "\n",
    "sql = \"SELECT * FROM scores3 WHERE student_id = 107\"\n",
    "\n",
    "result = cursor.execute(sql)\n",
    "for row in result:\n",
    "    print(row)"
   ]
  },
  {
   "cell_type": "code",
   "execution_count": 4,
   "id": "e6f30037",
   "metadata": {},
   "outputs": [
    {
     "data": {
      "text/plain": [
       "<sqlite3.Cursor at 0x875fb7e960>"
      ]
     },
     "execution_count": 4,
     "metadata": {},
     "output_type": "execute_result"
    }
   ],
   "source": [
    "# Multiple records update using 'IN'\n",
    "\n",
    "\n",
    "sql = \"UPDATE scores3 SET marks = 35 WHERE student_id IN(107, 119)\"\n",
    "cursor.execute(sql)"
   ]
  },
  {
   "cell_type": "code",
   "execution_count": 5,
   "id": "9b9874a6",
   "metadata": {},
   "outputs": [
    {
     "name": "stdout",
     "output_type": "stream",
     "text": [
      "('Male', 100, 55)\n",
      "('Female', 101, 60)\n",
      "('Female', 102, 68)\n",
      "('Female', 103, 60)\n",
      "('Male', 104, 56)\n",
      "('Male', 105, 78)\n",
      "('Female', 106, 36)\n",
      "('Male', 107, 35)\n",
      "('Female', 108, 98)\n",
      "('Male', 109, 85)\n",
      "('Female', 110, 69)\n",
      "('Male', 111, 46)\n",
      "('Female', 112, 66)\n",
      "('Male', 113, 91)\n",
      "('Male', 114, 48)\n",
      "('Male', 115, 56)\n",
      "('Female', 116, 67)\n",
      "('Male', 117, 78)\n",
      "('Male', 118, 89)\n",
      "('Male', 119, 35)\n",
      "('Female', 120, 44)\n"
     ]
    }
   ],
   "source": [
    "# Verify if its updated\n",
    "\n",
    "\n",
    "result = cursor.execute(\"SELECT * FROM scores3 ORDER BY student_id\")\n",
    "\n",
    "for row in result:\n",
    "    print(row)"
   ]
  },
  {
   "cell_type": "code",
   "execution_count": 7,
   "id": "dcfb569e",
   "metadata": {},
   "outputs": [
    {
     "data": {
      "text/plain": [
       "<sqlite3.Cursor at 0x875fb7e960>"
      ]
     },
     "execution_count": 7,
     "metadata": {},
     "output_type": "execute_result"
    }
   ],
   "source": [
    "# Update records using BETWEEN (This will update all the records between the range given).\n",
    "\n",
    "# Note that, while using UPDATE, there's no need to commit it.\n",
    "\n",
    "sql = \"UPDATE scores3 SET marks = 66 WHERE student_id BETWEEN 107 AND 110\"\n",
    "\n",
    "cursor.execute(sql)"
   ]
  },
  {
   "cell_type": "code",
   "execution_count": 9,
   "id": "4fc75f49",
   "metadata": {},
   "outputs": [
    {
     "name": "stdout",
     "output_type": "stream",
     "text": [
      "('Male', 100, 55)\n",
      "('Female', 101, 60)\n",
      "('Female', 102, 68)\n",
      "('Female', 103, 60)\n",
      "('Male', 104, 56)\n",
      "('Male', 105, 78)\n",
      "('Female', 106, 36)\n",
      "('Male', 107, 66)\n",
      "('Female', 108, 66)\n",
      "('Male', 109, 66)\n",
      "('Female', 110, 66)\n",
      "('Male', 111, 46)\n",
      "('Female', 112, 66)\n",
      "('Male', 113, 91)\n",
      "('Male', 114, 48)\n",
      "('Male', 115, 56)\n",
      "('Female', 116, 67)\n",
      "('Male', 117, 78)\n",
      "('Male', 118, 89)\n",
      "('Male', 119, 35)\n",
      "('Female', 120, 44)\n"
     ]
    }
   ],
   "source": [
    "# Verify if its updated\n",
    "\n",
    "result = cursor.execute(\"SELECT * FROM scores3 ORDER BY student_id\")\n",
    "\n",
    "for row in result:\n",
    "    print(row)"
   ]
  },
  {
   "cell_type": "markdown",
   "id": "fb43c43f",
   "metadata": {},
   "source": [
    "# MIN and MAX Functions"
   ]
  },
  {
   "cell_type": "markdown",
   "id": "c87d3bcc",
   "metadata": {},
   "source": [
    "Previously, when we wanted to see who scored the highest number of marks, we arranged the marks in descending order, by using ORDER BY. Now, suppose we have 10,000 students, and we want to find the highest scorer. Now, by using ORDER BY, we have to fetch all the 10,000 records, just to find out the highest scorer. This does'nt make any sense. This is where, the MIN and MAX functions comes into picture."
   ]
  },
  {
   "cell_type": "code",
   "execution_count": 14,
   "id": "c7aa7242",
   "metadata": {},
   "outputs": [
    {
     "name": "stdout",
     "output_type": "stream",
     "text": [
      "Minimum Marks =  (35,)\n",
      "Maximum Marks =  (91,)\n"
     ]
    }
   ],
   "source": [
    "# In the code below, fetchone() is used,\n",
    "# because there might be multiple students who might have scored the minimum and maximum marks.\n",
    "# We don't want to see all of them.\n",
    "# We just want to see the minumum and maximum marks.\n",
    "\n",
    "\n",
    "# MIN\n",
    "\n",
    "result = cursor.execute(\"SELECT MIN(marks) FROM scores3\")\n",
    "\n",
    "print('Minimum Marks = ', result.fetchone())\n",
    "\n",
    "\n",
    "# MAX\n",
    "\n",
    "result = cursor.execute(\"SELECT MAX(marks) FROM scores3\")\n",
    "\n",
    "print('Maximum Marks = ', result.fetchone())"
   ]
  },
  {
   "cell_type": "markdown",
   "id": "7309f530",
   "metadata": {},
   "source": [
    "# Subquery"
   ]
  },
  {
   "cell_type": "markdown",
   "id": "6d8032e4",
   "metadata": {},
   "source": [
    "A SQL query inside another SQL query is known as a subquery."
   ]
  },
  {
   "cell_type": "code",
   "execution_count": 4,
   "id": "05bdc34e",
   "metadata": {},
   "outputs": [],
   "source": [
    "# Now, let's create a new database.\n",
    "\n",
    "db = sqlite3.connect(\"student_course_database.db\")"
   ]
  },
  {
   "cell_type": "code",
   "execution_count": 5,
   "id": "41ad5b64",
   "metadata": {},
   "outputs": [],
   "source": [
    "# Next, let's declare the cursor\n",
    "\n",
    "cur = db.cursor()"
   ]
  },
  {
   "cell_type": "code",
   "execution_count": 7,
   "id": "6e08213f",
   "metadata": {},
   "outputs": [
    {
     "data": {
      "text/plain": [
       "<sqlite3.Cursor at 0x4b71e46110>"
      ]
     },
     "execution_count": 7,
     "metadata": {},
     "output_type": "execute_result"
    }
   ],
   "source": [
    "# Now, let's create a table course4\n",
    "\n",
    "# Here, courseid, coursename and duration are the column names.\n",
    "# Also we have specified that,\n",
    "# courseid is the primary key,\n",
    "# coursename should be in text format, and\n",
    "# duration should be of type int.\n",
    "\n",
    "\n",
    "\n",
    "cur.execute(\"create table course4(courseid int primary key, coursename text, duration int)\")"
   ]
  },
  {
   "cell_type": "code",
   "execution_count": 9,
   "id": "ce34b654",
   "metadata": {},
   "outputs": [
    {
     "data": {
      "text/plain": [
       "<sqlite3.Cursor at 0x4b71e46110>"
      ]
     },
     "execution_count": 9,
     "metadata": {},
     "output_type": "execute_result"
    }
   ],
   "source": [
    "# Let's create one more table student4. \n",
    "# Here, roll_no is the primary key and is of type int, \n",
    "# studentname should be in text format,\n",
    "# age is of type int, \n",
    "# courseid is of type int, \n",
    "# courseid is the foreign key, in the table course1\n",
    "# (references course1 means in the table course1), and in that courseid is the key.\n",
    "\n",
    "\n",
    "\n",
    "cur.execute(\"create table student4(roll_no int primary key, studentname text, age int, courseid int, foreign key(courseid) references course1(courseid))\")"
   ]
  },
  {
   "cell_type": "markdown",
   "id": "eeb7e83d",
   "metadata": {},
   "source": [
    "* To understand the concept of foreign key, consider the student database. The student database consists of two tables Student_name and Student_pers_details. Now, suppose we want to access Location and Year from the table Student_name, and Phone number and Email from the table Student_pers_details. Now, to connect both the tables, i.e., Student_name and Student_pers_details, there should be some common key, i.e., column. Here, the common key, i.e., column is student ID. Here, the key (column), student acts as a connector between the two tables.\n",
    "\n",
    "Here, the first table, i.e., the table Student_name is known as the parent table, and the second table, i.e., the table Student_pers_details is known as the child table. The column which connects both the tables is the primary key, and contains only unique keys (values).\n",
    "\n",
    "In the parent table, the unique keys are known as primary keys and the unique keys present in the child table are known as foreign keys. "
   ]
  },
  {
   "cell_type": "raw",
   "id": "bcc5d547",
   "metadata": {},
   "source": [
    "\n",
    "\n",
    "\n",
    "\n",
    "\n",
    "\n",
    "\n",
    "\n",
    "\n",
    "\n",
    "\n",
    "\n",
    "\n",
    "\n",
    "\n",
    "\n",
    "\n",
    "\n",
    "\n",
    "\n",
    "\n",
    "\n",
    "\n",
    "\n",
    "\n",
    "\n",
    "\n",
    "\n",
    "\n",
    "\n",
    "\n",
    "\n",
    "\n"
   ]
  },
  {
   "cell_type": "code",
   "execution_count": null,
   "id": "2db59143",
   "metadata": {},
   "outputs": [],
   "source": [
    "Now, we need to map Student ID from the table Student_name to Student ID from the table"
   ]
  },
  {
   "cell_type": "markdown",
   "id": "a0cd4d07",
   "metadata": {},
   "source": [
    "* Note that, now we have two tables student4 and course4. Here, courseid is the primary key in the table student4, and courseid is the foreign key in the table student4. Thus, the key courseid is the common key across both the tables."
   ]
  },
  {
   "cell_type": "code",
   "execution_count": 10,
   "id": "c98ab7f6",
   "metadata": {},
   "outputs": [
    {
     "name": "stdout",
     "output_type": "stream",
     "text": [
      "3 record(s) inserted\n"
     ]
    }
   ],
   "source": [
    "# Now, let's insert data into the table course4. \n",
    "# Note that, if we don't specify the column names, it assumes that data is to be entered into all the columns.\n",
    "\n",
    "\n",
    "cur.execute(\"insert into course4 values(78, 'Data science', 12), (56, 'Python course', 4), (101, 'Database', 7)\")\n",
    "\n",
    "print(cur.rowcount, \"record(s) inserted\")\n",
    "\n",
    "db.commit;"
   ]
  },
  {
   "cell_type": "code",
   "execution_count": 11,
   "id": "c86b87bc",
   "metadata": {},
   "outputs": [
    {
     "name": "stdout",
     "output_type": "stream",
     "text": [
      "4 record(s) inserted\n"
     ]
    }
   ],
   "source": [
    "# Now, let's insert data into the table student4\n",
    "\n",
    "\n",
    "cur.execute(\"insert into student4 values(1, 'Jack', 22, 78), (2, 'John', 21, 56), (3, 'Rudolf', 18, 78), (4, 'Jim', 21, 56)\")\n",
    "\n",
    "print(cur.rowcount, \"record(s) inserted\")\n",
    "\n",
    "db.commit;"
   ]
  },
  {
   "cell_type": "markdown",
   "id": "ad55edee",
   "metadata": {},
   "source": [
    "* <b>Note that, it is not necessary that both the tables should contain equal number of records.</b>"
   ]
  },
  {
   "cell_type": "markdown",
   "id": "95ae113b",
   "metadata": {},
   "source": [
    "* fetchall() is used to fetch all the records from the table."
   ]
  },
  {
   "cell_type": "code",
   "execution_count": 12,
   "id": "bd5f034c",
   "metadata": {},
   "outputs": [
    {
     "data": {
      "text/plain": [
       "[(78, 'Data science', 12), (56, 'Python course', 4), (101, 'Database', 7)]"
      ]
     },
     "execution_count": 12,
     "metadata": {},
     "output_type": "execute_result"
    }
   ],
   "source": [
    "results = cur.execute('select * from course4')\n",
    "\n",
    "results.fetchall()"
   ]
  },
  {
   "cell_type": "code",
   "execution_count": 14,
   "id": "1d0e167e",
   "metadata": {},
   "outputs": [
    {
     "data": {
      "text/plain": [
       "[(1, 'Jack', 22, 78),\n",
       " (2, 'John', 21, 56),\n",
       " (3, 'Rudolf', 18, 78),\n",
       " (4, 'Jim', 21, 56)]"
      ]
     },
     "execution_count": 14,
     "metadata": {},
     "output_type": "execute_result"
    }
   ],
   "source": [
    "results = cur.execute('select * from student4')\n",
    "\n",
    "results.fetchall()"
   ]
  },
  {
   "cell_type": "code",
   "execution_count": 18,
   "id": "261188cc",
   "metadata": {},
   "outputs": [
    {
     "name": "stdout",
     "output_type": "stream",
     "text": [
      "(78,)\n"
     ]
    }
   ],
   "source": [
    "results = cur.execute('select courseid from course4 where coursename = \"Data science\"')\n",
    "                      \n",
    "for i in results:\n",
    "    print(i)"
   ]
  },
  {
   "cell_type": "code",
   "execution_count": 19,
   "id": "d3f00c15",
   "metadata": {},
   "outputs": [
    {
     "data": {
      "text/plain": [
       "[(1, 'Jack', 22, 78), (3, 'Rudolf', 18, 78)]"
      ]
     },
     "execution_count": 19,
     "metadata": {},
     "output_type": "execute_result"
    }
   ],
   "source": [
    "# In this code, we have written \"select * from student4\", which means it selects everything.\n",
    "# Next, we have written \"where courseid = \". \n",
    "# But, we have not specified any value. Therefore, it is incomplete.\n",
    "# Thus, we are going to get that value from the following query, that is written within the parentheses.\n",
    "# This is known as subquery (query inside a query).\n",
    "# Now, to get the value, we write a query within the parentheses, known as subquery.\n",
    "# Now, we have written \"select courseid from course4 where coursename = \"Data science\")')\n",
    "\n",
    "\n",
    "results = cur.execute('select * from student4 where courseid = (select courseid from course4 where coursename = \"Data science\")')\n",
    "\n",
    "results.fetchall()"
   ]
  },
  {
   "cell_type": "code",
   "execution_count": 20,
   "id": "0f5963f5",
   "metadata": {},
   "outputs": [
    {
     "data": {
      "text/plain": [
       "[(2, 'John', 21, 56), (4, 'Jim', 21, 56)]"
      ]
     },
     "execution_count": 20,
     "metadata": {},
     "output_type": "execute_result"
    }
   ],
   "source": [
    "results = cur.execute('select * from student4 where courseid = (select courseid from course4 where coursename = \"Python course\")')\n",
    "\n",
    "results.fetchall()"
   ]
  },
  {
   "cell_type": "raw",
   "id": "1c714b68",
   "metadata": {},
   "source": [
    "\n",
    "\n",
    "\n",
    "\n",
    "\n",
    "\n",
    "\n",
    "\n",
    "\n",
    "\n",
    "\n"
   ]
  },
  {
   "cell_type": "markdown",
   "id": "8160729c",
   "metadata": {},
   "source": [
    "# Join"
   ]
  },
  {
   "cell_type": "markdown",
   "id": "354765b0",
   "metadata": {},
   "source": [
    "# Different types of SQL JOINs"
   ]
  },
  {
   "cell_type": "markdown",
   "id": "a535cb15",
   "metadata": {},
   "source": [
    "<b>1. (INNER) JOIN:</b> Returns records that have matching values in both tables."
   ]
  },
  {
   "cell_type": "markdown",
   "id": "a8b26763",
   "metadata": {},
   "source": [
    "<b>2. LEFT (OUTER JOIN):</b> Returns all records from the left table, and the matched records from the right table."
   ]
  },
  {
   "cell_type": "markdown",
   "id": "e365a337",
   "metadata": {},
   "source": [
    "<b>3. RIGHT (OUTER JOIN):</b> Returns all records from the right table, and the matched records from the left table."
   ]
  },
  {
   "cell_type": "markdown",
   "id": "8fee8f9d",
   "metadata": {},
   "source": [
    "<b>4. FULL (OUTER) JOIN:</b> Returns all records, when there is a match in either left or right table."
   ]
  },
  {
   "attachments": {
    "image.png": {
     "image/png": "[encoded data removed]"
    }
   },
   "cell_type": "markdown",
   "id": "2adb1b76",
   "metadata": {},
   "source": [
    "![image.png](attachment:image.png)"
   ]
  },
  {
   "cell_type": "code",
   "execution_count": null,
   "id": "1a7b293b",
   "metadata": {},
   "outputs": [],
   "source": [
    "# Now, let's create one more table\n",
    "\n",
    "cursor.execute(\"CREATE TABLE studentsf(student_name TEXT, student_id INT PRIMARY KEY, phone_number INT)\")\n",
    "\n",
    "cursor.execute(\"INSERT INTO studentsf(student_name, student_id, phone_number) VALUES('Sachin', 105, 4555545555), ('Virat', 113, 5999959999, ('Rohit', 100, 6888868888), ('Sindhu', 106, 7666676666), ('Usha', 102, 9888898888)\")\n",
    "db.commit()"
   ]
  },
  {
   "cell_type": "code",
   "execution_count": null,
   "id": "cfc1f6af",
   "metadata": {},
   "outputs": [],
   "source": [
    "# Verify if records are inserted\n",
    "\n",
    "result = cursor.execute(\"SELECT * FROM students\")\n",
    "\n",
    "print('Name Stud_ID Phone_Num\\n========================================')\n",
    "\n",
    "for row in result:\n",
    "    print(row)"
   ]
  },
  {
   "cell_type": "code",
   "execution_count": 20,
   "id": "41b50cfd",
   "metadata": {},
   "outputs": [
    {
     "name": "stdout",
     "output_type": "stream",
     "text": [
      "('Male', 100, 55)\n",
      "('Female', 101, 60)\n",
      "('Female', 102, 68)\n",
      "('Female', 103, 60)\n",
      "('Male', 104, 56)\n",
      "('Male', 105, 78)\n",
      "('Female', 106, 36)\n",
      "('Male', 107, 20)\n",
      "('Female', 108, 98)\n",
      "('Male', 109, 85)\n",
      "('Female', 110, 69)\n",
      "('Male', 111, 46)\n",
      "('Female', 112, 66)\n",
      "('Male', 113, 91)\n",
      "('Male', 114, 48)\n",
      "('Male', 115, 56)\n",
      "('Female', 116, 67)\n",
      "('Male', 117, 78)\n",
      "('Male', 118, 89)\n",
      "('Male', 119, 32)\n",
      "('Female', 120, 44)\n"
     ]
    }
   ],
   "source": [
    "# Now, let's display the table scores4, which we have already created\n",
    "\n",
    "result = cursor.execute(\"SELECT * FROM scores3\")\n",
    "\n",
    "for row in result:\n",
    "    print(row)"
   ]
  },
  {
   "cell_type": "markdown",
   "id": "f6f46fb3",
   "metadata": {},
   "source": [
    "* Now, we have two tables, i.e., students and scores3. In both the tables, we have a common key, i.e., student_ID"
   ]
  },
  {
   "cell_type": "raw",
   "id": "828b183e",
   "metadata": {},
   "source": [
    "\n",
    "\n",
    "\n",
    "\n",
    "\n",
    "\n",
    "\n",
    "\n",
    "\n"
   ]
  },
  {
   "cell_type": "markdown",
   "id": "9c9d6e95",
   "metadata": {},
   "source": [
    "# INNER JOIN"
   ]
  },
  {
   "cell_type": "code",
   "execution_count": null,
   "id": "4a054780",
   "metadata": {},
   "outputs": [],
   "source": [
    "# Now, consider the following code. \n",
    "# Here, we have written \"students.student_id\", which means we have to select student_id from the table students. \n",
    "# Next, we have written \"students.student_name\", which means we have to select student_name from the table students.\n",
    "# Next, we have written \"scores3.gender\", which means we have to select gender from the table scores3.\n",
    "# Next, we have written \"scores3.marks\", which means we have to select marks from the table scores3.\n",
    "# This means, we have selected four columns (two columns from the table students and two columns from the table scores3).\n",
    "\n",
    "# Next, we have written \"FROM scores3 INNER JOIN students ON students.student_id = scores3,student_id\"\n",
    "# which is used to inner join the table scores3 with the table students, \n",
    "# based on the condition student_id from the table students is equal to (\"=\") student_id from the table scores3.\n",
    "\n",
    "\n",
    "\n",
    "sql = \"SELECT students.student_id, student.student_name, scores3.gender, scores3.marks FROM scores3 INNER JOIN students ON students.student_id = scores3.student_id\"\n",
    "\n",
    "result = cursor.execute(sql)\n",
    "\n",
    "for row in result:\n",
    "    print(row)"
   ]
  },
  {
   "cell_type": "markdown",
   "id": "f0014985",
   "metadata": {},
   "source": [
    "* Observe that, only these student_id's are present in both the tables.\n",
    "\n",
    "Now, the concept of INNER JOIN would be clear. Irrespective of the number of records present in table1 and table2, the records which are matching (common) in both the tables, based on some condition, are fetched and displayed."
   ]
  },
  {
   "cell_type": "markdown",
   "id": "48041fe7",
   "metadata": {},
   "source": [
    "# LEFT JOIN"
   ]
  },
  {
   "cell_type": "code",
   "execution_count": null,
   "id": "318463e5",
   "metadata": {},
   "outputs": [],
   "source": [
    "# Here. we have fetched all the first (i.e., left) table records first.\n",
    "# Then, we have fetched matching records from the second (i.e., right) table.\n",
    "\n",
    "# As we can see from the output, the student_id's100, 102, 105, 106 and 113 are present in both the tables.\n",
    "# Therefore, they are fetched.\n",
    "# Next, all the remaining records from the table1 are fetched, \n",
    "# but \"None, None\" is returned because these student_id's and names are not present in the table2.\n",
    "\n",
    "\n",
    "\n",
    "\n",
    "sql = \"SELECT students.student_id, student.student_name, scores3.gender, scores3.marks FROM scores3 LEFT JOIN students ON students.student_id = scores3.student_id\"\n",
    "\n",
    "result = cursor.execute(sql)\n",
    "\n",
    "for row in result:\n",
    "    print(row)"
   ]
  },
  {
   "cell_type": "markdown",
   "id": "edc1b270",
   "metadata": {},
   "source": [
    "<b>RIGHT JOIN and FULL OUTER JOIN are not supported in SQLite3.</b>"
   ]
  },
  {
   "cell_type": "markdown",
   "id": "6c7d1b03",
   "metadata": {},
   "source": [
    "# DROP TABLE"
   ]
  },
  {
   "cell_type": "markdown",
   "id": "38558a30",
   "metadata": {},
   "source": [
    "Now, suppose we have tens of tables in a database, and we have copied data from one table to another table (for privacy purposes). Now, we want to delete the original table, from which we have copied the data. To perform this task, we use \"DROP TABLE\" followed by the name of the table."
   ]
  },
  {
   "cell_type": "code",
   "execution_count": 24,
   "id": "2858d411",
   "metadata": {},
   "outputs": [
    {
     "data": {
      "text/plain": [
       "<sqlite3.Cursor at 0x2313cdd810>"
      ]
     },
     "execution_count": 24,
     "metadata": {},
     "output_type": "execute_result"
    }
   ],
   "source": [
    "# Here, we dropped (deleted) the table scores3\n",
    "\n",
    "sql = \"DROP TABLE scores3\"\n",
    "\n",
    "cursor.execute(sql)"
   ]
  },
  {
   "cell_type": "code",
   "execution_count": null,
   "id": "e5e979d4",
   "metadata": {},
   "outputs": [],
   "source": [
    "# Here, we dropped (deleted) the table students\n",
    "\n",
    "sql = \"DROP TABLE students\"\n",
    "\n",
    "cursor.execute(sql)"
   ]
  },
  {
   "cell_type": "markdown",
   "id": "10187ae1",
   "metadata": {},
   "source": [
    "* Now, we have to close the database (i.e., we are basically taking out the cursor from the database). Once we write, db.close(), we cannot select (fetch) any records, because access to the database is closed.\n",
    "\n",
    "Now, if we want to fetch the records from the database, we have to start from the beginning (by defining the cursor). We already have the tables created within the database. IUf we just want to write some queries, then we have to connect to the database."
   ]
  },
  {
   "cell_type": "markdown",
   "id": "969a73e8",
   "metadata": {},
   "source": [
    "* <b>We can delete the database directly from the folder, where we have created.</b>"
   ]
  },
  {
   "cell_type": "markdown",
   "id": "adff2ded",
   "metadata": {},
   "source": [
    "* <b>We can use DROP followed by the name of the database to drop (delete) it.</b>"
   ]
  },
  {
   "cell_type": "markdown",
   "id": "59802d6c",
   "metadata": {},
   "source": [
    "# Task"
   ]
  },
  {
   "cell_type": "code",
   "execution_count": null,
   "id": "d73881e8",
   "metadata": {},
   "outputs": [],
   "source": [
    "create a table with below column names\n",
    "emp_id, salary, gender, age"
   ]
  },
  {
   "cell_type": "code",
   "execution_count": null,
   "id": "b465ba03",
   "metadata": {},
   "outputs": [],
   "source": [
    "load below data into the table,\n",
    "emp_id = 100001 to 100010\n",
    "salary = 202000, 30200, 45200, 20600, 90200, 70200, 15200, 4520, 345600, 874200\n",
    "gender = 'M', 'F', 'M', 'M', 'F', 'M', 'M', 'F', 'M', 'F'\n",
    "age = 25, 35, 20, 35, 47, 50, 24, 25, 52, 32"
   ]
  },
  {
   "cell_type": "code",
   "execution_count": null,
   "id": "e623ee26",
   "metadata": {},
   "outputs": [],
   "source": [
    "1. fetch all the rows from the table by order (emp_id)           \n",
    "2. fetch all the qows where salary >= 25000            \n",
    "3. fetch all the rows based on 'F'           \n",
    "4. print the highest salary and respective emp_id and gender     \n",
    "5. print only age based on highest salary."
   ]
  },
  {
   "cell_type": "markdown",
   "id": "6903dda8",
   "metadata": {},
   "source": [
    "# MCQ's"
   ]
  },
  {
   "cell_type": "markdown",
   "id": "0fc8760f",
   "metadata": {},
   "source": [
    "<b>1.</b> What is ORDER BY in SQL?          \n",
    "a. The ORDER BY condition will return the records, where expression is within the range of value1 and value2.      \n",
    "b. The ORDER BY clause in SQL Server creates a new table (not physical) by combining rows that have matching values in two or more tables.           \n",
    "c. The ORDER BY statement in SQL specifies that a SQL SELECt statement partitions result rows into groups, based on their values in one or several columns.       \n",
    "d. The ORDER BY keyword is used to sort the result-set in ascending or descending order.\n",
    "\n",
    "<b>Ans:</b> d"
   ]
  },
  {
   "cell_type": "markdown",
   "id": "26ce9686",
   "metadata": {},
   "source": [
    "<b>2.</b> Write SQL to insert values 100, 200 in column1, column2 respectively into the table \"my_table\".      \n",
    "a. \"insert values(100, 200) (column1, column2) into my_table\"           \n",
    "b. \"insert into my_table(column1, column2) values(100, 200)\"        \n",
    "c. \"insert into (column1, column2) values(100, 200) into my_table\"         \n",
    "d. \"insert into my_table(column1, column2) (100, 200)\"\n",
    "\n",
    "<b>Ans:</b> b"
   ]
  },
  {
   "cell_type": "markdown",
   "id": "74bc4c8f",
   "metadata": {},
   "source": [
    "<b>3.</b> Write SQL to fetch only column1 and column2 from table 'my_table'.           \n",
    "a. SELECT COLUMN1, COLUMN2 FROM my_table          \n",
    "b. SELECT FIRST_2_COLUMNS FROM my_table  \n",
    "c. SELECT ROWS FROM COLUMN1, COLUMN2 FROM my_table         \n",
    "d. None of the Above     \n",
    "\n",
    "<b>Ans:</b> a"
   ]
  },
  {
   "cell_type": "markdown",
   "id": "94caf9fd",
   "metadata": {},
   "source": [
    "<b>4.</b> Which SQL statement is correct to fetch all columns from tables \"my_table\"        \n",
    "a. SELECT ALL_COLUMNS FROM my_table        \n",
    "b. SELECT * FROM my_table        \n",
    "c. SELECT colkumn1, column2 FROM my_table          \n",
    "d. None of the Above\n",
    "\n",
    "<b>Ans:</b> b"
   ]
  },
  {
   "cell_type": "markdown",
   "id": "3c8dbb39",
   "metadata": {},
   "source": [
    "# Object Oriented Programming"
   ]
  },
  {
   "cell_type": "markdown",
   "id": "7e8c3ac3",
   "metadata": {},
   "source": [
    "Object Oriented Programming (OOP) is a programming paradigm, that allows abstraction through the concept of interacting entities. This programming works contradictory to conventional model and is procedural, in which programs are organized as a sequence of commands or statements to perform.\n",
    "\n",
    "We can think of an object as an entity that resides in memory, has a state and it's able to perform some actions.\n",
    "\n",
    "More formally, objects are entities that represent \"Instances\" of a general abstarct concept, called \"Class\". In Python, \"attributes\" are the variables defining an object state and the possible actions are called \"methods\".\n",
    "\n",
    "In Python, everything is an object, also classes and functions."
   ]
  },
  {
   "cell_type": "markdown",
   "id": "71c12df4",
   "metadata": {},
   "source": [
    "* Class is used to keep related things together."
   ]
  },
  {
   "cell_type": "markdown",
   "id": "d44e18d8",
   "metadata": {},
   "source": [
    "In layman's term, a class can be considered as a blueprint. As an analogy, suppose we want to construct a house. Then, we need to take permission from local authorities, to build the house. The local authoriities give the permission by looking at the blueprint, the size of the plot, the number of storeys, etc.\n",
    "\n",
    "Here, house will be the class. The living space, bedroom and kitchen, that are present in the house are called methods (Methods are functions, that are defined within a class)."
   ]
  },
  {
   "cell_type": "markdown",
   "id": "a01a0976",
   "metadata": {},
   "source": [
    "# 1. How to define classes"
   ]
  },
  {
   "cell_type": "markdown",
   "id": "0d49bcf4",
   "metadata": {},
   "source": [
    "# 1.1. Creating a class"
   ]
  },
  {
   "cell_type": "markdown",
   "id": "d0f98131",
   "metadata": {},
   "source": [
    "Suppose, we want to create a class named Person, as a prototype, a sort of template for any number of 'Person' objects (instances). \n",
    "\n",
    "The following Python syntax defines a class:"
   ]
  },
  {
   "cell_type": "raw",
   "id": "dbd10602",
   "metadata": {},
   "source": [
    "class ClassName(base_classes):\n",
    "    statements"
   ]
  },
  {
   "cell_type": "markdown",
   "id": "3fdd7b72",
   "metadata": {},
   "source": [
    "Class names should always be uppercase (it's a naming convention).\n",
    "                                        \n",
    "Say, we need to model a Person as \n",
    "* Name\n",
    "* Surname\n",
    "* Age                                       "
   ]
  },
  {
   "cell_type": "code",
   "execution_count": 2,
   "id": "7b9fc66e",
   "metadata": {},
   "outputs": [
    {
     "name": "stdout",
     "output_type": "stream",
     "text": [
      "<__main__.Person object at 0x00000011CF992100>\n",
      "Alec Baldwin was born in 1958.\n"
     ]
    }
   ],
   "source": [
    "# Now, let's create a class Person.\n",
    "# Here, the class Person has three parameters \"Name\", \"Surname\" and \"Age\". \n",
    "# Here, we are writing \"pass\", because we don't want to perform any operation. \n",
    "# Thus, Python will just \"Pass\" (it will not give any error).\n",
    "\n",
    "# Now, we are going to instantiate the class Person into one of the object \"john_doe\"\n",
    "# So now, whenever we want to refer a name, we write \"john_doe.name\", and we are going to assign the name.\n",
    "# Whenever we want to refer a surname, we write \"john_doe.surname\", and we are going to assign the surname.\n",
    "# Similarly, whenever we want to refer the year of birth, we write \"john_doe.year_of_birth\", \n",
    "# and we are going to assign the year_of_birth.\n",
    "\n",
    "# Now, we \"print\" john_doe (which is a kind of an object).\n",
    "\n",
    "# In the second print statement, the first %s will take the name (which is a string),\n",
    "# the second %s will take the surname (which is a string),\n",
    "# and %d will take the year of birth (which are digits).\n",
    "\n",
    "# The last % will make sure that each % (i.e., %s, %s and %d) will occupy the respective names.\n",
    "\n",
    "\n",
    "\n",
    "class Person:\n",
    "    pass\n",
    "\n",
    "john_doe = Person()\n",
    "john_doe.name = \"Alec\"\n",
    "john_doe.surname = \"Baldwin\"\n",
    "john_doe.year_of_birth = 1958\n",
    "\n",
    "print(john_doe)\n",
    "\n",
    "print(\"%s %s was born in %d.\" %\n",
    "      (john_doe.name, john_doe.surname, john_doe.year_of_birth))"
   ]
  },
  {
   "cell_type": "markdown",
   "id": "10f87f37",
   "metadata": {},
   "source": [
    "The above example defines an empty class (i.e., the class does'nt have a state) called Person, then creates a Person instance called john_doe, and adds three attributes to john_doe. We see that, we can access objects attributes using the \"dot\" operator."
   ]
  },
  {
   "cell_type": "code",
   "execution_count": 3,
   "id": "fbc1972a",
   "metadata": {},
   "outputs": [],
   "source": [
    "# Now, let us extend this class with some objects.\n",
    "# So, let us create some objects.\n",
    "# Consider the code below:-\n",
    "\n",
    "\n",
    "class Person:\n",
    "    def __init__(self, name, surname, year_of_birth):\n",
    "        self.name = name\n",
    "        self.surname = surname\n",
    "        self.year_of_birth = year_of_birth"
   ]
  },
  {
   "cell_type": "markdown",
   "id": "6ec5c5ef",
   "metadata": {},
   "source": [
    "In the code above, everything written within the class Person is called an \"object constructor\"."
   ]
  },
  {
   "cell_type": "raw",
   "id": "2dbbc7c0",
   "metadata": {},
   "source": [
    "__init__(self,...)       \n",
    "is a special Python method, that is automatically called, after an object construction. Its purpose is to initialize every object state. The first argument (by convention) self is automatically passed either and refers to the object itself.\n",
    "\n",
    "In the preceding example, __init__ adds three attributes to every object, that is instantiated. So, the class is actually describing each object's state. \n",
    "\n",
    "As self is automatically passed and refers to the object itself, so whenever we want to print name, surname or year_of_birth, we don't need to call everything individually. We can just refer to \"self\", and start printing the required data, i.e., name, surname or year_of_birth, or all of them. So, just by referring to \"self\", we can import all the data. Next, we assign (initialize) the data, using the \"dot\" operator, i.e.,   \n",
    "\n",
    "self.name = name     \n",
    "self.surname = surname        \n",
    "self.year_of_birth = year_of_birth"
   ]
  },
  {
   "cell_type": "markdown",
   "id": "863a847f",
   "metadata": {},
   "source": [
    "Now, let's consider a real-time use case. To better understand this, let's login to our Amazon account. Whenever we login to our Amazon account, and click on our Account, we get to see information like \"Your Orders\", \"Login & Security\", \"Prime\", \"Your Addresses\", \"Payment Options\" and \"Amazon Pay Balance\". Here, Amazon can be considered as a class and \"Your Orders\", \"Login & Security\", \"Prime\", \"Your Addresses\", \"Payment Options\" and \"Amazon Pay Balance\" can be considered as methods.\n",
    "\n",
    "Now, when we click on \"Login & Security\" tile, we will be shown some information like, \"Name\", \"Email\", \"Mobile Phone Number\" and \"Password\". The information contained in the \"Name\", \"Email\", \"Mobile Phone Number\" and \"Password\" are provided by us only previously.Now, when we are clicking on the \"Login & Security\" tile, we are clicking on one of the methods, and the information related to \"Login & Security\" gets displayed.\n",
    "\n",
    "Now, if we click on some other method, say \"Payment Options\", then the Payment related information gets displayed.\n",
    "\n",
    "Likewise, we can click on any of the methods, and get the information related to it displayed."
   ]
  },
  {
   "cell_type": "markdown",
   "id": "637dfce6",
   "metadata": {},
   "source": [
    "Now, consider the following code:-"
   ]
  },
  {
   "cell_type": "code",
   "execution_count": 4,
   "id": "707ff180",
   "metadata": {},
   "outputs": [],
   "source": [
    "# print('one line\\n\\tnew line')"
   ]
  },
  {
   "cell_type": "code",
   "execution_count": 5,
   "id": "c3946fca",
   "metadata": {},
   "outputs": [],
   "source": [
    "# For more date formats visit ==> https://docs.python.org/3.7/library/datetime.html\n",
    "\n",
    "from datetime import datetime"
   ]
  },
  {
   "cell_type": "code",
   "execution_count": 6,
   "id": "3f644735",
   "metadata": {},
   "outputs": [],
   "source": [
    "class Employee:\n",
    "    def __init__(self, name, date_of_joining, salary, phone_number, gender, email, location, date_of_birth):\n",
    "        \n",
    "        self.name = name\n",
    "        self.date_of_joining = datetime.strptime(date_of_joining, '%b %d %Y')\n",
    "        self.salary = salary\n",
    "        self.phone_number = phone_number\n",
    "        self.gender = gender\n",
    "        self.email = email\n",
    "        self.location = location\n",
    "        self.date_of_birth = datetime.strptime(date_of_joining, '%b %d %Y')\n",
    "    \n",
    "    \n",
    "    def emp_personal_info(self):\n",
    "        print('Name = ',self.name, '\\nDate of Birth = ',self.date_of_birth,'\\nPhone Number = ',self.phone_number,'\\nGender = ',self.gender)\n",
    "        \n",
    "    \n",
    "    def salary_hike(self):\n",
    "        if self.salary < 8000:\n",
    "            print(\"Your New Salary is= \", self.salary + (self.salary*0.3))\n",
    "            \n",
    "        \n",
    "        elif self.salary > 8000:\n",
    "            print(\"your New Salary is= \", self.salary + (self.salary*0.15))"
   ]
  },
  {
   "cell_type": "markdown",
   "id": "bd9b564b",
   "metadata": {},
   "source": [
    "In the code above, we have created a class Employee. When the employee joins an organization, the employee is expected to provide the basic details, like name, date_of_joining, salary, phone_number, gender, email, location and date_of_birth.\n",
    "\n",
    "In the code above, we have used __init__(self...) to initialize all the data. Here, we use \"self.\" to retrieve the data, when required. The advantage of registering (initializing) the data is that, we can retrieve only the data, that is required (instead of writing the entire details of the data, that we want to retrieve). This is achieved by using \"self.\". By using \"self.\", we can retrieve all of the information, or only a part of it, that is required. Now, by calling \"self\", it will enable all the information that we have initialixed to it.\n",
    "\n",
    "Next, we have defined a method emp_personal_info. Now, whenever someone wants to see the details about the emp_personal_info, and if they click on a particular employee's information, then control will hit the method emp_personal_info. In this method, we have defined emp_personal_info and written \"self.\". When we write \"self\", all the information, related to the employee is enabled. Now, all the information, related to the employee can be used. But, we can choose the data, that we want to show to others. Here, to print name, we have used \"self.name\", because \"self.name\" is nothing but the name that we have passed.\n",
    "Similarly, to print \"Date of Birth\", \"Phone Number\" and \"Gender\", we have used self.date_of_birth, self.phone_number and self.gender.\n",
    "\n",
    "Next, we have defined a method salary_hike. In this method, we want to increase the salary of employees, whose salary is less than 8000 by 30%, and the salary of the employees, whose salary is more than 8000 by 15%."
   ]
  },
  {
   "cell_type": "markdown",
   "id": "d7bdc18c",
   "metadata": {},
   "source": [
    "<b>Note:</b> In the code above, while initializing the data, we have used \"datetime\", which we have imported. Then, we have written \"strptime\", which is used to separate the data, according to date, month and year. Next, we have provided the format for the date, i.e., %b %d %Y (there is no need to remember it. We can refer to the following link to get all the information.\n",
    "\n",
    "<b>https://docs.python.org/3.7/library/datetime.html</b>\n",
    "\n",
    "Therefore, the exact time will be stripped, and it will be registered (initialized) in the date_of_joining."
   ]
  },
  {
   "cell_type": "code",
   "execution_count": 7,
   "id": "529b0057",
   "metadata": {},
   "outputs": [
    {
     "name": "stdout",
     "output_type": "stream",
     "text": [
      "Name =  Rahul \n",
      "Date of Birth =  2021-01-01 00:00:00 \n",
      "Phone Number =  988988988 \n",
      "Gender =  M\n"
     ]
    }
   ],
   "source": [
    "# Till now, we have created a class Employee.\n",
    "# Now, we have to create an object, i.e., we have to instantiate the class Employee into one object.\n",
    "# Here, we are going to pass all the information, and create an object \"emp\"\n",
    "\n",
    "# Now, when we want to retrieve the data, we can just make use of the object \"emp\"\n",
    "# Here, we have used the object \"emp\" to print the emp_personal_info() and salary_hike()\n",
    "# Here, as we have specified the salary of employee as 7000, therefore, it gets incremented by 30%, as it is less than 8000.\n",
    "# Now, the new salary of the employee will be 9100.0\n",
    "\n",
    "\n",
    "\n",
    "emp = Employee('Rahul', 'Jan 01 2021', 7000, 988988988, 'M', 'rahul@class.com', 'Bengaluru', 'Dec 31 2000')\n",
    "\n",
    "emp.emp_personal_info()"
   ]
  },
  {
   "cell_type": "code",
   "execution_count": 8,
   "id": "81895da4",
   "metadata": {},
   "outputs": [
    {
     "name": "stdout",
     "output_type": "stream",
     "text": [
      "Your New Salary is=  9100.0\n"
     ]
    }
   ],
   "source": [
    "emp.salary_hike()"
   ]
  },
  {
   "cell_type": "markdown",
   "id": "e28ff5c5",
   "metadata": {},
   "source": [
    "# ---------------------------------------------------------------------------------------------------------------"
   ]
  },
  {
   "cell_type": "code",
   "execution_count": 9,
   "id": "765036ed",
   "metadata": {},
   "outputs": [
    {
     "name": "stdout",
     "output_type": "stream",
     "text": [
      "<__main__.Person object at 0x00000011CF99B1F0>\n",
      "Alec Baldwin was born in 1958.\n"
     ]
    }
   ],
   "source": [
    "# We cannot directly manipulate any class, rather we need to create an instance of the class\n",
    "\n",
    "\n",
    "alec = Person(\"Alec\", \"Baldwin\", 1958)\n",
    "\n",
    "print(alec)\n",
    "\n",
    "print(\"%s %s was born in %d.\" %\n",
    "      (john_doe.name, john_doe.surname, john_doe.year_of_birth))"
   ]
  },
  {
   "cell_type": "markdown",
   "id": "a98dc9c2",
   "metadata": {},
   "source": [
    "We have created an instance of the Person class, bound to the variable alec. This is not a good method of dealing with this kind of a data."
   ]
  },
  {
   "cell_type": "markdown",
   "id": "eba6262f",
   "metadata": {},
   "source": [
    "# Inheritance"
   ]
  },
  {
   "cell_type": "markdown",
   "id": "f67ad2a6",
   "metadata": {},
   "source": [
    "While joining an organization, an employee provides all the basic details about him, like name, date_of_joining, salary, phone_number, gender, email, location and date_of_birth. But, the employee cannot decide his employee ID. The employee ID will be issued by the  organization. Now, the employee ID has to be tagged to the particular employee. To do this, we cannot re-write the code or manipulate it, as it is time-consuming. This is where inheritance comes into picture. We are going to inherit the employee information, i.e., we are going to take all the employee information, and on top of that, we will add Employee ID."
   ]
  },
  {
   "cell_type": "code",
   "execution_count": 10,
   "id": "f3074664",
   "metadata": {},
   "outputs": [],
   "source": [
    "# Here, we have created a new class Employee_ID, because we want to add employee ID  on top of all the employee information.\n",
    "# That is why, we have called our old class Employee here, to fetch all the employee information.\n",
    "\n",
    "# Now, we have to establish a connection between employee and employee_ID\n",
    "# To do this, we have registered (initialized) emp_id, and we have used *args, \n",
    "# which means we are ready to accept all the arguments, i.e., all the information \n",
    "# (because we have no idea, how many arguments, class employee has and we don't want to count it).\n",
    "\n",
    "# Next, we have used \"super\" to establish a connection between employee and employee id\n",
    "# Also we have initialized *args and we have registered emp_id to self.emp_id\n",
    "\n",
    "# Next, we have defined a method emp_detail, to get the employee details.\n",
    "# Here, we want to see the employee_ID with name.\n",
    "# So, we have called \"self\", which contains Employee ID as well as all the other information regarding employee.\n",
    "\n",
    "\n",
    " \n",
    "\n",
    "class Employee_ID(Employee):\n",
    "    \n",
    "    def __init__(self, emp_id, *args):\n",
    "        \n",
    "        super(Employee_ID, self).__init__(*args)\n",
    "        \n",
    "        self.emp_id = emp_id\n",
    "        \n",
    "        \n",
    "        \n",
    "    def emp_detail(self):\n",
    "        \n",
    "        print(\"Employee ID is= \", self.emp_id,\"\\nEmployee name is= \", self.name)"
   ]
  },
  {
   "cell_type": "code",
   "execution_count": 13,
   "id": "acb4379a",
   "metadata": {},
   "outputs": [],
   "source": [
    "# Now, we have created an object emp_det with the class Employee_ID\n",
    "\n",
    "\n",
    "emp_det = Employee_ID(12345, 'Rahul', 'Jan 01 2021', 9000, 988988988, 'M', 'rahul@class.com', 'Bengaluru', 'Dec 31 2000')"
   ]
  },
  {
   "cell_type": "code",
   "execution_count": 14,
   "id": "371e5c93",
   "metadata": {},
   "outputs": [
    {
     "name": "stdout",
     "output_type": "stream",
     "text": [
      "Employee ID is=  12345 \n",
      "Employee name is=  Rahul\n"
     ]
    }
   ],
   "source": [
    "# Lastly, we have called the object and method, i.e., emp_det.emp_detail()\n",
    "\n",
    "\n",
    "emp_det.emp_detail()"
   ]
  },
  {
   "cell_type": "markdown",
   "id": "7a9566ff",
   "metadata": {},
   "source": [
    "<b>Note:</b> While passing the data, even if we miss a single data element, we get an error message. This is illustrated in the code below:-"
   ]
  },
  {
   "cell_type": "code",
   "execution_count": 18,
   "id": "cc1e8092",
   "metadata": {},
   "outputs": [
    {
     "ename": "TypeError",
     "evalue": "__init__() missing 1 required positional argument: 'date_of_birth'",
     "output_type": "error",
     "traceback": [
      "\u001b[1;31m---------------------------------------------------------------------------\u001b[0m",
      "\u001b[1;31mTypeError\u001b[0m                                 Traceback (most recent call last)",
      "\u001b[1;32m~\\AppData\\Local\\Temp/ipykernel_6112/805216929.py\u001b[0m in \u001b[0;36m<module>\u001b[1;34m\u001b[0m\n\u001b[0;32m      5\u001b[0m \u001b[1;33m\u001b[0m\u001b[0m\n\u001b[0;32m      6\u001b[0m \u001b[1;33m\u001b[0m\u001b[0m\n\u001b[1;32m----> 7\u001b[1;33m \u001b[0memp_det\u001b[0m \u001b[1;33m=\u001b[0m \u001b[0mEmployee_ID\u001b[0m\u001b[1;33m(\u001b[0m\u001b[1;36m12345\u001b[0m\u001b[1;33m,\u001b[0m \u001b[1;34m'Jan 01 2021'\u001b[0m\u001b[1;33m,\u001b[0m \u001b[1;36m9000\u001b[0m\u001b[1;33m,\u001b[0m \u001b[1;36m988988988\u001b[0m\u001b[1;33m,\u001b[0m \u001b[1;34m'M'\u001b[0m\u001b[1;33m,\u001b[0m \u001b[1;34m'rahul@class.com'\u001b[0m\u001b[1;33m,\u001b[0m \u001b[1;34m'Bengaluru'\u001b[0m\u001b[1;33m,\u001b[0m \u001b[1;34m'Dec 31 2000'\u001b[0m\u001b[1;33m)\u001b[0m\u001b[1;33m\u001b[0m\u001b[1;33m\u001b[0m\u001b[0m\n\u001b[0m",
      "\u001b[1;32m~\\AppData\\Local\\Temp/ipykernel_6112/2872308711.py\u001b[0m in \u001b[0;36m__init__\u001b[1;34m(self, emp_id, *args)\u001b[0m\n\u001b[0;32m     23\u001b[0m     \u001b[1;32mdef\u001b[0m \u001b[0m__init__\u001b[0m\u001b[1;33m(\u001b[0m\u001b[0mself\u001b[0m\u001b[1;33m,\u001b[0m \u001b[0memp_id\u001b[0m\u001b[1;33m,\u001b[0m \u001b[1;33m*\u001b[0m\u001b[0margs\u001b[0m\u001b[1;33m)\u001b[0m\u001b[1;33m:\u001b[0m\u001b[1;33m\u001b[0m\u001b[1;33m\u001b[0m\u001b[0m\n\u001b[0;32m     24\u001b[0m \u001b[1;33m\u001b[0m\u001b[0m\n\u001b[1;32m---> 25\u001b[1;33m         \u001b[0msuper\u001b[0m\u001b[1;33m(\u001b[0m\u001b[0mEmployee_ID\u001b[0m\u001b[1;33m,\u001b[0m \u001b[0mself\u001b[0m\u001b[1;33m)\u001b[0m\u001b[1;33m.\u001b[0m\u001b[0m__init__\u001b[0m\u001b[1;33m(\u001b[0m\u001b[1;33m*\u001b[0m\u001b[0margs\u001b[0m\u001b[1;33m)\u001b[0m\u001b[1;33m\u001b[0m\u001b[1;33m\u001b[0m\u001b[0m\n\u001b[0m\u001b[0;32m     26\u001b[0m \u001b[1;33m\u001b[0m\u001b[0m\n\u001b[0;32m     27\u001b[0m         \u001b[0mself\u001b[0m\u001b[1;33m.\u001b[0m\u001b[0memp_id\u001b[0m \u001b[1;33m=\u001b[0m \u001b[0memp_id\u001b[0m\u001b[1;33m\u001b[0m\u001b[1;33m\u001b[0m\u001b[0m\n",
      "\u001b[1;31mTypeError\u001b[0m: __init__() missing 1 required positional argument: 'date_of_birth'"
     ]
    }
   ],
   "source": [
    "# Note that, it is showing that \"date_of_birth\" is missing, whereas in reality \"name\" is missing.\n",
    "# This happens because it cannot exactly figure out what exactly is missing.\n",
    "# It will just throw some error.\n",
    "\n",
    "\n",
    "\n",
    "emp_det = Employee_ID(12345, 'Jan 01 2021', 9000, 988988988, 'M', 'rahul@class.com', 'Bengaluru', 'Dec 31 2000')"
   ]
  },
  {
   "cell_type": "raw",
   "id": "131a62f2",
   "metadata": {},
   "source": [
    "Employee is one of the base classes of Employee_ID, and Employee_ID is one of the sub-classes of Employee. Be aware, that a sub-class knows about its super-classes, but the converse is'nt true.\n",
    "\n",
    "A sub-class does'nt only inherit from its base classes, but from its base classes too, forming an inheruatance tree, that starts from an object (every class base class)."
   ]
  },
  {
   "cell_type": "markdown",
   "id": "cde26105",
   "metadata": {},
   "source": [
    "<b>super(class, instance)</b>"
   ]
  },
  {
   "cell_type": "raw",
   "id": "88b5ce2f",
   "metadata": {},
   "source": [
    "is a function that returns a proxy-object, that delegates method calls to a parent or sibling class of type. So, we used it to access Person's __init__\n",
    "\n",
    "super() gives ypu access to methods in a superclass from the subclass that inherits from it.\n",
    "\n",
    "super() alone returns a temporary object of the superclass, that then, allows you to call that superclass's methods.\n",
    "\n",
    "Why do you want to do any of this? While the possibilities are limited by your imagination, a common use case is building classes that extend the functionality of previously built classes.\n",
    "\n",
    "Calling the previously built methods with super() saves you from needing to rewrite those methods in your subclass, and allows you to swap out superclasses with minimal code changes."
   ]
  },
  {
   "cell_type": "markdown",
   "id": "54758be7",
   "metadata": {},
   "source": [
    "# Encapsulation"
   ]
  },
  {
   "cell_type": "markdown",
   "id": "ea7e65e5",
   "metadata": {},
   "source": [
    "Suppose a company wants to manufacture a car. Now, the company does'nt manufacture all of the parts themselves. Rather, the company orders the parts from different vendors, and just assembles the parts. The different parts of the car may be tyres, engine and body.\n",
    "\n",
    "Now, suppose a customer visits a Honda showroom to buy a car. He gets to see different options, like Civic, Amaze, CRV and DRV. Now, in each car, the tyres, engine and body may be different. Here, we can consider tyres, engine and body as classes. Now, we have to combine all of the classes, and create a new class. This is known as encapsulation.\n",
    "\n",
    "Among the four car models, i.e., Civic, Amaze, CRV and DRV, some models may have the same type of body, and engine and tyres may be different.\n",
    "\n",
    "Clubbing multiple classes into one is known as encapsulation, or wrapping objects into one another is the high-level idea of encapsulation."
   ]
  },
  {
   "cell_type": "markdown",
   "id": "28521426",
   "metadata": {},
   "source": [
    "* Encapsulation is an another powerful way to extend a class, which consists of wrapping an object with a second one.\n",
    "\n",
    "The abstraction process relies on creating a simplified model that removes useless details from a concept. In order to be simplified, a model should be described in terms of other simpler concepts. Fro example, we can say that a car is composed of:\n",
    "* Tyres       \n",
    "* Engine   \n",
    "* Body\n",
    "\n",
    "And break down each one of these elements in simpler parts, until we reach primitive data."
   ]
  },
  {
   "cell_type": "code",
   "execution_count": 21,
   "id": "2d44e85f",
   "metadata": {},
   "outputs": [
    {
     "name": "stdout",
     "output_type": "stream",
     "text": [
      "Tyres:\n",
      "\tBranch: MRF\n",
      "\tBelted_bias: True\n",
      "\tOptimal pressure: 34\n",
      "Engine:\n",
      "\tFuel type: Petrol\n",
      "\tNoise level: 2.3\n",
      "Body:\n",
      "\tSize: SUV\n"
     ]
    }
   ],
   "source": [
    "# Consider the following code.\n",
    "# Here, let's create three classes for \"Tyres\", \"Engine\" and \"Body\", and then we will wrap them together.\n",
    "\n",
    "# First, we have created a class \"Tyres\".\n",
    "# Tyres will have different dimensions like branch, belted_bias and opt_pressure\n",
    "# Next, we will initialize branch, belted_bias and opt_pressure\n",
    "\n",
    "# Next, we have used __str__(self) just for the printing purpose\n",
    "# We don't want to give the real name here.\n",
    "# Here, __str__ can be used, if you don't want to define a function name (method name), but you want this to execute.\n",
    "# Now, before displaying, we want to convert \"self.belted_bias\" and \"self.opt_pressure\" to a string,\n",
    "# Therefore, we write str(self.belted_bias) and str(self.opt_pressure)\n",
    "# Next, we have written \"\\t\", which means tab (i.e., it prints after some spaces)\n",
    "\n",
    "# Similarly, we have created a class \"Engine\".\n",
    "# Engine will have different specifications.\n",
    "# We have used two specifications, i.e., fuel_type and noise_level.\n",
    "# Next, we have initialized the fuel_type and noise_level, and printed it.\n",
    "\n",
    "# Next, we have created a class \"Body\".\n",
    "# Here, body has only one attribute, i.e., size.\n",
    "# So, we have initialized the size and printed it.\n",
    "\n",
    "# Till now, we have created classes for Tyres, Engine and Body.\n",
    "# Now, we are going to wrap all these classes, and create a new class \"Car\".\n",
    "# Firstly, we have created a class \"Car\".\n",
    "# Next, we need tyres, engine and body for the car.\n",
    "# Therefore, we have initialized tyres, engine and body.\n",
    "\n",
    "# Next, we have defined a string, i.e., __str__\n",
    "# and, we are printing tyre specification, engine specification and body specification, and return all of them.\n",
    "\n",
    "# Till now, we have created classes.\n",
    "# Now, we have to create objects.\n",
    "# Firstly, we are going to create an object for Tyres (here, branch is 'MRF', belted_bias is True and opt_pressure is 34)\n",
    "# Next, we have created an object for Engine (here, fuel_type is 'Petrol' and noise_level is 2.3)\n",
    "# Next, we have created an object for Body (here, Size is 'SUV')\n",
    "\n",
    "# Here, t,e and b are objects.\n",
    "# Next, we are going to call the class \"Car\", and we have to pass the data for tyres, engine and body.\n",
    "# We are going to call tyres, engine and body by using t, e and b.\n",
    "# Next, we are going to create a new object c, and print it.\n",
    "\n",
    "# Now, if someone wants to build a new car, with a different type of engine, but wants to keep the same type of tyres and body,\n",
    "# then, he can create a new class for engine, and then wrap up the classes for tyres, engine and body.\n",
    "\n",
    "\n",
    "\n",
    "\n",
    "\n",
    "class Tyres:\n",
    "    def __init__(self, branch, belted_bias, opt_pressure):\n",
    "        self.branch = branch\n",
    "        self.belted_bias = belted_bias\n",
    "        self.opt_pressure = opt_pressure\n",
    "        \n",
    "        \n",
    "    def __str__(self):    # __str__ can be used if you dont want to define a function name, but you want this to execute\n",
    "        return(\"Tyres:\\n\\tBranch: \" + self.branch + \"\\n\\tBelted_bias: \" + str(self.belted_bias) + \"\\n\\tOptimal pressure: \" + str(self.opt_pressure))\n",
    "    \n",
    "    \n",
    "    \n",
    "\n",
    "class Engine:\n",
    "    def __init__(self, fuel_type, noise_level):\n",
    "        self.fuel_type = fuel_type\n",
    "        self.noise_level = noise_level\n",
    "        \n",
    "        \n",
    "    def __str__(self):\n",
    "        return(\"Engine:\\n\\tFuel type: \" + self.fuel_type + \"\\n\\tNoise level: \" + str(self.noise_level))\n",
    "    \n",
    "    \n",
    "    \n",
    "    \n",
    "class Body:\n",
    "    def __init__(self, size):\n",
    "        self.size = size\n",
    "        \n",
    "        \n",
    "    def __str__(self):\n",
    "        return \"Body:\\n\\tSize: \" + self.size\n",
    "    \n",
    "    \n",
    "    \n",
    "    \n",
    "class Car:\n",
    "    def __init__(self, tyres, engine, body):\n",
    "        self.tyres = tyres\n",
    "        self.engine = engine\n",
    "        self.body = body\n",
    "        \n",
    "        \n",
    "    def __str__(self):\n",
    "        return str(self.tyres) + \"\\n\" + str(self.engine) + \"\\n\" + str(self.body)\n",
    "    \n",
    "    \n",
    "    \n",
    "    \n",
    "t = Tyres('MRF', True, 34)\n",
    "e = Engine ('Petrol', 2.3)\n",
    "b = Body ('SUV')\n",
    "c = Car(t, e, b)\n",
    "print(c)   "
   ]
  },
  {
   "cell_type": "markdown",
   "id": "a362ec7f",
   "metadata": {},
   "source": [
    "# 1.2. Methods"
   ]
  },
  {
   "cell_type": "code",
   "execution_count": 41,
   "id": "08aa4a7f",
   "metadata": {},
   "outputs": [
    {
     "name": "stdout",
     "output_type": "stream",
     "text": [
      "Alec Baldwin was born in 1958.\n",
      "62\n"
     ]
    }
   ],
   "source": [
    "# Here, we have created a class Person and constructed an object, and instantiated the data by referring to the object \"self\"\n",
    "\n",
    "# Next, we have defined the method \"age\" \n",
    "# (the only difference between function and method is that, method is a function that is defined within a class).\n",
    "# In the method, we have defined \"age\", and we have called \"self\" (which means, it will fetch name, surname and year_of_birth),\n",
    "# instead of calling name, surname and year_of_birth individually.\n",
    "# We have also passed another argument, i.e., \"current_year\"\n",
    "\n",
    "# Next, we have \"return current year - self.year_of_birth\"\n",
    "# Here, the idea is to find out the age of a Person.\n",
    "\n",
    "# Next, we have defined a string to print the data.\n",
    "\n",
    "# Now, let's see how to pass the data.\n",
    "# Here, \"Person\" is our class.\n",
    "# Along with Person, we are going to pass the data (name, i.e., \"Alec\", surname, i.e., \"Baldwin\", and year_of_birth, i.e., 1958)\n",
    "# Then, we are going to instantiate this data into the object called \"alec\", \n",
    "# and we are going to pass \"2020\" to the argument \"current_year\"\n",
    "\n",
    "# As we already have data assigned for year_of_birth, it will be fetched from \"alec\", and age will be calculated.\n",
    "\n",
    "\n",
    "\n",
    "\n",
    "\n",
    "class Person:\n",
    "    def __init__(self, name, surname, year_of_birth):\n",
    "        self.name = name\n",
    "        self.surname = surname\n",
    "        self.year_of_birth = year_of_birth\n",
    "        \n",
    "    \n",
    "    def age(self, current_year):\n",
    "        return current_year - self.year_of_birth\n",
    "    \n",
    "    \n",
    "    def __str__(self):\n",
    "        return \"%s %s was born in %d.\" % (self.name, self.surname, self.year_of_birth)\n",
    "    \n",
    "    \n",
    "alec = Person(\"Alec\", \"Baldwin\", 1958)\n",
    "print(alec)\n",
    "print(alec.age(2020))"
   ]
  },
  {
   "cell_type": "markdown",
   "id": "af2b5915",
   "metadata": {},
   "source": [
    "<b>MCQ's</b>"
   ]
  },
  {
   "cell_type": "raw",
   "id": "f632851b",
   "metadata": {},
   "source": [
    "1. True statements about __init__ and self in class?\n",
    "\n",
    "a. The self in keyword in Python is used to all the instances in a class. By using the self keyword, one can easily access all the instances defined within a class, including its methods and attributes.\n",
    "b. __init__ is one of the unreserved methods in Python.\n",
    "c. __init__ is known as a constructor.\n",
    "d. __init__ is one of the reserved methods in Python."
   ]
  },
  {
   "cell_type": "markdown",
   "id": "1699489b",
   "metadata": {},
   "source": [
    "<b>Ans:</b> a, c, d"
   ]
  },
  {
   "cell_type": "markdown",
   "id": "3e0e40a4",
   "metadata": {},
   "source": [
    "<b>2.</b> What is the use of class methods?\n",
    "\n",
    "a. method that is bound to a class rather than its object.      \n",
    "b. methods can be created as,     \n",
    "def methods()       \n",
    "c. It does'nt require creation of a class instance        \n",
    "d. All the above\n",
    "\n",
    "<b>Ans:</b> d"
   ]
  },
  {
   "cell_type": "markdown",
   "id": "d4ed80d1",
   "metadata": {},
   "source": [
    "<b>3.</b> Select the true statements about class.    \n",
    "\n",
    "a. A class is a code template for creating objects.     \n",
    "b. class cannot have objects in it.         \n",
    "c. It is created as        \n",
    "def class()        \n",
    "d. An object is created using the constructor of the class.\n",
    "\n",
    "<b>Ans:</b> a, d"
   ]
  },
  {
   "cell_type": "code",
   "execution_count": null,
   "id": "52eeec8c",
   "metadata": {},
   "outputs": [],
   "source": []
  }
 ],
 "metadata": {
  "kernelspec": {
   "display_name": "Python 3 (ipykernel)",
   "language": "python",
   "name": "python3"
  },
  "language_info": {
   "codemirror_mode": {
    "name": "ipython",
    "version": 3
   },
   "file_extension": ".py",
   "mimetype": "text/x-python",
   "name": "python",
   "nbconvert_exporter": "python",
   "pygments_lexer": "ipython3",
   "version": "3.9.7"
  }
 },
 "nbformat": 4,
 "nbformat_minor": 5
}
