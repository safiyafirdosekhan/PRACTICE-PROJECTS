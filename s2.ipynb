{
 "cells": [
  {
   "cell_type": "markdown",
   "id": "2c3e35ef",
   "metadata": {},
   "source": [
    "# Database"
   ]
  },
  {
   "cell_type": "markdown",
   "id": "6bdf2b2a",
   "metadata": {},
   "source": [
    "Consider a table consisting of student information. The table consists of several columns like roll_no, name, date_of_birth and fees. Here, the columns are known as the attributes or characteristics, and the rows are known as Tuples (Note that, these tuples are different from the Python Tuples).\n",
    "\n",
    "Now, consider that we have two tables \"Student\", consisting of students information and another table \"Marks\", consisting of marks of students. The Student Table has various columns like Roll_no, Name, Date_of_birth and Fees. Now, to connect the two tables together, we just need to make the column \"roll_no\" as the primary key, and use the references of roll_no. Note that, a primary key will always have only unique values, i.e., the primary key will not have any duplicates and blanks. Here, the table \"Student\" is known as the base table, and the table \"Marks\" is known as the derived table. Now, whenever we take the values from the primary key, i.e., roll_no and use it as a referrence in the \"Marks\" table, then \"roll_no\" is known as the \"foreign key\". The foreign key is used to maintain the referential integrity (Referential integrity means, we are trying to make references between the base table and the derived table, with the help of primary key and foreign key. Here, \"roll_no\" is the primary key. Now, whenever we derive the primary key, i.e., \"roll_no\" in the \"Marks\" table, then it becomes the foreign key.\n",
    "\n",
    "Now, as the two tables, i.e., the \"Student\" table and the \"Marks\" table are logically related, we can keep both the tables in a set known as the \"database\".  \n",
    "\n",
    "Thus, database is the collection of logically related tables.\n",
    "\n",
    "The Database Management System (DBMS) are the softwares and technologies, that are used to create, manage and maintain the databases. These databases can then be accessed by the users.\n",
    "\n",
    "The different database management softwares can be classified into two categories. They are:\n",
    "Relational Database Management Software amd Non-Relational Database Management Software.\n",
    "\n",
    "MS-SQL Server, MySQL, Oracle and SQLite are the Relational Database Management Softwares, where we can create a table-like structures, consisting of rows and columns. SQLite is a Relational Database Management Software, which is already present in Anaconda.\n",
    "\n",
    "Cassandra, NoSQL and AmazonDB are the Non-Relational Database Management Softwares, where the data is not arranged in a table-like structure.\n",
    "\n",
    "Database Management Software (DBMS) can either be licensed (proprietor) or open-source (free-ware). MS-SQL Server and Oracle are licensed (proprietor) softwares.Therefore, one needs to purchase them and maintain their license. SQLite is an open-source (free-ware) software. Therefore, one need not purchase it.\n",
    "\n",
    "A user can access the tables stored in a Database with the help of SQL commands. SQL stands for Structured Query Language. DBMS will give us the SQL interactive system, through which the user can interact with any table, that is stored inside the Database Management Software.\n",
    "\n",
    "There are three types of Structured Query Languages. They are:\n",
    "DDL (Data Definition Language), DML (Data Manipulation Language) and DCL (Data Control Language).\n",
    "\n",
    "When we are working with DDL, we use the commands create, alter and drop.          \n",
    "When we are working with DML, we use the commands select, insert, update and delete.            \n",
    "When we are working with DCL, we use the commands commit, rollback, grant and revoke.\n",
    "\n",
    "As a database user, we work on DDL (Data Definition Language) and DML (Data Manipulation Language). The database administrator works on DCL (Data Control Language)."
   ]
  },
  {
   "cell_type": "code",
   "execution_count": 1,
   "id": "643c2600",
   "metadata": {},
   "outputs": [],
   "source": [
    "import sqlite3"
   ]
  },
  {
   "cell_type": "markdown",
   "id": "5d8c5baa",
   "metadata": {},
   "source": [
    "Working with database using SQL (Structured Query Language)\n",
    "\n",
    "1. Create a connection object.\n",
    "2. From the connection object, create a cursor object.\n",
    "3. Using the cursor object, call the execute method with create table query as the parameter."
   ]
  },
  {
   "cell_type": "markdown",
   "id": "eaea6fa6",
   "metadata": {},
   "source": [
    "<b>Create database</b>"
   ]
  },
  {
   "cell_type": "code",
   "execution_count": 2,
   "id": "bf48a673",
   "metadata": {},
   "outputs": [],
   "source": [
    "# testdatabase will be created in Jupyter notebook Home\n",
    "\n",
    "# first connection object\n",
    "\n",
    "\n",
    "dbcon = sqlite3.connect('test_database.db')"
   ]
  },
  {
   "cell_type": "markdown",
   "id": "4676d337",
   "metadata": {},
   "source": [
    "<b>Cursor</b>  \n",
    "\n",
    "A cursor in SQL is a temporary work area, created in system memory, when a SQL statement is executed. A SQL cursor is a set of rows together with a pointer, that identifies a current row. It is a database object to retrieve data from a result set, one row at a time."
   ]
  },
  {
   "cell_type": "code",
   "execution_count": 3,
   "id": "091f1ecf",
   "metadata": {},
   "outputs": [],
   "source": [
    "# Create cursor object from connection\n",
    "\n",
    "cur = dbcon.cursor()"
   ]
  },
  {
   "cell_type": "markdown",
   "id": "e2515319",
   "metadata": {},
   "source": [
    "<b>Create table in student_database</b>"
   ]
  },
  {
   "cell_type": "markdown",
   "id": "8478f649",
   "metadata": {},
   "source": [
    "<b>SQL data types</b>\n",
    "\n",
    "integer ---- numeric values       \n",
    "real ---- decimal values          \n",
    "text ---- character values          \n",
    "char(20) ---- character values"
   ]
  },
  {
   "cell_type": "code",
   "execution_count": 4,
   "id": "9edd8e9a",
   "metadata": {},
   "outputs": [
    {
     "data": {
      "text/plain": [
       "<sqlite3.Cursor at 0x65ed71b7a0>"
      ]
     },
     "execution_count": 4,
     "metadata": {},
     "output_type": "execute_result"
    }
   ],
   "source": [
    "cur.execute('create table student8(rollno int primary key, name text, marks int)')"
   ]
  },
  {
   "cell_type": "markdown",
   "id": "e368b40f",
   "metadata": {},
   "source": [
    "<b>Insert data in student table</b>"
   ]
  },
  {
   "cell_type": "code",
   "execution_count": 5,
   "id": "008dc1d0",
   "metadata": {},
   "outputs": [
    {
     "data": {
      "text/plain": [
       "<sqlite3.Cursor at 0x65ed71b7a0>"
      ]
     },
     "execution_count": 5,
     "metadata": {},
     "output_type": "execute_result"
    }
   ],
   "source": [
    "cur.execute('insert into student8(rollno, name, marks) values(1, \"ABC\", 78)')"
   ]
  },
  {
   "cell_type": "code",
   "execution_count": 6,
   "id": "b2b5a871",
   "metadata": {},
   "outputs": [
    {
     "name": "stdout",
     "output_type": "stream",
     "text": [
      "(1, 'ABC', 78)\n"
     ]
    }
   ],
   "source": [
    "results = cur.execute('select * from student8')\n",
    "\n",
    "for res in results:\n",
    "    print(res)"
   ]
  },
  {
   "cell_type": "code",
   "execution_count": 7,
   "id": "084b23c9",
   "metadata": {},
   "outputs": [
    {
     "data": {
      "text/plain": [
       "<sqlite3.Cursor at 0x65ed71b7a0>"
      ]
     },
     "execution_count": 7,
     "metadata": {},
     "output_type": "execute_result"
    }
   ],
   "source": [
    "cur.execute('insert into student8(rollno, name, marks) values(2, \"John\", 80)')"
   ]
  },
  {
   "cell_type": "code",
   "execution_count": 8,
   "id": "cf8af02d",
   "metadata": {},
   "outputs": [
    {
     "data": {
      "text/plain": [
       "<sqlite3.Cursor at 0x65ed71b7a0>"
      ]
     },
     "execution_count": 8,
     "metadata": {},
     "output_type": "execute_result"
    }
   ],
   "source": [
    "cur.execute('insert into student8(rollno, name, marks) values(3, \"Andrew\", 87)')"
   ]
  },
  {
   "cell_type": "code",
   "execution_count": 9,
   "id": "6ed0f4c9",
   "metadata": {},
   "outputs": [
    {
     "data": {
      "text/plain": [
       "<sqlite3.Cursor at 0x65ed71b7a0>"
      ]
     },
     "execution_count": 9,
     "metadata": {},
     "output_type": "execute_result"
    }
   ],
   "source": [
    "cur.execute('insert into student8(rollno, name, marks) values(4, \"Lisa\", 88)')"
   ]
  },
  {
   "cell_type": "code",
   "execution_count": 10,
   "id": "95eb7e5b",
   "metadata": {},
   "outputs": [
    {
     "data": {
      "text/plain": [
       "<sqlite3.Cursor at 0x65ed71b7a0>"
      ]
     },
     "execution_count": 10,
     "metadata": {},
     "output_type": "execute_result"
    }
   ],
   "source": [
    "cur.execute('insert into student8(rollno, name, marks) values(5, \"Jack\", 94)')"
   ]
  },
  {
   "cell_type": "code",
   "execution_count": 11,
   "id": "caeb7d9f",
   "metadata": {},
   "outputs": [
    {
     "name": "stdout",
     "output_type": "stream",
     "text": [
      "(1, 'ABC', 78)\n",
      "(2, 'John', 80)\n",
      "(3, 'Andrew', 87)\n",
      "(4, 'Lisa', 88)\n",
      "(5, 'Jack', 94)\n"
     ]
    }
   ],
   "source": [
    "results = cur.execute('select * from student8')\n",
    "\n",
    "for res in results:\n",
    "    print(res)"
   ]
  },
  {
   "cell_type": "code",
   "execution_count": 12,
   "id": "0285361f",
   "metadata": {},
   "outputs": [
    {
     "data": {
      "text/plain": [
       "<sqlite3.Cursor at 0x65ed71b7a0>"
      ]
     },
     "execution_count": 12,
     "metadata": {},
     "output_type": "execute_result"
    }
   ],
   "source": [
    "# Another way of inserting the values into the table.\n",
    "\n",
    "cur.execute('insert into student8 values(6, \"TOM\", 50)')"
   ]
  },
  {
   "cell_type": "code",
   "execution_count": 13,
   "id": "2be74fdd",
   "metadata": {},
   "outputs": [
    {
     "name": "stdout",
     "output_type": "stream",
     "text": [
      "(1, 'ABC', 78)\n",
      "(2, 'John', 80)\n",
      "(3, 'Andrew', 87)\n",
      "(4, 'Lisa', 88)\n",
      "(5, 'Jack', 94)\n",
      "(6, 'TOM', 50)\n"
     ]
    }
   ],
   "source": [
    "results = cur.execute('select * from student8')\n",
    "\n",
    "for res in results:\n",
    "    print(res)"
   ]
  },
  {
   "cell_type": "code",
   "execution_count": 14,
   "id": "16351844",
   "metadata": {},
   "outputs": [
    {
     "name": "stdout",
     "output_type": "stream",
     "text": [
      "('ABC',)\n",
      "('John',)\n",
      "('Andrew',)\n",
      "('Lisa',)\n",
      "('Jack',)\n",
      "('TOM',)\n"
     ]
    }
   ],
   "source": [
    "results = cur.execute('select name from student8')\n",
    "\n",
    "for res in results:\n",
    "    print(res)"
   ]
  },
  {
   "cell_type": "code",
   "execution_count": 15,
   "id": "a45a53e4",
   "metadata": {},
   "outputs": [
    {
     "name": "stdout",
     "output_type": "stream",
     "text": [
      "(78,)\n",
      "(80,)\n",
      "(87,)\n",
      "(88,)\n",
      "(94,)\n",
      "(50,)\n"
     ]
    }
   ],
   "source": [
    "results = cur.execute('select marks from student8')\n",
    "\n",
    "for res in results:\n",
    "    print(res)"
   ]
  },
  {
   "cell_type": "code",
   "execution_count": 16,
   "id": "ff3212c7",
   "metadata": {},
   "outputs": [
    {
     "name": "stdout",
     "output_type": "stream",
     "text": [
      "('ABC', 78)\n",
      "('John', 80)\n",
      "('Andrew', 87)\n",
      "('Lisa', 88)\n",
      "('Jack', 94)\n",
      "('TOM', 50)\n"
     ]
    }
   ],
   "source": [
    "results = cur.execute('select name, marks from student8')\n",
    "\n",
    "for res in results:\n",
    "    print(res)"
   ]
  },
  {
   "cell_type": "code",
   "execution_count": 17,
   "id": "b02fcca9",
   "metadata": {},
   "outputs": [
    {
     "name": "stdout",
     "output_type": "stream",
     "text": [
      "(1, 'ABC', 78)\n",
      "(2, 'John', 80)\n",
      "(3, 'Andrew', 87)\n",
      "(4, 'Lisa', 88)\n",
      "(5, 'Jack', 94)\n",
      "(6, 'TOM', 50)\n"
     ]
    }
   ],
   "source": [
    "results = cur.execute('select rollno, name, marks from student8')\n",
    "\n",
    "for res in results:\n",
    "    print(res)"
   ]
  },
  {
   "cell_type": "code",
   "execution_count": 18,
   "id": "0e2ac8d7",
   "metadata": {},
   "outputs": [
    {
     "name": "stdout",
     "output_type": "stream",
     "text": [
      "(1, 'ABC', 78)\n"
     ]
    }
   ],
   "source": [
    "# Now, suppose we want to see a paricular row, \n",
    "# then we have to use the \"where\" clause.\n",
    "\n",
    "results = cur.execute('select * from student8 where rollno = 1')\n",
    "\n",
    "for res in results:\n",
    "    print(res)"
   ]
  },
  {
   "cell_type": "code",
   "execution_count": 19,
   "id": "a8a15fd7",
   "metadata": {},
   "outputs": [
    {
     "name": "stdout",
     "output_type": "stream",
     "text": [
      "(2, 'John', 80)\n"
     ]
    }
   ],
   "source": [
    "results = cur.execute('select * from student8 where rollno = 2')\n",
    "\n",
    "for res in results:\n",
    "    print(res)"
   ]
  },
  {
   "cell_type": "code",
   "execution_count": 20,
   "id": "ea826f45",
   "metadata": {},
   "outputs": [
    {
     "name": "stdout",
     "output_type": "stream",
     "text": [
      "(5, 'Jack', 94)\n"
     ]
    }
   ],
   "source": [
    "results = cur.execute('select * from student8 where rollno = 5')\n",
    "\n",
    "for res in results:\n",
    "    print(res)"
   ]
  },
  {
   "cell_type": "code",
   "execution_count": 21,
   "id": "475b2676",
   "metadata": {},
   "outputs": [
    {
     "name": "stdout",
     "output_type": "stream",
     "text": [
      "('ABC',)\n"
     ]
    }
   ],
   "source": [
    "results = cur.execute('select name from student8 where rollno = 1')\n",
    "\n",
    "for res in results:\n",
    "    print(res)"
   ]
  },
  {
   "cell_type": "code",
   "execution_count": 22,
   "id": "c70669b8",
   "metadata": {},
   "outputs": [
    {
     "name": "stdout",
     "output_type": "stream",
     "text": [
      "(78,)\n"
     ]
    }
   ],
   "source": [
    "results = cur.execute('select marks from student8 where rollno = 1')\n",
    "\n",
    "for res in results:\n",
    "    print(res)"
   ]
  },
  {
   "cell_type": "code",
   "execution_count": 23,
   "id": "122bfb62",
   "metadata": {},
   "outputs": [
    {
     "name": "stdout",
     "output_type": "stream",
     "text": [
      "('Jack',)\n"
     ]
    }
   ],
   "source": [
    "results = cur.execute('select name from student8 where rollno = 5')\n",
    "\n",
    "for res in results:\n",
    "    print(res)"
   ]
  },
  {
   "cell_type": "code",
   "execution_count": 24,
   "id": "12933749",
   "metadata": {},
   "outputs": [
    {
     "name": "stdout",
     "output_type": "stream",
     "text": [
      "(6, 'TOM', 50)\n"
     ]
    }
   ],
   "source": [
    "results = cur.execute('select * from student8 where rollno = 6')\n",
    "\n",
    "for res in results:\n",
    "    print(res)"
   ]
  },
  {
   "cell_type": "code",
   "execution_count": 25,
   "id": "c0f603f6",
   "metadata": {},
   "outputs": [
    {
     "name": "stdout",
     "output_type": "stream",
     "text": [
      "(5, 'Jack', 94)\n"
     ]
    }
   ],
   "source": [
    "results = cur.execute('select * from student8 where name = \"Jack\"')\n",
    "\n",
    "for res in results:\n",
    "    print(res)"
   ]
  },
  {
   "cell_type": "code",
   "execution_count": 26,
   "id": "94a449a3",
   "metadata": {},
   "outputs": [
    {
     "data": {
      "text/plain": [
       "(5, 'Jack', 94)"
      ]
     },
     "execution_count": 26,
     "metadata": {},
     "output_type": "execute_result"
    }
   ],
   "source": [
    "# Another way of fetching a single row.\n",
    "# fetchone() is used to fetch a single row.\n",
    "\n",
    "\n",
    "results = cur.execute('select * from student8 where name = \"Jack\"')\n",
    "\n",
    "results.fetchone()"
   ]
  },
  {
   "cell_type": "code",
   "execution_count": 27,
   "id": "1b292f5a",
   "metadata": {},
   "outputs": [
    {
     "data": {
      "text/plain": [
       "(4, 'Lisa', 88)"
      ]
     },
     "execution_count": 27,
     "metadata": {},
     "output_type": "execute_result"
    }
   ],
   "source": [
    "results = cur.execute('select * from student8 where name = \"Lisa\"')\n",
    "\n",
    "results.fetchone()"
   ]
  },
  {
   "cell_type": "code",
   "execution_count": 28,
   "id": "3ff39867",
   "metadata": {},
   "outputs": [
    {
     "data": {
      "text/plain": [
       "[(1, 'ABC', 78),\n",
       " (2, 'John', 80),\n",
       " (3, 'Andrew', 87),\n",
       " (4, 'Lisa', 88),\n",
       " (5, 'Jack', 94),\n",
       " (6, 'TOM', 50)]"
      ]
     },
     "execution_count": 28,
     "metadata": {},
     "output_type": "execute_result"
    }
   ],
   "source": [
    "# fetchall() is used to fetch all the rows.\n",
    "\n",
    "results = cur.execute('select * from student8')\n",
    "                      \n",
    "results.fetchall()"
   ]
  },
  {
   "cell_type": "code",
   "execution_count": 29,
   "id": "2808510d",
   "metadata": {},
   "outputs": [
    {
     "data": {
      "text/plain": [
       "[(1, 'ABC', 78), (2, 'John', 80), (3, 'Andrew', 87)]"
      ]
     },
     "execution_count": 29,
     "metadata": {},
     "output_type": "execute_result"
    }
   ],
   "source": [
    "# The \"limit\" command is used to limit the number of rows.\n",
    "# Here, we are limiting the number of rows to 3.\n",
    "\n",
    "\n",
    "results = cur.execute('select * from student8 limit 3')\n",
    "                      \n",
    "results.fetchall()"
   ]
  },
  {
   "cell_type": "code",
   "execution_count": 30,
   "id": "f09301ce",
   "metadata": {},
   "outputs": [
    {
     "data": {
      "text/plain": [
       "[(1, 'ABC', 78),\n",
       " (2, 'John', 80),\n",
       " (3, 'Andrew', 87),\n",
       " (4, 'Lisa', 88),\n",
       " (5, 'Jack', 94)]"
      ]
     },
     "execution_count": 30,
     "metadata": {},
     "output_type": "execute_result"
    }
   ],
   "source": [
    "# Here, we are limiting the number of rows to 5.\n",
    "\n",
    "\n",
    "results = cur.execute('select * from student8 limit 5')\n",
    "                      \n",
    "results.fetchall()"
   ]
  },
  {
   "cell_type": "code",
   "execution_count": 31,
   "id": "4625c58b",
   "metadata": {},
   "outputs": [
    {
     "data": {
      "text/plain": [
       "[(1, 'ABC', 78),\n",
       " (3, 'Andrew', 87),\n",
       " (5, 'Jack', 94),\n",
       " (2, 'John', 80),\n",
       " (4, 'Lisa', 88),\n",
       " (6, 'TOM', 50)]"
      ]
     },
     "execution_count": 31,
     "metadata": {},
     "output_type": "execute_result"
    }
   ],
   "source": [
    "# \"order by\" clause is used to arrange the data,\n",
    "# in either ascending or descending order.\n",
    "\n",
    "results = cur.execute('select * from student8 order by name asc')\n",
    "                      \n",
    "results.fetchall()"
   ]
  },
  {
   "cell_type": "code",
   "execution_count": 32,
   "id": "129f04c1",
   "metadata": {},
   "outputs": [
    {
     "data": {
      "text/plain": [
       "[(6, 'TOM', 50),\n",
       " (4, 'Lisa', 88),\n",
       " (2, 'John', 80),\n",
       " (5, 'Jack', 94),\n",
       " (3, 'Andrew', 87),\n",
       " (1, 'ABC', 78)]"
      ]
     },
     "execution_count": 32,
     "metadata": {},
     "output_type": "execute_result"
    }
   ],
   "source": [
    "results = cur.execute('select * from student8 order by name desc')\n",
    "                      \n",
    "results.fetchall()"
   ]
  },
  {
   "cell_type": "code",
   "execution_count": 33,
   "id": "93e0e50a",
   "metadata": {},
   "outputs": [
    {
     "ename": "OperationalError",
     "evalue": "no such column: id",
     "output_type": "error",
     "traceback": [
      "\u001b[1;31m---------------------------------------------------------------------------\u001b[0m",
      "\u001b[1;31mOperationalError\u001b[0m                          Traceback (most recent call last)",
      "\u001b[1;32m~\\AppData\\Local\\Temp/ipykernel_1864/2695875488.py\u001b[0m in \u001b[0;36m<module>\u001b[1;34m\u001b[0m\n\u001b[0;32m      1\u001b[0m \u001b[1;31m# Here, we get an error, because there is no column by the name \"id\".\u001b[0m\u001b[1;33m\u001b[0m\u001b[1;33m\u001b[0m\u001b[0m\n\u001b[0;32m      2\u001b[0m \u001b[1;33m\u001b[0m\u001b[0m\n\u001b[1;32m----> 3\u001b[1;33m \u001b[0mresults\u001b[0m \u001b[1;33m=\u001b[0m \u001b[0mcur\u001b[0m\u001b[1;33m.\u001b[0m\u001b[0mexecute\u001b[0m\u001b[1;33m(\u001b[0m\u001b[1;34m'select * from student8 where id=1'\u001b[0m\u001b[1;33m)\u001b[0m\u001b[1;33m\u001b[0m\u001b[1;33m\u001b[0m\u001b[0m\n\u001b[0m\u001b[0;32m      4\u001b[0m \u001b[1;33m\u001b[0m\u001b[0m\n\u001b[0;32m      5\u001b[0m \u001b[1;32mfor\u001b[0m \u001b[0mres\u001b[0m \u001b[1;32min\u001b[0m \u001b[0mresults\u001b[0m\u001b[1;33m:\u001b[0m\u001b[1;33m\u001b[0m\u001b[1;33m\u001b[0m\u001b[0m\n",
      "\u001b[1;31mOperationalError\u001b[0m: no such column: id"
     ]
    }
   ],
   "source": [
    "# Here, we get an error, because there is no column by the name \"id\".\n",
    "\n",
    "results = cur.execute('select * from student8 where id=1')\n",
    "\n",
    "for res in results:\n",
    "    print(res)"
   ]
  },
  {
   "cell_type": "code",
   "execution_count": 34,
   "id": "f13a5c18",
   "metadata": {},
   "outputs": [
    {
     "name": "stdout",
     "output_type": "stream",
     "text": [
      "(1, 'ABC', 78)\n"
     ]
    }
   ],
   "source": [
    "results = cur.execute('select * from student8 where rollno=1')\n",
    "\n",
    "for res in results:\n",
    "    print(res)"
   ]
  },
  {
   "cell_type": "code",
   "execution_count": 35,
   "id": "2e375fd2",
   "metadata": {},
   "outputs": [
    {
     "name": "stdout",
     "output_type": "stream",
     "text": [
      "(1, 'ABC', 78)\n",
      "(2, 'John', 80)\n",
      "(3, 'Andrew', 87)\n"
     ]
    }
   ],
   "source": [
    "results = cur.execute('select * from student8 where rollno in (1,2,3)')\n",
    "\n",
    "for res in results:\n",
    "    print(res)"
   ]
  },
  {
   "cell_type": "code",
   "execution_count": 36,
   "id": "056bf7e9",
   "metadata": {},
   "outputs": [
    {
     "name": "stdout",
     "output_type": "stream",
     "text": [
      "(2, 'John', 80)\n",
      "(4, 'Lisa', 88)\n"
     ]
    }
   ],
   "source": [
    "results = cur.execute('select * from student8 where name in (\"John\", \"Lisa\")')\n",
    "\n",
    "for res in results:\n",
    "    print(res)"
   ]
  },
  {
   "cell_type": "code",
   "execution_count": 37,
   "id": "016d86ad",
   "metadata": {},
   "outputs": [
    {
     "name": "stdout",
     "output_type": "stream",
     "text": [
      "(2, 'John', 80)\n",
      "(3, 'Andrew', 87)\n",
      "(4, 'Lisa', 88)\n"
     ]
    }
   ],
   "source": [
    "results = cur.execute('select * from student8 where marks between 80 and 90')\n",
    "\n",
    "for res in results:\n",
    "    print(res)"
   ]
  },
  {
   "cell_type": "code",
   "execution_count": 38,
   "id": "993cbda0",
   "metadata": {},
   "outputs": [
    {
     "name": "stdout",
     "output_type": "stream",
     "text": [
      "(3, 'Andrew', 87)\n",
      "(4, 'Lisa', 88)\n"
     ]
    }
   ],
   "source": [
    "results = cur.execute('select * from student8 where marks>80 and marks<90')\n",
    "\n",
    "for res in results:\n",
    "    print(res)"
   ]
  },
  {
   "cell_type": "markdown",
   "id": "72e11fa4",
   "metadata": {},
   "source": [
    "<b>Create Database</b>"
   ]
  },
  {
   "cell_type": "code",
   "execution_count": 39,
   "id": "e90a13db",
   "metadata": {},
   "outputs": [],
   "source": [
    "# Let's create a new database \"student_database\".\n",
    "\n",
    "import sqlite3"
   ]
  },
  {
   "cell_type": "code",
   "execution_count": 40,
   "id": "7d57ad5f",
   "metadata": {},
   "outputs": [],
   "source": [
    "# student_database will be created in Juoyter notebook Home\n",
    "\n",
    "# First connection object\n",
    "\n",
    "db = sqlite3.connect(\"studentdatabase.db\")"
   ]
  },
  {
   "cell_type": "code",
   "execution_count": 41,
   "id": "2591bb1b",
   "metadata": {},
   "outputs": [],
   "source": [
    "# Create cursor object from connection\n",
    "\n",
    "cur = db.cursor()"
   ]
  },
  {
   "cell_type": "markdown",
   "id": "aeffbcb6",
   "metadata": {},
   "source": [
    "<b>Create table in student_database</b>"
   ]
  },
  {
   "cell_type": "code",
   "execution_count": 42,
   "id": "0309725e",
   "metadata": {},
   "outputs": [
    {
     "data": {
      "text/plain": [
       "<sqlite3.Cursor at 0x65e861f110>"
      ]
     },
     "execution_count": 42,
     "metadata": {},
     "output_type": "execute_result"
    }
   ],
   "source": [
    "cur.execute(\"create table student8 (id int primary key, name text, marks int)\")"
   ]
  },
  {
   "cell_type": "markdown",
   "id": "97b4d947",
   "metadata": {},
   "source": [
    "<b>Insert data in student table</b>"
   ]
  },
  {
   "cell_type": "code",
   "execution_count": 43,
   "id": "f6b833cd",
   "metadata": {},
   "outputs": [],
   "source": [
    "# Here, we are writing \"db.commit\" because we want to save the data permanently,\n",
    "# so that it can be accessed later on.\n",
    "\n",
    "\n",
    "cur.execute(\"insert into student8(id, name, marks) values(1, 'John', 90)\")\n",
    "db.commit()"
   ]
  },
  {
   "cell_type": "code",
   "execution_count": 44,
   "id": "2f57a35e",
   "metadata": {},
   "outputs": [
    {
     "name": "stdout",
     "output_type": "stream",
     "text": [
      "1 Record(s) inserted\n"
     ]
    }
   ],
   "source": [
    "# rowcount is used to find out the number of rows inserted.\n",
    "\n",
    "print(cur.rowcount, \"Record(s) inserted\")"
   ]
  },
  {
   "cell_type": "code",
   "execution_count": 45,
   "id": "634e1ce0",
   "metadata": {},
   "outputs": [],
   "source": [
    "cur.execute(\"insert into student8(id, name, marks) values(2, 'Teena', 100)\")\n",
    "db.commit()"
   ]
  },
  {
   "cell_type": "code",
   "execution_count": 47,
   "id": "b8d2d5f9",
   "metadata": {},
   "outputs": [
    {
     "name": "stdout",
     "output_type": "stream",
     "text": [
      "(1, 'John', 90)\n",
      "(2, 'Teena', 100)\n"
     ]
    }
   ],
   "source": [
    "results = cur.execute(\"select * from student8\")\n",
    "\n",
    "for row in results:\n",
    "    print(row)"
   ]
  },
  {
   "cell_type": "code",
   "execution_count": 48,
   "id": "8e9cef28",
   "metadata": {},
   "outputs": [],
   "source": [
    "cur.execute(\"insert into student8(id, name, marks) values(3, 'Andrew', 70)\")\n",
    "db.commit()"
   ]
  },
  {
   "cell_type": "code",
   "execution_count": 49,
   "id": "3331fcb9",
   "metadata": {},
   "outputs": [
    {
     "name": "stdout",
     "output_type": "stream",
     "text": [
      "(1, 'John', 90)\n",
      "(2, 'Teena', 100)\n",
      "(3, 'Andrew', 70)\n"
     ]
    }
   ],
   "source": [
    "results = cur.execute(\"select * from student8\")\n",
    "\n",
    "for row in results:\n",
    "    print(row)"
   ]
  },
  {
   "cell_type": "code",
   "execution_count": 50,
   "id": "99c61048",
   "metadata": {},
   "outputs": [],
   "source": [
    "cur.execute(\"insert into student8(id, name, marks) values(4, 'Dorsey', 56)\")\n",
    "db.commit()"
   ]
  },
  {
   "cell_type": "code",
   "execution_count": 51,
   "id": "31fded35",
   "metadata": {},
   "outputs": [],
   "source": [
    "cur.execute(\"insert into student8(id, name, marks) values(5, 'David', 45)\")\n",
    "db.commit()"
   ]
  },
  {
   "cell_type": "code",
   "execution_count": 52,
   "id": "73c8ba64",
   "metadata": {},
   "outputs": [],
   "source": [
    "cur.execute(\"insert into student8(id, name, marks) values(6, 'Kim', 70)\")\n",
    "db.commit()"
   ]
  },
  {
   "cell_type": "code",
   "execution_count": 53,
   "id": "b19f07fe",
   "metadata": {},
   "outputs": [
    {
     "name": "stdout",
     "output_type": "stream",
     "text": [
      "(1, 'John', 90)\n",
      "(2, 'Teena', 100)\n",
      "(3, 'Andrew', 70)\n",
      "(4, 'Dorsey', 56)\n",
      "(5, 'David', 45)\n",
      "(6, 'Kim', 70)\n"
     ]
    }
   ],
   "source": [
    "results = cur.execute(\"select * from student8\")\n",
    "\n",
    "for row in results:\n",
    "    print(row)"
   ]
  },
  {
   "cell_type": "code",
   "execution_count": 54,
   "id": "17bd353d",
   "metadata": {},
   "outputs": [
    {
     "name": "stdout",
     "output_type": "stream",
     "text": [
      "2 Record(s) inserted\n"
     ]
    }
   ],
   "source": [
    "# Multiple record insertion\n",
    "\n",
    "cur.execute(\"insert into student8 values (7, 'Kiara', 75), (8, 'Jack', 94)\")\n",
    "db.commit()\n",
    "\n",
    "\n",
    "# Count of records inserted\n",
    "\n",
    "print(cur.rowcount, \"Record(s) inserted\")"
   ]
  },
  {
   "cell_type": "code",
   "execution_count": 55,
   "id": "757d36b6",
   "metadata": {},
   "outputs": [
    {
     "name": "stdout",
     "output_type": "stream",
     "text": [
      "(1, 'John', 90)\n",
      "(2, 'Teena', 100)\n",
      "(3, 'Andrew', 70)\n",
      "(4, 'Dorsey', 56)\n",
      "(5, 'David', 45)\n",
      "(6, 'Kim', 70)\n",
      "(7, 'Kiara', 75)\n",
      "(8, 'Jack', 94)\n"
     ]
    }
   ],
   "source": [
    "results = cur.execute(\"select * from student8\")\n",
    "\n",
    "for row in results:\n",
    "    print(row)"
   ]
  },
  {
   "cell_type": "code",
   "execution_count": 56,
   "id": "e833c65d",
   "metadata": {},
   "outputs": [],
   "source": [
    "# Note that, earlier the \"student_database\" that we created will be stored \n",
    "# by default in the home directory,\n",
    "# where Ananconda is installed, i.e. C Drive.\n",
    "\n",
    "# Now, let's create the database at a particular location.\n",
    "\n",
    "# For this, first go to E Drive, and create a folder named \"MySQLite_Database\",\n",
    "# and then execute the code below.\n",
    "\n",
    "\n",
    "db1 = sqlite3.connect(\"E:/MySQLite_Database/empdatabase.db\")"
   ]
  },
  {
   "cell_type": "code",
   "execution_count": 57,
   "id": "8c6cddab",
   "metadata": {},
   "outputs": [],
   "source": [
    "cur1 = db1.cursor()"
   ]
  },
  {
   "cell_type": "code",
   "execution_count": 59,
   "id": "44f4728c",
   "metadata": {},
   "outputs": [
    {
     "data": {
      "text/plain": [
       "<sqlite3.Cursor at 0x65e8625340>"
      ]
     },
     "execution_count": 59,
     "metadata": {},
     "output_type": "execute_result"
    }
   ],
   "source": [
    "cur1.execute(\"create table employee1(id int, name text, age int)\")"
   ]
  },
  {
   "cell_type": "code",
   "execution_count": 60,
   "id": "f05afc8b",
   "metadata": {},
   "outputs": [],
   "source": [
    "cur1.execute(\"insert into employee1 values(1, 'Melina', 32)\")\n",
    "db1.commit()"
   ]
  },
  {
   "cell_type": "code",
   "execution_count": 61,
   "id": "7dfe918d",
   "metadata": {},
   "outputs": [
    {
     "name": "stdout",
     "output_type": "stream",
     "text": [
      "1 Record(s) inserted\n"
     ]
    }
   ],
   "source": [
    "print(cur1.rowcount, \"Record(s) inserted\")"
   ]
  },
  {
   "cell_type": "code",
   "execution_count": 62,
   "id": "b104a0e1",
   "metadata": {},
   "outputs": [],
   "source": [
    "results = cur1.execute(\"select * from employee1\")"
   ]
  },
  {
   "cell_type": "code",
   "execution_count": 63,
   "id": "411b8345",
   "metadata": {},
   "outputs": [
    {
     "name": "stdout",
     "output_type": "stream",
     "text": [
      "(1, 'Melina', 32)\n"
     ]
    }
   ],
   "source": [
    "for row in results:\n",
    "    print(row)"
   ]
  },
  {
   "cell_type": "markdown",
   "id": "0b1c56b5",
   "metadata": {},
   "source": [
    "<b>Working with original database ------ student8 database</b>"
   ]
  },
  {
   "cell_type": "markdown",
   "id": "89758fec",
   "metadata": {},
   "source": [
    "# Accessing data stored in SQLite using Python"
   ]
  },
  {
   "cell_type": "code",
   "execution_count": 64,
   "id": "118faa4f",
   "metadata": {},
   "outputs": [
    {
     "name": "stdout",
     "output_type": "stream",
     "text": [
      "(1, 'John', 90)\n",
      "(2, 'Teena', 100)\n",
      "(3, 'Andrew', 70)\n",
      "(4, 'Dorsey', 56)\n",
      "(5, 'David', 45)\n",
      "(6, 'Kim', 70)\n",
      "(7, 'Kiara', 75)\n",
      "(8, 'Jack', 94)\n"
     ]
    }
   ],
   "source": [
    "results = cur.execute(\"select * from student8\")\n",
    "\n",
    "for i in results:\n",
    "    print(i)"
   ]
  },
  {
   "cell_type": "code",
   "execution_count": 65,
   "id": "14e23d50",
   "metadata": {},
   "outputs": [
    {
     "name": "stdout",
     "output_type": "stream",
     "text": [
      "(1, 'John')\n",
      "(2, 'Teena')\n",
      "(3, 'Andrew')\n",
      "(4, 'Dorsey')\n",
      "(5, 'David')\n",
      "(6, 'Kim')\n",
      "(7, 'Kiara')\n",
      "(8, 'Jack')\n"
     ]
    }
   ],
   "source": [
    "results = cur.execute(\"select id, name from student8\")\n",
    "\n",
    "for i in results:\n",
    "    print(i)"
   ]
  },
  {
   "cell_type": "code",
   "execution_count": 66,
   "id": "2bbc8175",
   "metadata": {},
   "outputs": [
    {
     "name": "stdout",
     "output_type": "stream",
     "text": [
      "(1, 90)\n",
      "(2, 100)\n",
      "(3, 70)\n",
      "(4, 56)\n",
      "(5, 45)\n",
      "(6, 70)\n",
      "(7, 75)\n",
      "(8, 94)\n"
     ]
    }
   ],
   "source": [
    "results = cur.execute(\"select id, marks from student8\")\n",
    "\n",
    "for i in results:\n",
    "    print(i)"
   ]
  },
  {
   "cell_type": "code",
   "execution_count": 67,
   "id": "ffe1670e",
   "metadata": {},
   "outputs": [
    {
     "name": "stdout",
     "output_type": "stream",
     "text": [
      "(1, 'John', 90)\n"
     ]
    }
   ],
   "source": [
    "results = cur.execute(\"select * from student8 where id=1\")\n",
    "\n",
    "for i in results:\n",
    "    print(i)"
   ]
  },
  {
   "cell_type": "code",
   "execution_count": 68,
   "id": "cc000e59",
   "metadata": {},
   "outputs": [
    {
     "name": "stdout",
     "output_type": "stream",
     "text": [
      "(2, 'Teena', 100)\n"
     ]
    }
   ],
   "source": [
    "results = cur.execute(\"select * from student8 where id=2\")\n",
    "\n",
    "for i in results:\n",
    "    print(i)"
   ]
  },
  {
   "cell_type": "code",
   "execution_count": 69,
   "id": "081be146",
   "metadata": {},
   "outputs": [
    {
     "name": "stdout",
     "output_type": "stream",
     "text": [
      "(5, 'David', 45)\n"
     ]
    }
   ],
   "source": [
    "results = cur.execute(\"select * from student8 where id=5\")\n",
    "\n",
    "for i in results:\n",
    "    print(i)"
   ]
  },
  {
   "cell_type": "code",
   "execution_count": 70,
   "id": "7d2e570c",
   "metadata": {},
   "outputs": [
    {
     "name": "stdout",
     "output_type": "stream",
     "text": [
      "(1, 'John', 90)\n",
      "(2, 'Teena', 100)\n",
      "(3, 'Andrew', 70)\n"
     ]
    }
   ],
   "source": [
    "results = cur.execute(\"select * from student8 limit 3\")\n",
    "\n",
    "for i in results:\n",
    "    print(i)"
   ]
  },
  {
   "cell_type": "code",
   "execution_count": 71,
   "id": "43e5b6cd",
   "metadata": {},
   "outputs": [
    {
     "name": "stdout",
     "output_type": "stream",
     "text": [
      "('Teena',)\n"
     ]
    }
   ],
   "source": [
    "results = cur.execute(\"select name from student8 where id=2\")\n",
    "\n",
    "for i in results:\n",
    "    print(i)"
   ]
  },
  {
   "cell_type": "code",
   "execution_count": 72,
   "id": "a59ccb75",
   "metadata": {},
   "outputs": [
    {
     "name": "stdout",
     "output_type": "stream",
     "text": [
      "(100,)\n"
     ]
    }
   ],
   "source": [
    "results = cur.execute(\"select marks from student8 where id=2\")\n",
    "\n",
    "for i in results:\n",
    "    print(i)"
   ]
  },
  {
   "cell_type": "code",
   "execution_count": 73,
   "id": "75a13102",
   "metadata": {},
   "outputs": [
    {
     "name": "stdout",
     "output_type": "stream",
     "text": [
      "(1, 'John', 90)\n"
     ]
    }
   ],
   "source": [
    "results = cur.execute(\"select * from student8 where name='John'\")\n",
    "\n",
    "for i in results:\n",
    "    print(i)"
   ]
  },
  {
   "cell_type": "code",
   "execution_count": 74,
   "id": "a561f4f1",
   "metadata": {},
   "outputs": [
    {
     "name": "stdout",
     "output_type": "stream",
     "text": [
      "(90,)\n"
     ]
    }
   ],
   "source": [
    "results = cur.execute(\"select marks from student8 where name='John'\")\n",
    "\n",
    "for i in results:\n",
    "    print(i)"
   ]
  },
  {
   "cell_type": "code",
   "execution_count": 75,
   "id": "841ee049",
   "metadata": {},
   "outputs": [
    {
     "name": "stdout",
     "output_type": "stream",
     "text": [
      "(3, 'Andrew', 70)\n",
      "(6, 'Kim', 70)\n",
      "(7, 'Kiara', 75)\n"
     ]
    }
   ],
   "source": [
    "results = cur.execute(\"select * from student8 where marks>60 and marks<90\")\n",
    "\n",
    "for i in results:\n",
    "    print(i)"
   ]
  },
  {
   "cell_type": "code",
   "execution_count": 76,
   "id": "61d4a1fa",
   "metadata": {},
   "outputs": [
    {
     "name": "stdout",
     "output_type": "stream",
     "text": [
      "(4, 'Dorsey', 56)\n",
      "(5, 'David', 45)\n"
     ]
    }
   ],
   "source": [
    "results = cur.execute(\"select * from student8 where marks>40 and marks<60\")\n",
    "\n",
    "for i in results:\n",
    "    print(i)"
   ]
  },
  {
   "cell_type": "code",
   "execution_count": 77,
   "id": "ac9e6c7e",
   "metadata": {},
   "outputs": [
    {
     "name": "stdout",
     "output_type": "stream",
     "text": [
      "(1, 'John', 90)\n",
      "(2, 'Teena', 100)\n",
      "(3, 'Andrew', 70)\n",
      "(4, 'Dorsey', 56)\n",
      "(5, 'David', 45)\n",
      "(6, 'Kim', 70)\n",
      "(7, 'Kiara', 75)\n",
      "(8, 'Jack', 94)\n"
     ]
    }
   ],
   "source": [
    "results = cur.execute(\"select * from student8\")\n",
    "\n",
    "for i in results:\n",
    "    print(i)"
   ]
  },
  {
   "cell_type": "code",
   "execution_count": 78,
   "id": "51aaeb79",
   "metadata": {},
   "outputs": [
    {
     "data": {
      "text/plain": [
       "[(1, 'John', 90),\n",
       " (2, 'Teena', 100),\n",
       " (3, 'Andrew', 70),\n",
       " (4, 'Dorsey', 56),\n",
       " (5, 'David', 45),\n",
       " (6, 'Kim', 70),\n",
       " (7, 'Kiara', 75),\n",
       " (8, 'Jack', 94)]"
      ]
     },
     "execution_count": 78,
     "metadata": {},
     "output_type": "execute_result"
    }
   ],
   "source": [
    "# fetchall will display all rows\n",
    "\n",
    "results = cur.execute(\"select * from student8\")\n",
    "results.fetchall()"
   ]
  },
  {
   "cell_type": "code",
   "execution_count": 79,
   "id": "0f2dc241",
   "metadata": {},
   "outputs": [
    {
     "name": "stdout",
     "output_type": "stream",
     "text": [
      "(3, 'Andrew', 70)\n",
      "(5, 'David', 45)\n",
      "(4, 'Dorsey', 56)\n",
      "(8, 'Jack', 94)\n",
      "(1, 'John', 90)\n",
      "(7, 'Kiara', 75)\n",
      "(6, 'Kim', 70)\n",
      "(2, 'Teena', 100)\n"
     ]
    }
   ],
   "source": [
    "# Order by clause\n",
    "\n",
    "results = cur.execute(\"select * from student8 order by name asc\")\n",
    "\n",
    "for i in results:\n",
    "    print(i)"
   ]
  },
  {
   "cell_type": "code",
   "execution_count": 80,
   "id": "398f3bef",
   "metadata": {},
   "outputs": [
    {
     "name": "stdout",
     "output_type": "stream",
     "text": [
      "(2, 'Teena', 100)\n",
      "(6, 'Kim', 70)\n",
      "(7, 'Kiara', 75)\n",
      "(1, 'John', 90)\n",
      "(8, 'Jack', 94)\n",
      "(4, 'Dorsey', 56)\n",
      "(5, 'David', 45)\n",
      "(3, 'Andrew', 70)\n"
     ]
    }
   ],
   "source": [
    "results = cur.execute(\"select * from student8 order by name desc\")\n",
    "\n",
    "for i in results:\n",
    "    print(i)"
   ]
  },
  {
   "cell_type": "code",
   "execution_count": 81,
   "id": "369616cb",
   "metadata": {},
   "outputs": [
    {
     "name": "stdout",
     "output_type": "stream",
     "text": [
      "(5, 'David', 45)\n"
     ]
    }
   ],
   "source": [
    "# AND Operator\n",
    "\n",
    "results = cur.execute(\"select * from student8 where name='David' and marks=45\")\n",
    "\n",
    "for i in results:\n",
    "    print(i)"
   ]
  },
  {
   "cell_type": "code",
   "execution_count": 82,
   "id": "cf074ff1",
   "metadata": {},
   "outputs": [],
   "source": [
    "# As there is no row with name='David' and marks=68, \n",
    "# the code below does'nt get executed.\n",
    "\n",
    "results = cur.execute(\"select * from student8 where name='David' and marks=68\")\n",
    "\n",
    "for i in results:\n",
    "    print(i)"
   ]
  },
  {
   "cell_type": "code",
   "execution_count": 83,
   "id": "c5368f05",
   "metadata": {},
   "outputs": [],
   "source": [
    "# As there is no row with name='David' and marks=70, \n",
    "# the code below does'nt get executed.\n",
    "\n",
    "\n",
    "results = cur.execute(\"select * from student8 where name='David' and marks=70\")\n",
    "\n",
    "for i in results:\n",
    "    print(i)"
   ]
  },
  {
   "cell_type": "code",
   "execution_count": 84,
   "id": "42d78c81",
   "metadata": {},
   "outputs": [
    {
     "name": "stdout",
     "output_type": "stream",
     "text": [
      "(2, 'Teena', 100)\n",
      "(3, 'Andrew', 70)\n",
      "(6, 'Kim', 70)\n"
     ]
    }
   ],
   "source": [
    "# OR Operator\n",
    "\n",
    "results = cur.execute(\"select * from student8 where id=2 or marks=70\")\n",
    "\n",
    "for i in results:\n",
    "    print(i)"
   ]
  },
  {
   "cell_type": "code",
   "execution_count": 85,
   "id": "54edc542",
   "metadata": {},
   "outputs": [
    {
     "data": {
      "text/plain": [
       "[(2, 'Teena', 100), (3, 'Andrew', 70)]"
      ]
     },
     "execution_count": 85,
     "metadata": {},
     "output_type": "execute_result"
    }
   ],
   "source": [
    "results = cur.execute(\"select * from student8 where id=3 or marks=100\")\n",
    "\n",
    "results.fetchall()"
   ]
  },
  {
   "cell_type": "code",
   "execution_count": 86,
   "id": "744b9601",
   "metadata": {},
   "outputs": [
    {
     "name": "stdout",
     "output_type": "stream",
     "text": [
      "(2, 'Teena', 100)\n",
      "(3, 'Andrew', 70)\n",
      "(6, 'Kim', 70)\n"
     ]
    }
   ],
   "source": [
    "results = cur.execute(\"select * from student8 where id=2 or marks=70\")\n",
    "\n",
    "for i in results:\n",
    "    print(i)"
   ]
  },
  {
   "cell_type": "markdown",
   "id": "ae7a5627",
   "metadata": {},
   "source": [
    "<b>Aggregate functions</b>"
   ]
  },
  {
   "cell_type": "raw",
   "id": "479436d2",
   "metadata": {},
   "source": [
    "MIN -- find minimum\n",
    "MAX -- find maximum\n",
    "AVG -- find average\n",
    "SUM -- find sum\n",
    "COUNT -- count the number of rows"
   ]
  },
  {
   "cell_type": "code",
   "execution_count": 87,
   "id": "7b1ea71f",
   "metadata": {},
   "outputs": [
    {
     "name": "stdout",
     "output_type": "stream",
     "text": [
      "(45,)\n"
     ]
    }
   ],
   "source": [
    "# Find minimum marks\n",
    "\n",
    "results = cur.execute(\"select min(marks) from student8\")\n",
    "\n",
    "for i in results:\n",
    "    print(i)"
   ]
  },
  {
   "cell_type": "code",
   "execution_count": 88,
   "id": "d7082129",
   "metadata": {},
   "outputs": [
    {
     "name": "stdout",
     "output_type": "stream",
     "text": [
      "(100,)\n"
     ]
    }
   ],
   "source": [
    "# Find maximum marks\n",
    "\n",
    "results = cur.execute(\"select max(marks) from student8\")\n",
    "\n",
    "for i in results:\n",
    "    print(i)"
   ]
  },
  {
   "cell_type": "code",
   "execution_count": 89,
   "id": "6e7bed3b",
   "metadata": {},
   "outputs": [
    {
     "name": "stdout",
     "output_type": "stream",
     "text": [
      "(75.0,)\n"
     ]
    }
   ],
   "source": [
    "# Find average marks\n",
    "\n",
    "results = cur.execute(\"select avg(marks) from student8\")\n",
    "\n",
    "for i in results:\n",
    "    print(i)"
   ]
  },
  {
   "cell_type": "code",
   "execution_count": 90,
   "id": "a9a3026d",
   "metadata": {},
   "outputs": [
    {
     "name": "stdout",
     "output_type": "stream",
     "text": [
      "(600,)\n"
     ]
    }
   ],
   "source": [
    "# Find sum\n",
    "\n",
    "results = cur.execute(\"select sum(marks) from student8\")\n",
    "\n",
    "for i in results:\n",
    "    print(i)"
   ]
  },
  {
   "cell_type": "code",
   "execution_count": 91,
   "id": "9ec18b72",
   "metadata": {},
   "outputs": [
    {
     "data": {
      "text/plain": [
       "(8,)"
      ]
     },
     "execution_count": 91,
     "metadata": {},
     "output_type": "execute_result"
    }
   ],
   "source": [
    "results = cur.execute(\"select count(id) from student8\")\n",
    "\n",
    "results.fetchone()"
   ]
  },
  {
   "cell_type": "code",
   "execution_count": 92,
   "id": "ac6902c6",
   "metadata": {},
   "outputs": [
    {
     "name": "stdout",
     "output_type": "stream",
     "text": [
      "(3, 'Andrew', 70)\n",
      "(6, 'Kim', 70)\n",
      "(7, 'Kiara', 75)\n"
     ]
    }
   ],
   "source": [
    "results = cur.execute(\"select * from student8 where marks between 65 and 85\")\n",
    "\n",
    "for i in results:\n",
    "    print(i)"
   ]
  },
  {
   "cell_type": "code",
   "execution_count": 93,
   "id": "2f4aa4de",
   "metadata": {},
   "outputs": [],
   "source": [
    "# Here, we are trying to find out if there any rows, where marks are not inserted.\n",
    "# As there are no rows, where we have not inserted marks, \n",
    "# therefore, we don't get any output.\n",
    "\n",
    "\n",
    "results = cur.execute(\"select * from student8 where marks is null\")\n",
    "\n",
    "for i in results:\n",
    "    print(i)"
   ]
  },
  {
   "cell_type": "code",
   "execution_count": 94,
   "id": "47927757",
   "metadata": {},
   "outputs": [
    {
     "name": "stdout",
     "output_type": "stream",
     "text": [
      "(1, 'John', 90)\n",
      "(2, 'Teena', 100)\n",
      "(3, 'Andrew', 70)\n",
      "(4, 'Dorsey', 56)\n",
      "(5, 'David', 45)\n",
      "(6, 'Kim', 70)\n",
      "(7, 'Kiara', 75)\n",
      "(8, 'Jack', 94)\n"
     ]
    }
   ],
   "source": [
    "# Here, we are trying to find out the rows, where marks are inserted.\n",
    "\n",
    "results = cur.execute(\"select * from student8 where marks is not null\")\n",
    "\n",
    "for i in results:\n",
    "    print(i)"
   ]
  },
  {
   "cell_type": "code",
   "execution_count": 95,
   "id": "8473dc0d",
   "metadata": {},
   "outputs": [
    {
     "name": "stdout",
     "output_type": "stream",
     "text": [
      "(4, 'Dorsey', 56)\n",
      "(5, 'David', 45)\n"
     ]
    }
   ],
   "source": [
    "# LIKE Operators\n",
    "\n",
    "# LIKE Operators are used to find out the specific patterns\n",
    "# Not that, while using LIKe Operator, \"#\" stands for many characters \n",
    "# and \"_\" stands for a single character.\n",
    "\n",
    "# Here, we want to see all the names starting with \"D\"\n",
    "\n",
    "\n",
    "results = cur.execute(\"select * from student8 where name like 'D%'\")\n",
    "\n",
    "for i in results:\n",
    "    print(i)"
   ]
  },
  {
   "cell_type": "code",
   "execution_count": 96,
   "id": "7addf626",
   "metadata": {},
   "outputs": [
    {
     "name": "stdout",
     "output_type": "stream",
     "text": [
      "(1, 'John', 90)\n",
      "(8, 'Jack', 94)\n"
     ]
    }
   ],
   "source": [
    "# Here, we want to see all the names starting with \"J\"\n",
    "\n",
    "\n",
    "results = cur.execute(\"select * from student8 where name like 'J%'\")\n",
    "\n",
    "for i in results:\n",
    "    print(i)"
   ]
  },
  {
   "cell_type": "code",
   "execution_count": 97,
   "id": "ae181713",
   "metadata": {},
   "outputs": [
    {
     "name": "stdout",
     "output_type": "stream",
     "text": [
      "(5, 'David', 45)\n",
      "(8, 'Jack', 94)\n"
     ]
    }
   ],
   "source": [
    "# Here, we want to see all the names starting with any character, \n",
    "# and the second character should be \"a\"\n",
    "\n",
    "\n",
    "results = cur.execute(\"select * from student8 where name like '_a%'\")\n",
    "\n",
    "for i in results:\n",
    "    print(i)"
   ]
  },
  {
   "cell_type": "code",
   "execution_count": 98,
   "id": "971458ba",
   "metadata": {},
   "outputs": [
    {
     "name": "stdout",
     "output_type": "stream",
     "text": [
      "(6, 'Kim', 70)\n"
     ]
    }
   ],
   "source": [
    "# Here, we want to see all the names starting with any character,\n",
    "# but the end character should be \"m\"\n",
    "\n",
    "\n",
    "results = cur.execute(\"select * from student8 where name like '%m'\")\n",
    "\n",
    "for i in results:\n",
    "    print(i)"
   ]
  },
  {
   "cell_type": "code",
   "execution_count": 99,
   "id": "e20b9d9d",
   "metadata": {},
   "outputs": [
    {
     "name": "stdout",
     "output_type": "stream",
     "text": [
      "(2, 'Teena', 100)\n",
      "(3, 'Andrew', 70)\n",
      "(4, 'Dorsey', 56)\n"
     ]
    }
   ],
   "source": [
    "# Here, we want to see all the names starting and ending with any character,\n",
    "# but in between \"e\" should be present\n",
    "\n",
    "\n",
    "results = cur.execute(\"select * from student8 where name like '%e%'\")\n",
    "\n",
    "for i in results:\n",
    "    print(i)"
   ]
  },
  {
   "cell_type": "code",
   "execution_count": 100,
   "id": "a01556a2",
   "metadata": {},
   "outputs": [
    {
     "name": "stdout",
     "output_type": "stream",
     "text": [
      "(1, 'John', 90)\n",
      "(8, 'Jack', 94)\n"
     ]
    }
   ],
   "source": [
    "# Here, we want to see only those names, which comprise of 4 characters\n",
    "\n",
    "results = cur.execute(\"select * from student8 where name like '____'\")\n",
    "\n",
    "for i in results:\n",
    "    print(i)"
   ]
  },
  {
   "cell_type": "code",
   "execution_count": 101,
   "id": "63603acc",
   "metadata": {},
   "outputs": [
    {
     "data": {
      "text/plain": [
       "[(1, 'John', 90),\n",
       " (2, 'Teena', 100),\n",
       " (4, 'Dorsey', 56),\n",
       " (5, 'David', 45),\n",
       " (7, 'Kiara', 75),\n",
       " (8, 'Jack', 94)]"
      ]
     },
     "execution_count": 101,
     "metadata": {},
     "output_type": "execute_result"
    }
   ],
   "source": [
    "results = cur.execute(\"select * from student8 where marks NOT in (70)\")\n",
    "\n",
    "results.fetchall()"
   ]
  },
  {
   "cell_type": "code",
   "execution_count": 102,
   "id": "7c04fd90",
   "metadata": {},
   "outputs": [
    {
     "name": "stdout",
     "output_type": "stream",
     "text": [
      "(1, 'John', 90)\n",
      "(2, 'Teena', 100)\n",
      "(3, 'Andrew', 70)\n",
      "(4, 'Dorsey', 56)\n",
      "(5, 'David', 45)\n",
      "(7, 'Kiara', 75)\n",
      "(8, 'Jack', 94)\n"
     ]
    }
   ],
   "source": [
    "results = cur.execute(\"select * from student8 where name NOT in ('Kim')\")\n",
    "\n",
    "for i in results:\n",
    "    print(i)"
   ]
  },
  {
   "cell_type": "markdown",
   "id": "0dd5f455",
   "metadata": {},
   "source": [
    "<b>Update record</b>"
   ]
  },
  {
   "cell_type": "code",
   "execution_count": 103,
   "id": "b078eb7c",
   "metadata": {},
   "outputs": [],
   "source": [
    "# Update the record\n",
    "\n",
    "sql = \"update student8 set marks=81 where id=4\"\n",
    "\n",
    "cur.execute(sql)\n",
    "\n",
    "db.commit()"
   ]
  },
  {
   "cell_type": "code",
   "execution_count": 104,
   "id": "ad7c0bc0",
   "metadata": {},
   "outputs": [
    {
     "name": "stdout",
     "output_type": "stream",
     "text": [
      "(4, 'Dorsey', 81)\n"
     ]
    }
   ],
   "source": [
    "results = cur.execute(\"select * from student8 where id=4\")\n",
    "\n",
    "for i in results:\n",
    "    print(i)"
   ]
  },
  {
   "cell_type": "code",
   "execution_count": 105,
   "id": "26c42319",
   "metadata": {},
   "outputs": [
    {
     "name": "stdout",
     "output_type": "stream",
     "text": [
      "(1, 'John', 90)\n",
      "(2, 'Teena', 100)\n",
      "(3, 'Andrew', 70)\n",
      "(4, 'Dorsey', 81)\n",
      "(5, 'David', 45)\n",
      "(6, 'Kim', 70)\n",
      "(7, 'Kiara', 75)\n",
      "(8, 'Jack', 94)\n"
     ]
    }
   ],
   "source": [
    "results = cur.execute(\"select * from student8\")\n",
    "\n",
    "for i in results:\n",
    "    print(i)"
   ]
  },
  {
   "cell_type": "code",
   "execution_count": 106,
   "id": "b3e106da",
   "metadata": {},
   "outputs": [],
   "source": [
    "# Multiple record update ysing \"IN\"\n",
    "\n",
    "sql = \"update student8 set marks=92 where id in(1,2)\"\n",
    "\n",
    "cur.execute(sql)\n",
    "\n",
    "db.commit()"
   ]
  },
  {
   "cell_type": "code",
   "execution_count": 107,
   "id": "89b12add",
   "metadata": {},
   "outputs": [
    {
     "name": "stdout",
     "output_type": "stream",
     "text": [
      "(1, 'John', 92)\n",
      "(2, 'Teena', 92)\n",
      "(3, 'Andrew', 70)\n",
      "(4, 'Dorsey', 81)\n",
      "(5, 'David', 45)\n",
      "(6, 'Kim', 70)\n",
      "(7, 'Kiara', 75)\n",
      "(8, 'Jack', 94)\n"
     ]
    }
   ],
   "source": [
    "results = cur.execute(\"select * from student8\")\n",
    "\n",
    "for i in results:\n",
    "    print(i)"
   ]
  },
  {
   "cell_type": "code",
   "execution_count": 108,
   "id": "91fbb107",
   "metadata": {},
   "outputs": [],
   "source": [
    "sql = \"update student8 set marks=68 where id in(5,6)\"\n",
    "\n",
    "cur.execute(sql)\n",
    "\n",
    "db.commit()"
   ]
  },
  {
   "cell_type": "code",
   "execution_count": 109,
   "id": "3212139f",
   "metadata": {},
   "outputs": [
    {
     "name": "stdout",
     "output_type": "stream",
     "text": [
      "(1, 'John', 92)\n",
      "(2, 'Teena', 92)\n",
      "(3, 'Andrew', 70)\n",
      "(4, 'Dorsey', 81)\n",
      "(5, 'David', 68)\n",
      "(6, 'Kim', 68)\n",
      "(7, 'Kiara', 75)\n",
      "(8, 'Jack', 94)\n"
     ]
    }
   ],
   "source": [
    "results = cur.execute(\"select * from student8\")\n",
    "\n",
    "for i in results:\n",
    "    print(i)"
   ]
  },
  {
   "cell_type": "markdown",
   "id": "a0498941",
   "metadata": {},
   "source": [
    "<b>Delete any unwanted records</b>"
   ]
  },
  {
   "cell_type": "code",
   "execution_count": 110,
   "id": "dba8367e",
   "metadata": {},
   "outputs": [
    {
     "data": {
      "text/plain": [
       "<sqlite3.Cursor at 0x65e861f110>"
      ]
     },
     "execution_count": 110,
     "metadata": {},
     "output_type": "execute_result"
    }
   ],
   "source": [
    "sql = \"delete from student8 where id=6\"\n",
    "\n",
    "cur.execute(sql)"
   ]
  },
  {
   "cell_type": "code",
   "execution_count": 111,
   "id": "46fdd76c",
   "metadata": {},
   "outputs": [
    {
     "data": {
      "text/plain": [
       "[(1, 'John', 92),\n",
       " (2, 'Teena', 92),\n",
       " (3, 'Andrew', 70),\n",
       " (4, 'Dorsey', 81),\n",
       " (5, 'David', 68),\n",
       " (7, 'Kiara', 75),\n",
       " (8, 'Jack', 94)]"
      ]
     },
     "execution_count": 111,
     "metadata": {},
     "output_type": "execute_result"
    }
   ],
   "source": [
    "results = cur.execute('select * from student8')\n",
    "\n",
    "results.fetchall()"
   ]
  },
  {
   "cell_type": "code",
   "execution_count": 112,
   "id": "3f0d9917",
   "metadata": {},
   "outputs": [
    {
     "data": {
      "text/plain": [
       "<sqlite3.Cursor at 0x65e861f110>"
      ]
     },
     "execution_count": 112,
     "metadata": {},
     "output_type": "execute_result"
    }
   ],
   "source": [
    "sql = \"delete from student8 where id=4\"\n",
    "\n",
    "cur.execute(sql)"
   ]
  },
  {
   "cell_type": "code",
   "execution_count": 113,
   "id": "2a10c389",
   "metadata": {},
   "outputs": [
    {
     "data": {
      "text/plain": [
       "[(1, 'John', 92),\n",
       " (2, 'Teena', 92),\n",
       " (3, 'Andrew', 70),\n",
       " (5, 'David', 68),\n",
       " (7, 'Kiara', 75),\n",
       " (8, 'Jack', 94)]"
      ]
     },
     "execution_count": 113,
     "metadata": {},
     "output_type": "execute_result"
    }
   ],
   "source": [
    "results = cur.execute('select * from student8')\n",
    "\n",
    "results.fetchall()"
   ]
  },
  {
   "cell_type": "markdown",
   "id": "9c242a2e",
   "metadata": {},
   "source": [
    "<b>DROP table student</b>"
   ]
  },
  {
   "cell_type": "code",
   "execution_count": 114,
   "id": "bb2a6528",
   "metadata": {},
   "outputs": [],
   "source": [
    "sql = 'drop table student8'\n",
    "\n",
    "results = cur.execute(sql)"
   ]
  },
  {
   "cell_type": "code",
   "execution_count": 115,
   "id": "5af8525d",
   "metadata": {},
   "outputs": [
    {
     "ename": "OperationalError",
     "evalue": "no such table: student8",
     "output_type": "error",
     "traceback": [
      "\u001b[1;31m---------------------------------------------------------------------------\u001b[0m",
      "\u001b[1;31mOperationalError\u001b[0m                          Traceback (most recent call last)",
      "\u001b[1;32m~\\AppData\\Local\\Temp/ipykernel_1864/3262605560.py\u001b[0m in \u001b[0;36m<module>\u001b[1;34m\u001b[0m\n\u001b[1;32m----> 1\u001b[1;33m \u001b[0mresults\u001b[0m \u001b[1;33m=\u001b[0m \u001b[0mcur\u001b[0m\u001b[1;33m.\u001b[0m\u001b[0mexecute\u001b[0m\u001b[1;33m(\u001b[0m\u001b[1;34m'select * from student8'\u001b[0m\u001b[1;33m)\u001b[0m\u001b[1;33m\u001b[0m\u001b[1;33m\u001b[0m\u001b[0m\n\u001b[0m\u001b[0;32m      2\u001b[0m \u001b[1;33m\u001b[0m\u001b[0m\n\u001b[0;32m      3\u001b[0m \u001b[0mresults\u001b[0m\u001b[1;33m.\u001b[0m\u001b[0mfetchall\u001b[0m\u001b[1;33m(\u001b[0m\u001b[1;33m)\u001b[0m\u001b[1;33m\u001b[0m\u001b[1;33m\u001b[0m\u001b[0m\n",
      "\u001b[1;31mOperationalError\u001b[0m: no such table: student8"
     ]
    }
   ],
   "source": [
    "results = cur.execute('select * from student8')\n",
    "\n",
    "results.fetchall()"
   ]
  },
  {
   "cell_type": "code",
   "execution_count": 116,
   "id": "dd520127",
   "metadata": {},
   "outputs": [],
   "source": [
    "db.close()"
   ]
  },
  {
   "cell_type": "markdown",
   "id": "0027b11f",
   "metadata": {},
   "source": [
    "# Practice Exercise"
   ]
  },
  {
   "cell_type": "code",
   "execution_count": 117,
   "id": "9fe9d00d",
   "metadata": {},
   "outputs": [
    {
     "name": "stdout",
     "output_type": "stream",
     "text": [
      "Opened database successfully\n"
     ]
    }
   ],
   "source": [
    "conn = sqlite3.connect('anydatabase.db')\n",
    "\n",
    "print(\"Opened database successfully\")"
   ]
  },
  {
   "cell_type": "code",
   "execution_count": 118,
   "id": "529d9c70",
   "metadata": {},
   "outputs": [],
   "source": [
    "cur = conn.cursor()"
   ]
  },
  {
   "cell_type": "code",
   "execution_count": 119,
   "id": "d3267dc6",
   "metadata": {},
   "outputs": [
    {
     "data": {
      "text/plain": [
       "<sqlite3.Cursor at 0x65e863cd50>"
      ]
     },
     "execution_count": 119,
     "metadata": {},
     "output_type": "execute_result"
    }
   ],
   "source": [
    "conn.execute('CREATE TABLE Employees2 (ID INT PRIMARY KEY, NAME TEXT, AGE INT, ADDRESS char(20), SALARY REAL)')"
   ]
  },
  {
   "cell_type": "code",
   "execution_count": 120,
   "id": "fa8a54da",
   "metadata": {},
   "outputs": [
    {
     "data": {
      "text/plain": [
       "<sqlite3.Cursor at 0x65e863cea0>"
      ]
     },
     "execution_count": 120,
     "metadata": {},
     "output_type": "execute_result"
    }
   ],
   "source": [
    "conn.execute(\"INSERT INTO Employees2 (ID, NAME, AGE, ADDRESS, SALARY) VALUES(1, 'Ajeet', 27, 'Delhi', 20000)\")"
   ]
  },
  {
   "cell_type": "code",
   "execution_count": 121,
   "id": "44695467",
   "metadata": {},
   "outputs": [
    {
     "data": {
      "text/plain": [
       "<sqlite3.Cursor at 0x65e8641030>"
      ]
     },
     "execution_count": 121,
     "metadata": {},
     "output_type": "execute_result"
    }
   ],
   "source": [
    "conn.execute(\"INSERT INTO Employees2 (ID, NAME, AGE, ADDRESS, SALARY) VALUES(2, 'Allen', 22, 'London', 25000)\")"
   ]
  },
  {
   "cell_type": "code",
   "execution_count": 122,
   "id": "4aa441c0",
   "metadata": {},
   "outputs": [
    {
     "data": {
      "text/plain": [
       "<sqlite3.Cursor at 0x65e8641180>"
      ]
     },
     "execution_count": 122,
     "metadata": {},
     "output_type": "execute_result"
    }
   ],
   "source": [
    "conn.execute(\"INSERT INTO Employees2 (ID, NAME, AGE, ADDRESS, SALARY) VALUES(3, 'Mark', 29, 'CA', 200000.0)\")"
   ]
  },
  {
   "cell_type": "code",
   "execution_count": 123,
   "id": "18824115",
   "metadata": {},
   "outputs": [
    {
     "data": {
      "text/plain": [
       "<sqlite3.Cursor at 0x65e86412d0>"
      ]
     },
     "execution_count": 123,
     "metadata": {},
     "output_type": "execute_result"
    }
   ],
   "source": [
    "conn.execute(\"INSERT INTO Employees2 (ID, NAME, AGE, ADDRESS, SALARY) VALUES(4, 'Kanchan', 22, 'Ghaziabad', 30000)\")"
   ]
  },
  {
   "cell_type": "code",
   "execution_count": 124,
   "id": "3973b3eb",
   "metadata": {},
   "outputs": [],
   "source": [
    "conn.commit()"
   ]
  },
  {
   "cell_type": "code",
   "execution_count": 125,
   "id": "3cfddd6d",
   "metadata": {},
   "outputs": [
    {
     "name": "stdout",
     "output_type": "stream",
     "text": [
      "(1, 'Ajeet', 27, 'Delhi', 20000.0)\n",
      "(2, 'Allen', 22, 'London', 25000.0)\n",
      "(3, 'Mark', 29, 'CA', 200000.0)\n",
      "(4, 'Kanchan', 22, 'Ghaziabad', 30000.0)\n"
     ]
    }
   ],
   "source": [
    "results = cur.execute(\"select * from Employees2\")\n",
    "\n",
    "for row in results:\n",
    "    print(row)"
   ]
  },
  {
   "cell_type": "markdown",
   "id": "b8f7e308",
   "metadata": {},
   "source": [
    "# Adding data in table with csv (comma separated values) file directly"
   ]
  },
  {
   "cell_type": "markdown",
   "id": "5c82f744",
   "metadata": {},
   "source": [
    "Till now, we inserted the records one-by-one by using the insert command. Now, if we want to insert more records in the database, stored in MySQLite (let's say 100 records at once), then we have to create a data file in csv format, and store it in C Drive. We then, have to insert all the records in this csv file (Note that, we have to place comma between each record). Then, we have to call this csv file in the database, that is stored in MySQLite. Now, the data stored in the csv file will be inserted inside the table, that is present in MySQLite. This is known as importing of data inside the SQL Databases. "
   ]
  },
  {
   "cell_type": "code",
   "execution_count": 126,
   "id": "09bc5fa0",
   "metadata": {},
   "outputs": [],
   "source": [
    "import sqlite3"
   ]
  },
  {
   "cell_type": "code",
   "execution_count": 127,
   "id": "a16744b1",
   "metadata": {},
   "outputs": [],
   "source": [
    "db = sqlite3.connect(\"E:/MySQLite_Database/scores_database.db\")\n",
    "\n",
    "# Declare cursor\n",
    "cursor = db.cursor()"
   ]
  },
  {
   "cell_type": "code",
   "execution_count": 128,
   "id": "66ef4cdf",
   "metadata": {},
   "outputs": [
    {
     "data": {
      "text/plain": [
       "<sqlite3.Cursor at 0x65e8641650>"
      ]
     },
     "execution_count": 128,
     "metadata": {},
     "output_type": "execute_result"
    }
   ],
   "source": [
    "# Create Table\n",
    "cursor.execute(\"CREATE TABLE scores1(gender TEXT, student_id INT PRIMARY KEY, marks INT)\")"
   ]
  },
  {
   "cell_type": "code",
   "execution_count": 129,
   "id": "4f83d5b1",
   "metadata": {},
   "outputs": [
    {
     "name": "stdout",
     "output_type": "stream",
     "text": [
      "1 Record(s) inserted\n"
     ]
    }
   ],
   "source": [
    "# Insert records into the table. (single rcord inserting)\n",
    "cursor.execute(\"INSERT INTO scores1(gender, student_id, marks) values('Male', 100, 55)\")\n",
    "\n",
    "\n",
    "# Save the records permanently. (If you don't commit, next time you will not see the records in the table)\n",
    "db.commit()\n",
    "\n",
    "\n",
    "# Count of records inserted\n",
    "print(cursor.rowcount, \"Record(s) inserted\")"
   ]
  },
  {
   "cell_type": "markdown",
   "id": "35f14602",
   "metadata": {},
   "source": [
    "# Inserting records from csv file"
   ]
  },
  {
   "cell_type": "code",
   "execution_count": 131,
   "id": "3ea80fbb",
   "metadata": {},
   "outputs": [
    {
     "name": "stdout",
     "output_type": "stream",
     "text": [
      "17 Records inserted\n"
     ]
    }
   ],
   "source": [
    "# Note that, here the file \"Scores_file.csv\" is present in the home directory. That's why, we are directly calling it.\n",
    "# But, if the csv file in store in some directory (let's say, C Drive), then we have to specify its path.\n",
    "\n",
    "# Note that, we can also upload the file in the Jupyter Notebook, before calling it.\n",
    "\n",
    "\n",
    "with open('Scores_file.csv','r') as file:\n",
    "    total_records = 0\n",
    "    for row in file:\n",
    "        cursor.execute(\"insert into scores1 values(?,?,?)\", row.split(\",\"))\n",
    "        db.commit()\n",
    "        total_records+=1\n",
    "print(total_records, \"Records inserted\")"
   ]
  },
  {
   "cell_type": "code",
   "execution_count": 132,
   "id": "14836f81",
   "metadata": {},
   "outputs": [
    {
     "name": "stdout",
     "output_type": "stream",
     "text": [
      "('Male', 100, 55)\n",
      "('Male', 104, 56)\n",
      "('Male', 105, 78)\n",
      "('Female', 106, 36)\n",
      "('Male', 107, 20)\n",
      "('Female', 108, 98)\n",
      "('Male', 109, 85)\n",
      "('Female', 110, 69)\n",
      "('Male', 111, 46)\n",
      "('Female', 112, 66)\n",
      "('Male', 113, 91)\n",
      "('Male', 114, 48)\n",
      "('Male', 115, 56)\n",
      "('Female', 116, 67)\n",
      "('Male', 117, 78)\n",
      "('Male', 118, 89)\n",
      "('Male', 119, 32)\n",
      "('Female', 120, 44)\n"
     ]
    }
   ],
   "source": [
    "result = cursor.execute(\"SELECT * from scores1\")\n",
    "for row in result:\n",
    "    print(row)"
   ]
  },
  {
   "cell_type": "code",
   "execution_count": 133,
   "id": "7ef1a323",
   "metadata": {},
   "outputs": [
    {
     "name": "stdout",
     "output_type": "stream",
     "text": [
      "('Male', 104, 56)\n"
     ]
    }
   ],
   "source": [
    "sql = \"SELECT * FROM scores1 WHERE student_id = 104\"\n",
    "result = cursor.execute(sql)\n",
    "for row in result:\n",
    "    print(row)"
   ]
  },
  {
   "cell_type": "code",
   "execution_count": 134,
   "id": "f3c90077",
   "metadata": {},
   "outputs": [
    {
     "name": "stdout",
     "output_type": "stream",
     "text": [
      "('Female', 108, 98)\n",
      "('Male', 113, 91)\n",
      "('Male', 118, 89)\n",
      "('Male', 109, 85)\n",
      "('Male', 105, 78)\n",
      "('Male', 117, 78)\n",
      "('Female', 110, 69)\n",
      "('Female', 116, 67)\n",
      "('Female', 112, 66)\n",
      "('Male', 104, 56)\n",
      "('Male', 115, 56)\n",
      "('Male', 100, 55)\n",
      "('Male', 114, 48)\n",
      "('Male', 111, 46)\n",
      "('Female', 120, 44)\n",
      "('Female', 106, 36)\n",
      "('Male', 119, 32)\n",
      "('Male', 107, 20)\n"
     ]
    }
   ],
   "source": [
    "# How to change the order of records (Increasing or decreasing)\n",
    "\n",
    "result = cursor.execute(\"SELECT * FROM scores1 ORDER BY marks desc\")\n",
    "for row in result:\n",
    "    print(row)"
   ]
  },
  {
   "cell_type": "code",
   "execution_count": 135,
   "id": "3b632572",
   "metadata": {},
   "outputs": [
    {
     "name": "stdout",
     "output_type": "stream",
     "text": [
      "('Male', 107, 20)\n",
      "('Male', 119, 32)\n",
      "('Female', 106, 36)\n",
      "('Female', 120, 44)\n",
      "('Male', 111, 46)\n",
      "('Male', 114, 48)\n",
      "('Male', 100, 55)\n",
      "('Male', 104, 56)\n",
      "('Male', 115, 56)\n",
      "('Female', 112, 66)\n",
      "('Female', 116, 67)\n",
      "('Female', 110, 69)\n",
      "('Male', 105, 78)\n",
      "('Male', 117, 78)\n",
      "('Male', 109, 85)\n",
      "('Male', 118, 89)\n",
      "('Male', 113, 91)\n",
      "('Female', 108, 98)\n"
     ]
    }
   ],
   "source": [
    "result = cursor.execute(\"SELECT * FROM scores1 ORDER BY marks asc\")\n",
    "for row in result:\n",
    "    print(row)"
   ]
  },
  {
   "cell_type": "code",
   "execution_count": 136,
   "id": "5a72a4a7",
   "metadata": {},
   "outputs": [
    {
     "name": "stdout",
     "output_type": "stream",
     "text": [
      "('Male', 107, 20)\n",
      "('Male', 119, 32)\n",
      "('Female', 106, 36)\n",
      "('Female', 120, 44)\n",
      "('Male', 111, 46)\n",
      "('Male', 114, 48)\n",
      "('Male', 100, 55)\n",
      "('Male', 104, 56)\n",
      "('Male', 115, 56)\n",
      "('Female', 112, 66)\n",
      "('Female', 116, 67)\n",
      "('Female', 110, 69)\n",
      "('Male', 105, 78)\n",
      "('Male', 117, 78)\n",
      "('Male', 109, 85)\n",
      "('Male', 118, 89)\n",
      "('Male', 113, 91)\n",
      "('Female', 108, 98)\n"
     ]
    }
   ],
   "source": [
    "# Note that, even if we don't specify \"asc\", the marks will be arranged in ascending order.\n",
    "\n",
    "result = cursor.execute(\"SELECT * FROM scores1 ORDER BY marks\")\n",
    "for row in result:\n",
    "    print(row)"
   ]
  },
  {
   "cell_type": "code",
   "execution_count": 137,
   "id": "2bc92310",
   "metadata": {},
   "outputs": [
    {
     "data": {
      "text/plain": [
       "<sqlite3.Cursor at 0x65e8641650>"
      ]
     },
     "execution_count": 137,
     "metadata": {},
     "output_type": "execute_result"
    }
   ],
   "source": [
    "# Single Record update\n",
    "\n",
    "sql = \"UPDATE scores1 SET marks=50 WHERE student_id=107\"\n",
    "cursor.execute(sql)"
   ]
  },
  {
   "cell_type": "code",
   "execution_count": 138,
   "id": "53032696",
   "metadata": {},
   "outputs": [
    {
     "name": "stdout",
     "output_type": "stream",
     "text": [
      "('Male', 100, 55)\n",
      "('Male', 104, 56)\n",
      "('Male', 105, 78)\n",
      "('Female', 106, 36)\n",
      "('Male', 107, 50)\n",
      "('Female', 108, 98)\n",
      "('Male', 109, 85)\n",
      "('Female', 110, 69)\n",
      "('Male', 111, 46)\n",
      "('Female', 112, 66)\n",
      "('Male', 113, 91)\n",
      "('Male', 114, 48)\n",
      "('Male', 115, 56)\n",
      "('Female', 116, 67)\n",
      "('Male', 117, 78)\n",
      "('Male', 118, 89)\n",
      "('Male', 119, 32)\n",
      "('Female', 120, 44)\n"
     ]
    }
   ],
   "source": [
    "# Verify if its updated\n",
    "\n",
    "result = cursor.execute(\"SELECT * FROM scores1 ORDER BY student_id\")\n",
    "for row in result:\n",
    "    print(row)"
   ]
  },
  {
   "cell_type": "code",
   "execution_count": 139,
   "id": "13667cf9",
   "metadata": {},
   "outputs": [
    {
     "name": "stdout",
     "output_type": "stream",
     "text": [
      "Minimum Marks=  (32,)\n"
     ]
    }
   ],
   "source": [
    "# MIN\n",
    "\n",
    "result = cursor.execute(\"SELECT MIN(marks) from scores1\")\n",
    "print('Minimum Marks= ', result.fetchone())"
   ]
  },
  {
   "cell_type": "code",
   "execution_count": 140,
   "id": "614e8d20",
   "metadata": {},
   "outputs": [
    {
     "name": "stdout",
     "output_type": "stream",
     "text": [
      "Maximum Marks=  (98,)\n"
     ]
    }
   ],
   "source": [
    "# MAX\n",
    "\n",
    "result = cursor.execute(\"SELECT MAX(marks) from scores1\")\n",
    "print('Maximum Marks= ', result.fetchone())"
   ]
  },
  {
   "cell_type": "code",
   "execution_count": 141,
   "id": "9e5d1017",
   "metadata": {},
   "outputs": [],
   "source": [
    "db.close()"
   ]
  },
  {
   "cell_type": "markdown",
   "id": "1bd8764f",
   "metadata": {},
   "source": [
    "----------------------------------------------------------------------------------------------------------"
   ]
  },
  {
   "cell_type": "code",
   "execution_count": 142,
   "id": "a6be54c4",
   "metadata": {},
   "outputs": [],
   "source": [
    "import sqlite3"
   ]
  },
  {
   "cell_type": "markdown",
   "id": "8f9a744f",
   "metadata": {},
   "source": [
    "Adding date in table"
   ]
  },
  {
   "cell_type": "code",
   "execution_count": 143,
   "id": "f8c7f33a",
   "metadata": {},
   "outputs": [],
   "source": [
    "db = sqlite3.connect(\"E:/MySQLite_Database/sports_database.db\")"
   ]
  },
  {
   "cell_type": "code",
   "execution_count": 144,
   "id": "93f22a41",
   "metadata": {},
   "outputs": [],
   "source": [
    "cur = db.cursor()"
   ]
  },
  {
   "cell_type": "markdown",
   "id": "4c5159b4",
   "metadata": {},
   "source": [
    "constraints -----        \n",
    "unique -- enter only unique values, no duplicate values        \n",
    "not null -- no blank values can be inserted in table"
   ]
  },
  {
   "cell_type": "code",
   "execution_count": 145,
   "id": "982e37e0",
   "metadata": {},
   "outputs": [
    {
     "data": {
      "text/plain": [
       "<sqlite3.Cursor at 0x65e8645ab0>"
      ]
     },
     "execution_count": 145,
     "metadata": {},
     "output_type": "execute_result"
    }
   ],
   "source": [
    "cur.execute(\"create table sports1(id int primary key, sportname text unique, dateofevent date, country text not null)\")"
   ]
  },
  {
   "cell_type": "code",
   "execution_count": 146,
   "id": "8f8c3bd7",
   "metadata": {},
   "outputs": [
    {
     "data": {
      "text/plain": [
       "<sqlite3.Cursor at 0x65e8645ab0>"
      ]
     },
     "execution_count": 146,
     "metadata": {},
     "output_type": "execute_result"
    }
   ],
   "source": [
    "cur.execute(\"insert into sports1 values(1, 'cricket', '2021-11-9', 'England')\")"
   ]
  },
  {
   "cell_type": "code",
   "execution_count": 147,
   "id": "225514f9",
   "metadata": {},
   "outputs": [
    {
     "ename": "IntegrityError",
     "evalue": "UNIQUE constraint failed: sports1.sportname",
     "output_type": "error",
     "traceback": [
      "\u001b[1;31m---------------------------------------------------------------------------\u001b[0m",
      "\u001b[1;31mIntegrityError\u001b[0m                            Traceback (most recent call last)",
      "\u001b[1;32m~\\AppData\\Local\\Temp/ipykernel_1864/1072317870.py\u001b[0m in \u001b[0;36m<module>\u001b[1;34m\u001b[0m\n\u001b[0;32m      1\u001b[0m \u001b[1;31m# This line will throw an error, as sportname is duplicate --- unique constraint failed\u001b[0m\u001b[1;33m\u001b[0m\u001b[1;33m\u001b[0m\u001b[0m\n\u001b[0;32m      2\u001b[0m \u001b[1;33m\u001b[0m\u001b[0m\n\u001b[1;32m----> 3\u001b[1;33m \u001b[0mcur\u001b[0m\u001b[1;33m.\u001b[0m\u001b[0mexecute\u001b[0m\u001b[1;33m(\u001b[0m\u001b[1;34m\"insert into sports1 values(2, 'cricket', '2018-08-02', 'SriLanka')\"\u001b[0m\u001b[1;33m)\u001b[0m\u001b[1;33m\u001b[0m\u001b[1;33m\u001b[0m\u001b[0m\n\u001b[0m",
      "\u001b[1;31mIntegrityError\u001b[0m: UNIQUE constraint failed: sports1.sportname"
     ]
    }
   ],
   "source": [
    "# This line will throw an error, as sportname is duplicate --- unique constraint failed\n",
    "\n",
    "cur.execute(\"insert into sports1 values(2, 'cricket', '2018-08-02', 'SriLanka')\")"
   ]
  },
  {
   "cell_type": "code",
   "execution_count": 148,
   "id": "f7cf5484",
   "metadata": {},
   "outputs": [
    {
     "name": "stdout",
     "output_type": "stream",
     "text": [
      "1 record(s) inserted\n"
     ]
    }
   ],
   "source": [
    "cur.execute(\"insert into sports1 values(2, 'Tennis', '2018-08-02', 'SriLanka')\")\n",
    "print(cur.rowcount, \"record(s) inserted\")"
   ]
  },
  {
   "cell_type": "code",
   "execution_count": 149,
   "id": "0e762d89",
   "metadata": {},
   "outputs": [
    {
     "data": {
      "text/plain": [
       "[(1, 'cricket', '2021-11-9', 'England'),\n",
       " (2, 'Tennis', '2018-08-02', 'SriLanka')]"
      ]
     },
     "execution_count": 149,
     "metadata": {},
     "output_type": "execute_result"
    }
   ],
   "source": [
    "results = cur.execute('select * from sports1')\n",
    "\n",
    "results.fetchall()"
   ]
  },
  {
   "cell_type": "code",
   "execution_count": 150,
   "id": "c8ce1a45",
   "metadata": {},
   "outputs": [
    {
     "ename": "IntegrityError",
     "evalue": "NOT NULL constraint failed: sports1.country",
     "output_type": "error",
     "traceback": [
      "\u001b[1;31m---------------------------------------------------------------------------\u001b[0m",
      "\u001b[1;31mIntegrityError\u001b[0m                            Traceback (most recent call last)",
      "\u001b[1;32m~\\AppData\\Local\\Temp/ipykernel_1864/2802591337.py\u001b[0m in \u001b[0;36m<module>\u001b[1;34m\u001b[0m\n\u001b[0;32m      1\u001b[0m \u001b[1;31m# This query will throw an error : not null constraint : cannot leave any field blank\u001b[0m\u001b[1;33m\u001b[0m\u001b[1;33m\u001b[0m\u001b[0m\n\u001b[0;32m      2\u001b[0m \u001b[1;33m\u001b[0m\u001b[0m\n\u001b[1;32m----> 3\u001b[1;33m \u001b[0mcur\u001b[0m\u001b[1;33m.\u001b[0m\u001b[0mexecute\u001b[0m\u001b[1;33m(\u001b[0m\u001b[1;34m\"insert into sports1 values(3, 'FootBall', '2022-05-30', NULL)\"\u001b[0m\u001b[1;33m)\u001b[0m\u001b[1;33m\u001b[0m\u001b[1;33m\u001b[0m\u001b[0m\n\u001b[0m",
      "\u001b[1;31mIntegrityError\u001b[0m: NOT NULL constraint failed: sports1.country"
     ]
    }
   ],
   "source": [
    "# This query will throw an error : not null constraint : cannot leave any field blank\n",
    "\n",
    "cur.execute(\"insert into sports1 values(3, 'FootBall', '2022-05-30', NULL)\")"
   ]
  },
  {
   "cell_type": "code",
   "execution_count": 151,
   "id": "7b531522",
   "metadata": {},
   "outputs": [],
   "source": [
    "cur.execute(\"insert into sports1 values(3, 'FootBall', '2022-05-30', 'Australia')\")\n",
    "db.commit;"
   ]
  },
  {
   "cell_type": "code",
   "execution_count": 152,
   "id": "63464a48",
   "metadata": {},
   "outputs": [
    {
     "data": {
      "text/plain": [
       "[(1, 'cricket', '2021-11-9', 'England'),\n",
       " (2, 'Tennis', '2018-08-02', 'SriLanka'),\n",
       " (3, 'FootBall', '2022-05-30', 'Australia')]"
      ]
     },
     "execution_count": 152,
     "metadata": {},
     "output_type": "execute_result"
    }
   ],
   "source": [
    "results = cur.execute('select * from sports1')\n",
    "\n",
    "results.fetchall()"
   ]
  },
  {
   "cell_type": "markdown",
   "id": "364b94a9",
   "metadata": {},
   "source": [
    "# Employee Database with DB and Python programmatically"
   ]
  },
  {
   "cell_type": "code",
   "execution_count": 185,
   "id": "c78a249d",
   "metadata": {},
   "outputs": [],
   "source": [
    "import sqlite3"
   ]
  },
  {
   "cell_type": "code",
   "execution_count": 186,
   "id": "27a981e6",
   "metadata": {},
   "outputs": [],
   "source": [
    "con = sqlite3.connect(\"E:/MySQLite_Database/emp_database.db\")"
   ]
  },
  {
   "cell_type": "code",
   "execution_count": 189,
   "id": "08bd902e",
   "metadata": {},
   "outputs": [],
   "source": [
    "def sql_table(con):\n",
    "    cur = con.cursor()\n",
    "    cur.execute(\"create table employee10(id integer primary key, name text, salary real,department text, position text, hiredate date)\")\n",
    "    con.commit()"
   ]
  },
  {
   "cell_type": "code",
   "execution_count": 190,
   "id": "b6aee4a3",
   "metadata": {},
   "outputs": [
    {
     "ename": "OperationalError",
     "evalue": "database is locked",
     "output_type": "error",
     "traceback": [
      "\u001b[1;31m---------------------------------------------------------------------------\u001b[0m",
      "\u001b[1;31mOperationalError\u001b[0m                          Traceback (most recent call last)",
      "\u001b[1;32m~\\AppData\\Local\\Temp/ipykernel_1864/1648911848.py\u001b[0m in \u001b[0;36m<module>\u001b[1;34m\u001b[0m\n\u001b[0;32m      1\u001b[0m \u001b[1;31m# calling function\u001b[0m\u001b[1;33m\u001b[0m\u001b[1;33m\u001b[0m\u001b[0m\n\u001b[0;32m      2\u001b[0m \u001b[1;33m\u001b[0m\u001b[0m\n\u001b[1;32m----> 3\u001b[1;33m \u001b[0msql_table\u001b[0m\u001b[1;33m(\u001b[0m\u001b[0mcon\u001b[0m\u001b[1;33m)\u001b[0m\u001b[1;33m\u001b[0m\u001b[1;33m\u001b[0m\u001b[0m\n\u001b[0m",
      "\u001b[1;32m~\\AppData\\Local\\Temp/ipykernel_1864/435055564.py\u001b[0m in \u001b[0;36msql_table\u001b[1;34m(con)\u001b[0m\n\u001b[0;32m      1\u001b[0m \u001b[1;32mdef\u001b[0m \u001b[0msql_table\u001b[0m\u001b[1;33m(\u001b[0m\u001b[0mcon\u001b[0m\u001b[1;33m)\u001b[0m\u001b[1;33m:\u001b[0m\u001b[1;33m\u001b[0m\u001b[1;33m\u001b[0m\u001b[0m\n\u001b[0;32m      2\u001b[0m     \u001b[0mcur\u001b[0m \u001b[1;33m=\u001b[0m \u001b[0mcon\u001b[0m\u001b[1;33m.\u001b[0m\u001b[0mcursor\u001b[0m\u001b[1;33m(\u001b[0m\u001b[1;33m)\u001b[0m\u001b[1;33m\u001b[0m\u001b[1;33m\u001b[0m\u001b[0m\n\u001b[1;32m----> 3\u001b[1;33m     \u001b[0mcur\u001b[0m\u001b[1;33m.\u001b[0m\u001b[0mexecute\u001b[0m\u001b[1;33m(\u001b[0m\u001b[1;34m\"create table employee10(id integer primary key, name text, salary real,department text, position text, hiredate date)\"\u001b[0m\u001b[1;33m)\u001b[0m\u001b[1;33m\u001b[0m\u001b[1;33m\u001b[0m\u001b[0m\n\u001b[0m\u001b[0;32m      4\u001b[0m     \u001b[0mcon\u001b[0m\u001b[1;33m.\u001b[0m\u001b[0mcommit\u001b[0m\u001b[1;33m(\u001b[0m\u001b[1;33m)\u001b[0m\u001b[1;33m\u001b[0m\u001b[1;33m\u001b[0m\u001b[0m\n",
      "\u001b[1;31mOperationalError\u001b[0m: database is locked"
     ]
    }
   ],
   "source": [
    "# calling function\n",
    "\n",
    "sql_table(con)"
   ]
  },
  {
   "cell_type": "code",
   "execution_count": 157,
   "id": "53229e67",
   "metadata": {},
   "outputs": [
    {
     "data": {
      "text/plain": [
       "<sqlite3.Cursor at 0x65e864d7a0>"
      ]
     },
     "execution_count": 157,
     "metadata": {},
     "output_type": "execute_result"
    }
   ],
   "source": [
    "cur = con.cursor()\n",
    "cur.execute(\"insert into employee9 values(1, 'Jack', 9000, 'HR', 'Manager', '2019-07-09')\")"
   ]
  },
  {
   "cell_type": "code",
   "execution_count": 59,
   "id": "9dc4f4a5",
   "metadata": {},
   "outputs": [],
   "source": [
    "con.commit()"
   ]
  },
  {
   "cell_type": "code",
   "execution_count": 158,
   "id": "e21af66d",
   "metadata": {},
   "outputs": [
    {
     "data": {
      "text/plain": [
       "[(1, 'Jack', 9000.0, 'HR', 'Manager', '2019-07-09')]"
      ]
     },
     "execution_count": 158,
     "metadata": {},
     "output_type": "execute_result"
    }
   ],
   "source": [
    "results = cur.execute(\"select * from employee9\")\n",
    "results.fetchall()"
   ]
  },
  {
   "cell_type": "raw",
   "id": "47c92b6b",
   "metadata": {},
   "source": [
    "We can also pass values/arguments to an INSERT statement in the execute() method. You can use the question mark (?) as a placeholder for each value. The syntax of the INSERT will be like the following:"
   ]
  },
  {
   "cell_type": "raw",
   "id": "c3fd912c",
   "metadata": {},
   "source": [
    "cur.execute('''insert into employee9(id, name, salary, department, position, hiredate) \n",
    "values(?, ?, ?, ?, ?, ?)''', entities)\n",
    "\n",
    "entities = (2, 'John', 4000, 'IT', 'Engineer', '2018-02-06')"
   ]
  },
  {
   "cell_type": "code",
   "execution_count": 159,
   "id": "2c7bfa08",
   "metadata": {},
   "outputs": [],
   "source": [
    "def sql_insert(con, entities):\n",
    "    cur = con.cursor()\n",
    "    cur.execute('insert into employee9(id, name, salary, department, position, hiredate) values(?,?,?,?,?,?)', entities)"
   ]
  },
  {
   "cell_type": "code",
   "execution_count": 160,
   "id": "dcf47b2a",
   "metadata": {},
   "outputs": [],
   "source": [
    "entities = (2, 'Andrew', 7000, 'IT', 'Engineer', '2015-04-06')"
   ]
  },
  {
   "cell_type": "code",
   "execution_count": 161,
   "id": "fe7d6e8c",
   "metadata": {},
   "outputs": [],
   "source": [
    "# Calling sql insert to insert the data\n",
    "\n",
    "sql_insert(con, entities)"
   ]
  },
  {
   "cell_type": "code",
   "execution_count": 162,
   "id": "c3e61c74",
   "metadata": {},
   "outputs": [],
   "source": [
    "entities = (3, 'Thomas', 6000, 'HR', 'Manager', '2016-06-14')"
   ]
  },
  {
   "cell_type": "code",
   "execution_count": 163,
   "id": "8b8969d4",
   "metadata": {},
   "outputs": [],
   "source": [
    "sql_insert(con, entities)"
   ]
  },
  {
   "cell_type": "code",
   "execution_count": 164,
   "id": "0006e114",
   "metadata": {},
   "outputs": [
    {
     "data": {
      "text/plain": [
       "[(1, 'Jack', 9000.0, 'HR', 'Manager', '2019-07-09'),\n",
       " (2, 'Andrew', 7000.0, 'IT', 'Engineer', '2015-04-06'),\n",
       " (3, 'Thomas', 6000.0, 'HR', 'Manager', '2016-06-14')]"
      ]
     },
     "execution_count": 164,
     "metadata": {},
     "output_type": "execute_result"
    }
   ],
   "source": [
    "results = cur.execute(\"select * from employee9\")\n",
    "results.fetchall()"
   ]
  },
  {
   "cell_type": "code",
   "execution_count": 165,
   "id": "906ca813",
   "metadata": {},
   "outputs": [],
   "source": [
    "entities = (4, 'Rudolf', 8000, 'IT', 'Engineer', '2012-08-23')\n",
    "\n",
    "sql_insert(con, entities)\n",
    "\n",
    "entities = (5, 'Suzen', 10000, 'Sales', 'Sales Executive', '2018-02-19')\n",
    "\n",
    "sql_insert(con, entities)"
   ]
  },
  {
   "cell_type": "code",
   "execution_count": 166,
   "id": "f47c8154",
   "metadata": {},
   "outputs": [
    {
     "data": {
      "text/plain": [
       "[(1, 'Jack', 9000.0, 'HR', 'Manager', '2019-07-09'),\n",
       " (2, 'Andrew', 7000.0, 'IT', 'Engineer', '2015-04-06'),\n",
       " (3, 'Thomas', 6000.0, 'HR', 'Manager', '2016-06-14'),\n",
       " (4, 'Rudolf', 8000.0, 'IT', 'Engineer', '2012-08-23'),\n",
       " (5, 'Suzen', 10000.0, 'Sales', 'Sales Executive', '2018-02-19')]"
      ]
     },
     "execution_count": 166,
     "metadata": {},
     "output_type": "execute_result"
    }
   ],
   "source": [
    "results = cur.execute(\"select * from employee9\")\n",
    "results.fetchall()"
   ]
  },
  {
   "cell_type": "code",
   "execution_count": 167,
   "id": "32f2a2af",
   "metadata": {},
   "outputs": [],
   "source": [
    "def sql_update(con):\n",
    "    cur = con.cursor()\n",
    "    cur.execute('update employee9 set name=\"Martin\" where id=1')\n",
    "    con.commit()"
   ]
  },
  {
   "cell_type": "code",
   "execution_count": 168,
   "id": "940edf15",
   "metadata": {},
   "outputs": [],
   "source": [
    "sql_update(con)"
   ]
  },
  {
   "cell_type": "code",
   "execution_count": 169,
   "id": "622775ed",
   "metadata": {},
   "outputs": [
    {
     "data": {
      "text/plain": [
       "[(1, 'Martin', 9000.0, 'HR', 'Manager', '2019-07-09'),\n",
       " (2, 'Andrew', 7000.0, 'IT', 'Engineer', '2015-04-06'),\n",
       " (3, 'Thomas', 6000.0, 'HR', 'Manager', '2016-06-14'),\n",
       " (4, 'Rudolf', 8000.0, 'IT', 'Engineer', '2012-08-23'),\n",
       " (5, 'Suzen', 10000.0, 'Sales', 'Sales Executive', '2018-02-19')]"
      ]
     },
     "execution_count": 169,
     "metadata": {},
     "output_type": "execute_result"
    }
   ],
   "source": [
    "results = cur.execute(\"select * from employee9\")\n",
    "results.fetchall()"
   ]
  },
  {
   "cell_type": "code",
   "execution_count": 170,
   "id": "7127b80b",
   "metadata": {},
   "outputs": [
    {
     "data": {
      "text/plain": [
       "[(1, 'Martin'), (5, 'Suzen')]"
      ]
     },
     "execution_count": 170,
     "metadata": {},
     "output_type": "execute_result"
    }
   ],
   "source": [
    "results = cur.execute(\"select id, name from employee9 where salary>8000\")\n",
    "results.fetchall()"
   ]
  },
  {
   "cell_type": "code",
   "execution_count": 171,
   "id": "7729b5ea",
   "metadata": {},
   "outputs": [
    {
     "data": {
      "text/plain": [
       "[(1, 'Martin'), (3, 'Thomas')]"
      ]
     },
     "execution_count": 171,
     "metadata": {},
     "output_type": "execute_result"
    }
   ],
   "source": [
    "results = cur.execute(\"select id, name from employee9 where department in ('HR')\")\n",
    "results.fetchall()"
   ]
  },
  {
   "cell_type": "code",
   "execution_count": 172,
   "id": "f6a5814b",
   "metadata": {},
   "outputs": [
    {
     "data": {
      "text/plain": [
       "(6000.0,)"
      ]
     },
     "execution_count": 172,
     "metadata": {},
     "output_type": "execute_result"
    }
   ],
   "source": [
    "results = cur.execute(\"select min(salary) from employee9\")\n",
    "results.fetchone()"
   ]
  },
  {
   "cell_type": "code",
   "execution_count": 173,
   "id": "bd3a033d",
   "metadata": {},
   "outputs": [
    {
     "data": {
      "text/plain": [
       "(5,)"
      ]
     },
     "execution_count": 173,
     "metadata": {},
     "output_type": "execute_result"
    }
   ],
   "source": [
    "results = cur.execute(\"select count(id) from employee9\")\n",
    "results.fetchone()"
   ]
  },
  {
   "cell_type": "code",
   "execution_count": 174,
   "id": "4fbe19be",
   "metadata": {},
   "outputs": [
    {
     "data": {
      "text/plain": [
       "[('HR',), ('IT',), ('Sales',)]"
      ]
     },
     "execution_count": 174,
     "metadata": {},
     "output_type": "execute_result"
    }
   ],
   "source": [
    "results = cur.execute(\"select distinct(department) from employee9\")\n",
    "results.fetchall()"
   ]
  },
  {
   "cell_type": "code",
   "execution_count": 175,
   "id": "90908d3d",
   "metadata": {},
   "outputs": [
    {
     "data": {
      "text/plain": [
       "[(3,)]"
      ]
     },
     "execution_count": 175,
     "metadata": {},
     "output_type": "execute_result"
    }
   ],
   "source": [
    "results = cur.execute(\"select count(distinct(department)) from employee9\")\n",
    "results.fetchall()"
   ]
  },
  {
   "cell_type": "code",
   "execution_count": 176,
   "id": "02e5a988",
   "metadata": {},
   "outputs": [
    {
     "data": {
      "text/plain": [
       "[(15000.0, 'Engineer'), (15000.0, 'Manager'), (10000.0, 'Sales Executive')]"
      ]
     },
     "execution_count": 176,
     "metadata": {},
     "output_type": "execute_result"
    }
   ],
   "source": [
    "results = cur.execute(\"select sum(salary), position from employee9 group by position\")\n",
    "results.fetchall()"
   ]
  },
  {
   "cell_type": "code",
   "execution_count": 177,
   "id": "fd4eaa62",
   "metadata": {},
   "outputs": [
    {
     "data": {
      "text/plain": [
       "[(15000.0, 'HR'), (15000.0, 'IT'), (10000.0, 'Sales')]"
      ]
     },
     "execution_count": 177,
     "metadata": {},
     "output_type": "execute_result"
    }
   ],
   "source": [
    "results = cur.execute(\"select sum(salary), department from employee9 group by department\")\n",
    "results.fetchall()"
   ]
  },
  {
   "cell_type": "code",
   "execution_count": 178,
   "id": "5f996b8b",
   "metadata": {},
   "outputs": [],
   "source": [
    "def sql_query(sql):\n",
    "    cur = con.cursor()\n",
    "    results = cur.execute(sql)\n",
    "    return results"
   ]
  },
  {
   "cell_type": "code",
   "execution_count": 179,
   "id": "57266f99",
   "metadata": {},
   "outputs": [
    {
     "data": {
      "text/plain": [
       "[(1, 'Martin', 9000.0, 'HR', 'Manager', '2019-07-09'),\n",
       " (2, 'Andrew', 7000.0, 'IT', 'Engineer', '2015-04-06'),\n",
       " (3, 'Thomas', 6000.0, 'HR', 'Manager', '2016-06-14'),\n",
       " (4, 'Rudolf', 8000.0, 'IT', 'Engineer', '2012-08-23'),\n",
       " (5, 'Suzen', 10000.0, 'Sales', 'Sales Executive', '2018-02-19')]"
      ]
     },
     "execution_count": 179,
     "metadata": {},
     "output_type": "execute_result"
    }
   ],
   "source": [
    "# make query\n",
    "sql = \"select * from employee9\"\n",
    "\n",
    "# pass query in function\n",
    "respond = sql_query(sql)\n",
    "respond.fetchall()"
   ]
  },
  {
   "cell_type": "code",
   "execution_count": 180,
   "id": "e0a73405",
   "metadata": {},
   "outputs": [
    {
     "data": {
      "text/plain": [
       "[(1, 'Martin', 'Manager'),\n",
       " (2, 'Andrew', 'Engineer'),\n",
       " (3, 'Thomas', 'Manager'),\n",
       " (4, 'Rudolf', 'Engineer'),\n",
       " (5, 'Suzen', 'Sales Executive')]"
      ]
     },
     "execution_count": 180,
     "metadata": {},
     "output_type": "execute_result"
    }
   ],
   "source": [
    "sql = \"select id, name, position from employee9\"\n",
    "\n",
    "# pass query in function\n",
    "respond = sql_query(sql)\n",
    "respond.fetchall()"
   ]
  },
  {
   "cell_type": "markdown",
   "id": "33e5c81d",
   "metadata": {},
   "source": [
    "# SQLite3 Executemany (Bulk insert)"
   ]
  },
  {
   "cell_type": "markdown",
   "id": "47a019aa",
   "metadata": {},
   "source": [
    "We can use the executemany statement to insert multiple rows at once."
   ]
  },
  {
   "cell_type": "code",
   "execution_count": 181,
   "id": "6c2212d2",
   "metadata": {},
   "outputs": [],
   "source": [
    "entities = [(4, 'Joseph', 4000, 'Account', 'CA', '2016-12-05'), (5, 'Maria', 10000, 'Sales', 'Sales Executive', '2018-05-25')]"
   ]
  },
  {
   "cell_type": "code",
   "execution_count": 184,
   "id": "9aa3bac0",
   "metadata": {},
   "outputs": [
    {
     "ename": "IntegrityError",
     "evalue": "UNIQUE constraint failed: employee9.id",
     "output_type": "error",
     "traceback": [
      "\u001b[1;31m---------------------------------------------------------------------------\u001b[0m",
      "\u001b[1;31mIntegrityError\u001b[0m                            Traceback (most recent call last)",
      "\u001b[1;32m~\\AppData\\Local\\Temp/ipykernel_1864/1165720901.py\u001b[0m in \u001b[0;36m<module>\u001b[1;34m\u001b[0m\n\u001b[1;32m----> 1\u001b[1;33m \u001b[0mcur\u001b[0m\u001b[1;33m.\u001b[0m\u001b[0mexecutemany\u001b[0m\u001b[1;33m(\u001b[0m\u001b[1;34m'insert into employee9(id, name, salary, department, position, hiredate) values(?,?,?,?,?,?)'\u001b[0m\u001b[1;33m,\u001b[0m \u001b[0mentities\u001b[0m\u001b[1;33m)\u001b[0m\u001b[1;33m\u001b[0m\u001b[1;33m\u001b[0m\u001b[0m\n\u001b[0m",
      "\u001b[1;31mIntegrityError\u001b[0m: UNIQUE constraint failed: employee9.id"
     ]
    }
   ],
   "source": [
    "cur.executemany('insert into employee9(id, name, salary, department, position, hiredate) values(?,?,?,?,?,?)', entities)"
   ]
  },
  {
   "cell_type": "code",
   "execution_count": 183,
   "id": "35b6d85e",
   "metadata": {},
   "outputs": [
    {
     "name": "stdout",
     "output_type": "stream",
     "text": [
      "(1, 'Martin', 9000.0, 'HR', 'Manager', '2019-07-09')\n",
      "(2, 'Andrew', 7000.0, 'IT', 'Engineer', '2015-04-06')\n",
      "(3, 'Thomas', 6000.0, 'HR', 'Manager', '2016-06-14')\n",
      "(4, 'Rudolf', 8000.0, 'IT', 'Engineer', '2012-08-23')\n",
      "(5, 'Suzen', 10000.0, 'Sales', 'Sales Executive', '2018-02-19')\n"
     ]
    }
   ],
   "source": [
    "results = cur.execute(\"select * from employee9\")\n",
    "\n",
    "for row in results:\n",
    "    print(row)"
   ]
  },
  {
   "cell_type": "code",
   "execution_count": 53,
   "id": "28018a06",
   "metadata": {},
   "outputs": [],
   "source": [
    "con.close()"
   ]
  },
  {
   "cell_type": "markdown",
   "id": "fc34cca2",
   "metadata": {},
   "source": [
    "# Referential Integrity"
   ]
  },
  {
   "cell_type": "markdown",
   "id": "1feb0efb",
   "metadata": {},
   "source": [
    "Referntial integrity is used to maintain the data consistency between two tables. Rules are made in the database structure about how foreign keys should be used to ensure that changes, addition and deletion in the database maintain the data integrity. The refential integrity constraints state that if a foreign key in the first table refers to the primary key of the second table, then every value of foreign key in the first table should either be null or present in the second table."
   ]
  },
  {
   "cell_type": "raw",
   "id": "43bcee9f",
   "metadata": {},
   "source": [
    "Student (First Table)\n",
    "\n",
    "Roll No.          Student_name          Age          Course_id ----------------------> Foreign Key\n",
    "   \n",
    "    1               Andrew              18              78                             This value is not allowed because this\n",
    "    2               Angel               19              16 --------------------------> value is not defined is a primary key in\n",
    "    3               Priya               20              56                             the course table.\n",
    "    4               Analisa             21                 --------------------------> The value can be NULL as the student         |                                                                                  (Analisa) may not have taken any             |                                                                                  course.\n",
    "    |\n",
    "    |\n",
    "Primary Key"
   ]
  },
  {
   "cell_type": "raw",
   "id": "6c2de4e4",
   "metadata": {},
   "source": [
    "Course (Second Table)\n",
    "\n",
    "Course_id          Course_name          Duration(months)\n",
    "    \n",
    "    78              Big Data                 4\n",
    "    56              Algorithm                2\n",
    "    |\n",
    "    |\n",
    "    |\n",
    "    |\n",
    "Primary Key"
   ]
  },
  {
   "cell_type": "code",
   "execution_count": 87,
   "id": "24b4306e",
   "metadata": {},
   "outputs": [],
   "source": [
    "import sqlite3"
   ]
  },
  {
   "cell_type": "code",
   "execution_count": 88,
   "id": "3d9d84d2",
   "metadata": {},
   "outputs": [],
   "source": [
    "db = sqlite3.connect(\"E:/MySQLite_DataBase/student_course_database.db\")"
   ]
  },
  {
   "cell_type": "code",
   "execution_count": 89,
   "id": "cc908ca3",
   "metadata": {},
   "outputs": [],
   "source": [
    "cur = db.cursor()"
   ]
  },
  {
   "cell_type": "raw",
   "id": "487c68bc",
   "metadata": {},
   "source": [
    "constraints -----\n",
    "unique -- enter only unique values, no duplicate values\n",
    "not null -- no blank values can be inserted in table"
   ]
  },
  {
   "cell_type": "code",
   "execution_count": 90,
   "id": "7ea0871b",
   "metadata": {},
   "outputs": [
    {
     "data": {
      "text/plain": [
       "<sqlite3.Cursor at 0xd14aa78730>"
      ]
     },
     "execution_count": 90,
     "metadata": {},
     "output_type": "execute_result"
    }
   ],
   "source": [
    "cur.execute(\"create table course(courseid int primary key, coursename text, duration int)\")"
   ]
  },
  {
   "cell_type": "code",
   "execution_count": 93,
   "id": "d8d37097",
   "metadata": {},
   "outputs": [
    {
     "data": {
      "text/plain": [
       "<sqlite3.Cursor at 0xd14aa78730>"
      ]
     },
     "execution_count": 93,
     "metadata": {},
     "output_type": "execute_result"
    }
   ],
   "source": [
    "cur.execute(\"create table student(roll_no int primary key, studentname text, age int, courseid int, foreign key(courseid) references course(courseid))\")"
   ]
  },
  {
   "cell_type": "code",
   "execution_count": 94,
   "id": "2392fc78",
   "metadata": {},
   "outputs": [
    {
     "name": "stdout",
     "output_type": "stream",
     "text": [
      "3 record(s) inserted\n"
     ]
    }
   ],
   "source": [
    "cur.execute(\"insert into course values(78, 'Data science', 12), (56, 'Python course', 4), (101, 'Database', 7)\")\n",
    "\n",
    "print(cur.rowcount, \"record(s) inserted\")\n",
    "\n",
    "db.commit;"
   ]
  },
  {
   "cell_type": "code",
   "execution_count": 95,
   "id": "e661255e",
   "metadata": {},
   "outputs": [
    {
     "name": "stdout",
     "output_type": "stream",
     "text": [
      "4 record(s) inserted\n"
     ]
    }
   ],
   "source": [
    "cur.execute(\"insert into student values(1, 'Jack', 22, 78), (2, 'John', 21, 56), (3, 'Rudolf', 18, 78), (4, 'Jim', 21, 56)\")\n",
    "\n",
    "print(cur.rowcount, \"record(s) inserted\")\n",
    "\n",
    "db.commit;"
   ]
  },
  {
   "cell_type": "code",
   "execution_count": 98,
   "id": "16e24908",
   "metadata": {},
   "outputs": [
    {
     "data": {
      "text/plain": [
       "[(78, 'Data science', 12), (56, 'Python course', 4), (101, 'Database', 7)]"
      ]
     },
     "execution_count": 98,
     "metadata": {},
     "output_type": "execute_result"
    }
   ],
   "source": [
    "results = cur.execute(\"select * from course\")\n",
    "\n",
    "results.fetchall()"
   ]
  },
  {
   "cell_type": "code",
   "execution_count": 97,
   "id": "80789440",
   "metadata": {},
   "outputs": [
    {
     "data": {
      "text/plain": [
       "[(1, 'Jack', 22, 78),\n",
       " (2, 'John', 21, 56),\n",
       " (3, 'Rudolf', 18, 78),\n",
       " (4, 'Jim', 21, 56)]"
      ]
     },
     "execution_count": 97,
     "metadata": {},
     "output_type": "execute_result"
    }
   ],
   "source": [
    "results = cur.execute(\"select * from student\")\n",
    "\n",
    "results.fetchall()"
   ]
  },
  {
   "cell_type": "code",
   "execution_count": 99,
   "id": "ed1a9722",
   "metadata": {},
   "outputs": [
    {
     "name": "stdout",
     "output_type": "stream",
     "text": [
      "(78,)\n"
     ]
    }
   ],
   "source": [
    "results = cur.execute('select courseid from course where coursename=\"Data science\"')\n",
    "\n",
    "for i in results:\n",
    "    print(i)"
   ]
  },
  {
   "cell_type": "markdown",
   "id": "6006f156",
   "metadata": {},
   "source": [
    "# Subquery"
   ]
  },
  {
   "cell_type": "code",
   "execution_count": 100,
   "id": "de304703",
   "metadata": {},
   "outputs": [
    {
     "data": {
      "text/plain": [
       "[(1, 'Jack', 22, 78), (3, 'Rudolf', 18, 78)]"
      ]
     },
     "execution_count": 100,
     "metadata": {},
     "output_type": "execute_result"
    }
   ],
   "source": [
    "results = cur.execute('select * from student where courseid= (select courseid from course where coursename=\"Data science\")')\n",
    "\n",
    "results.fetchall()"
   ]
  },
  {
   "cell_type": "code",
   "execution_count": 101,
   "id": "5e69a8fc",
   "metadata": {},
   "outputs": [
    {
     "data": {
      "text/plain": [
       "[(2, 'John', 21, 56), (4, 'Jim', 21, 56)]"
      ]
     },
     "execution_count": 101,
     "metadata": {},
     "output_type": "execute_result"
    }
   ],
   "source": [
    "results = cur.execute('select * from student where courseid= (select courseid from course where coursename=\"Python course\")')\n",
    "\n",
    "results.fetchall()"
   ]
  },
  {
   "cell_type": "markdown",
   "id": "14b3e829",
   "metadata": {},
   "source": [
    "# Join"
   ]
  },
  {
   "cell_type": "markdown",
   "id": "55438a33",
   "metadata": {},
   "source": [
    "<b>Different types of SQL JOINs</b>"
   ]
  },
  {
   "cell_type": "markdown",
   "id": "b91185d2",
   "metadata": {},
   "source": [
    "* (INNER) JOIN : Returns records that have matching values in both tables\n",
    "* LEFT (OUTER) JOIN : Returns all records from the left table, and the matched records from the right table\n",
    "* RIGHT (OUTER) JOIN : Returns all records from the right table, and the matched records from the left table \n",
    "* FULL (OUTER) JOIN : Returns all records when there is a match left or right table"
   ]
  },
  {
   "cell_type": "raw",
   "id": "01fe8a74",
   "metadata": {},
   "source": [
    "\n",
    "\n",
    "\n",
    "\n",
    "\n",
    "\n",
    "\n"
   ]
  },
  {
   "cell_type": "markdown",
   "id": "d43a5bad",
   "metadata": {},
   "source": [
    "# INNER JOIN"
   ]
  },
  {
   "cell_type": "code",
   "execution_count": 104,
   "id": "59f22b55",
   "metadata": {},
   "outputs": [
    {
     "name": "stdout",
     "output_type": "stream",
     "text": [
      "(1, 'Jack', 78, 'Data science')\n",
      "(2, 'John', 56, 'Python course')\n",
      "(3, 'Rudolf', 78, 'Data science')\n",
      "(4, 'Jim', 56, 'Python course')\n"
     ]
    }
   ],
   "source": [
    "sql = \"SELECT student.roll_no, student.studentname, course.courseid, course.coursename FROM student INNER JOIN course ON student.courseid = course.courseid\"\n",
    "\n",
    "results = cur.execute(sql)\n",
    "for row in results:\n",
    "    print(row)"
   ]
  },
  {
   "cell_type": "markdown",
   "id": "1a4277e9",
   "metadata": {},
   "source": [
    "# LEFT JOIN"
   ]
  },
  {
   "cell_type": "code",
   "execution_count": 105,
   "id": "ce755aa1",
   "metadata": {},
   "outputs": [
    {
     "name": "stdout",
     "output_type": "stream",
     "text": [
      "(1, 'Jack', 78, 'Data science')\n",
      "(2, 'John', 56, 'Python course')\n",
      "(3, 'Rudolf', 78, 'Data science')\n",
      "(4, 'Jim', 56, 'Python course')\n"
     ]
    }
   ],
   "source": [
    "sql = \"SELECT student.roll_no, student.studentname, course.courseid, course.coursename FROM student LEFT JOIN course ON student.courseid = course.courseid\"\n",
    "\n",
    "results = cur.execute(sql)\n",
    "for row in results:\n",
    "    print(row)"
   ]
  },
  {
   "cell_type": "code",
   "execution_count": 108,
   "id": "1139585d",
   "metadata": {},
   "outputs": [
    {
     "name": "stdout",
     "output_type": "stream",
     "text": [
      "(1, 'Jack', 78, 'Data science')\n",
      "(3, 'Rudolf', 78, 'Data science')\n",
      "(2, 'John', 56, 'Python course')\n",
      "(4, 'Jim', 56, 'Python course')\n",
      "(None, None, 101, 'Database')\n"
     ]
    }
   ],
   "source": [
    "sql = \"SELECT student.roll_no, student.studentname, course.courseid, course.coursename FROM course LEFT JOIN student ON student.courseid = course.courseid\"\n",
    "\n",
    "results = cur.execute(sql)\n",
    "for row in results:\n",
    "    print(row)"
   ]
  },
  {
   "cell_type": "code",
   "execution_count": null,
   "id": "5c8d6c2a",
   "metadata": {},
   "outputs": [],
   "source": [
    "RIGHT JOIN and FULL OUTER JOIN NOT SUPPORTED IN SQLITE"
   ]
  }
 ],
 "metadata": {
  "kernelspec": {
   "display_name": "Python 3 (ipykernel)",
   "language": "python",
   "name": "python3"
  },
  "language_info": {
   "codemirror_mode": {
    "name": "ipython",
    "version": 3
   },
   "file_extension": ".py",
   "mimetype": "text/x-python",
   "name": "python",
   "nbconvert_exporter": "python",
   "pygments_lexer": "ipython3",
   "version": "3.9.7"
  }
 },
 "nbformat": 4,
 "nbformat_minor": 5
}
